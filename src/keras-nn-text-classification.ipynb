{
  "cells": [
    {
      "cell_type": "markdown",
      "metadata": {
        "id": "aLNg_Puse6EX"
      },
      "source": [
        "In this notebook we will demonstrate different text classification models trained using the IMDB reviews dataset. "
      ]
    },
    {
      "cell_type": "code",
      "execution_count": 1,
      "metadata": {
        "colab": {
          "base_uri": "https://localhost:8080/"
        },
        "id": "eOJLveJqtEO3",
        "outputId": "067a74b2-c5df-464d-a3fa-3f4517a9090a"
      },
      "outputs": [
        {
          "data": {
            "text/plain": [
              "'\\n!pip install numpy==1.19.5\\n!pip install wget==3.2\\n!pip install tensorflow==1.14.0\\n'"
            ]
          },
          "execution_count": 1,
          "metadata": {},
          "output_type": "execute_result"
        }
      ],
      "source": [
        "# To install only the requirements of this notebook, uncomment the lines below and run this cell\n",
        "\n",
        "# ===========================\n",
        "\"\"\"\n",
        "!pip install numpy==1.19.5\n",
        "!pip install wget==3.2\n",
        "!pip install tensorflow==1.14.0\n",
        "\"\"\"\n",
        "\n",
        "#!pip install numpy wget tensorflow tensorflow_datasets\n",
        "\n",
        "# ===========================\n",
        "\n",
        "#started off from: https://github.com/keras-team/keras/blob/master/examples/pretrained_word_embeddings.py\n",
        "#and from: https://github.com/keras-team/keras/blob/master/examples/imdb_lstm.py"
      ]
    },
    {
      "cell_type": "code",
      "execution_count": 2,
      "metadata": {
        "id": "xqUcb7NBb5--"
      },
      "outputs": [],
      "source": [
        "#Make the necessary imports\n",
        "import os\n",
        "import sys\n",
        "import numpy as np\n",
        "import tarfile\n",
        "import wget\n",
        "import warnings\n",
        "warnings.filterwarnings(\"ignore\") \n",
        "from zipfile import ZipFile\n",
        "from tensorflow.keras.preprocessing.text import Tokenizer\n",
        "from tensorflow.keras.preprocessing.sequence import pad_sequences\n",
        "from tensorflow.keras.utils import to_categorical\n",
        "from tensorflow.keras.layers import Dense, Input, GlobalMaxPooling1D\n",
        "from tensorflow.keras.layers import Conv1D, MaxPooling1D, Embedding, LSTM\n",
        "from tensorflow.keras.models import Model, Sequential\n",
        "from tensorflow.keras.initializers import Constant"
      ]
    },
    {
      "cell_type": "markdown",
      "metadata": {
        "id": "0MqW5vWwfiCP"
      },
      "source": [
        "Here we set all the paths of all the external datasets and models such as [glove](https://nlp.stanford.edu/projects/glove/) and [IMDB reviews dataset](http://ai.stanford.edu/~amaas/data/sentiment/)."
      ]
    },
    {
      "cell_type": "code",
      "execution_count": 3,
      "metadata": {
        "id": "qvl1qb78fUib"
      },
      "outputs": [
        {
          "name": "stdout",
          "output_type": "stream",
          "text": [
            "[1, 14, 22, 16, 43, 530, 973, 1622, 1385, 65, 458, 4468, 66, 3941, 4, 173, 36, 256, 5, 25, 100, 43, 838, 112, 50, 670, 2, 9, 35, 480, 284, 5, 150, 4, 172, 112, 167, 2, 336, 385, 39, 4, 172, 4536, 1111, 17, 546, 38, 13, 447, 4, 192, 50, 16, 6, 147, 2025, 19, 14, 22, 4, 1920, 4613, 469, 4, 22, 71, 87, 12, 16, 43, 530, 38, 76, 15, 13, 1247, 4, 22, 17, 515, 17, 12, 16, 626, 18, 2, 5, 62, 386, 12, 8, 316, 8, 106, 5, 4, 2223, 5244, 16, 480, 66, 3785, 33, 4, 130, 12, 16, 38, 619, 5, 25, 124, 51, 36, 135, 48, 25, 1415, 33, 6, 22, 12, 215, 28, 77, 52, 5, 14, 407, 16, 82, 2, 8, 4, 107, 117, 5952, 15, 256, 4, 2, 7, 3766, 5, 723, 36, 71, 43, 530, 476, 26, 400, 317, 46, 7, 4, 2, 1029, 13, 104, 88, 4, 381, 15, 297, 98, 32, 2071, 56, 26, 141, 6, 194, 7486, 18, 4, 226, 22, 21, 134, 476, 26, 480, 5, 144, 30, 5535, 18, 51, 36, 28, 224, 92, 25, 104, 4, 226, 65, 16, 38, 1334, 88, 12, 16, 283, 5, 16, 4472, 113, 103, 32, 15, 16, 5345, 19, 178, 32]\n",
            "GLOVE_DIR:  ../../layer-cake/.vector_cache/GloVe\n",
            "TRAIN_DATA_DIR:  ../datasets/IMDB//train\n",
            "TEST_DATA_DIR:  ../datasets/IMDB//test\n"
          ]
        }
      ],
      "source": [
        "from tensorflow.keras.datasets import imdb\n",
        "\n",
        "MAX_WORDS = 10000\n",
        "\n",
        "# Load the IMDb dataset\n",
        "(train_data, train_labels), (test_data, test_labels) = imdb.load_data(num_words=MAX_WORDS)\n",
        "\n",
        "# The data comes preprocessed as sequences of word indices.\n",
        "print(train_data[0])  # This will print an integer-encoded review\n",
        "\n",
        "\n",
        "BASE_DIR = '../../layer-cake/.vector_cache/'\n",
        "\n",
        "DATA_DIR = '../datasets/IMDB/'\n",
        "\n",
        "GLOVE_DIR = os.path.join(BASE_DIR, 'GloVe')\n",
        "\n",
        "TRAIN_DATA_DIR = DATA_DIR + '/train'\n",
        "TEST_DATA_DIR = DATA_DIR + '/test'\n",
        "\n",
        "print(\"GLOVE_DIR: \", GLOVE_DIR)\n",
        "print(\"TRAIN_DATA_DIR: \", TRAIN_DATA_DIR)\n",
        "print(\"TEST_DATA_DIR: \", TEST_DATA_DIR)\n",
        "\n",
        "#Within these, I only have a pos/ and a neg/ folder containing text files \n",
        "MAX_SEQUENCE_LENGTH = 1000\n",
        "MAX_NUM_WORDS = 20000 \n",
        "EMBEDDING_DIM = 100 \n",
        "VALIDATION_SPLIT = 0.2"
      ]
    },
    {
      "cell_type": "markdown",
      "metadata": {
        "id": "EmifkoA8b5_N"
      },
      "source": [
        "### Loading and Preprocessing\n",
        " "
      ]
    },
    {
      "cell_type": "code",
      "execution_count": 4,
      "metadata": {
        "id": "WI4O1usEb5_O"
      },
      "outputs": [
        {
          "name": "stdout",
          "output_type": "stream",
          "text": [
            "train_texts[0]: [1, 14, 22, 16, 43, 530, 973, 1622, 1385, 65, 458, 4468, 66, 3941, 4, 173, 36, 256, 5, 25, 100, 43, 838, 112, 50, 670, 2, 9, 35, 480, 284, 5, 150, 4, 172, 112, 167, 2, 336, 385, 39, 4, 172, 4536, 1111, 17, 546, 38, 13, 447, 4, 192, 50, 16, 6, 147, 2025, 19, 14, 22, 4, 1920, 4613, 469, 4, 22, 71, 87, 12, 16, 43, 530, 38, 76, 15, 13, 1247, 4, 22, 17, 515, 17, 12, 16, 626, 18, 2, 5, 62, 386, 12, 8, 316, 8, 106, 5, 4, 2223, 5244, 16, 480, 66, 3785, 33, 4, 130, 12, 16, 38, 619, 5, 25, 124, 51, 36, 135, 48, 25, 1415, 33, 6, 22, 12, 215, 28, 77, 52, 5, 14, 407, 16, 82, 2, 8, 4, 107, 117, 5952, 15, 256, 4, 2, 7, 3766, 5, 723, 36, 71, 43, 530, 476, 26, 400, 317, 46, 7, 4, 2, 1029, 13, 104, 88, 4, 381, 15, 297, 98, 32, 2071, 56, 26, 141, 6, 194, 7486, 18, 4, 226, 22, 21, 134, 476, 26, 480, 5, 144, 30, 5535, 18, 51, 36, 28, 224, 92, 25, 104, 4, 226, 65, 16, 38, 1334, 88, 12, 16, 283, 5, 16, 4472, 113, 103, 32, 15, 16, 5345, 19, 178, 32]\n",
            "train_labels[0] 1\n",
            "test_texts[24999]: [1, 6, 52, 7465, 430, 22, 9, 220, 2594, 8, 28, 2, 519, 3227, 6, 769, 15, 47, 6, 3482, 4067, 8, 114, 5, 33, 222, 31, 55, 184, 704, 5586, 2, 19, 346, 3153, 5, 6, 364, 350, 4, 184, 5586, 9, 133, 1810, 11, 5417, 2, 21, 4, 7298, 2, 570, 50, 2005, 2643, 9, 6, 1249, 17, 6, 2, 2, 21, 17, 6, 1211, 232, 1138, 2249, 29, 266, 56, 96, 346, 194, 308, 9, 194, 21, 29, 218, 1078, 19, 4, 78, 173, 7, 27, 2, 5698, 3406, 718, 2, 9, 6, 6907, 17, 210, 5, 3281, 5677, 47, 77, 395, 14, 172, 173, 18, 2740, 2931, 4517, 82, 127, 27, 173, 11, 6, 392, 217, 21, 50, 9, 57, 65, 12, 2, 53, 40, 35, 390, 7, 11, 4, 3567, 7, 4, 314, 74, 6, 792, 22, 2, 19, 714, 727, 5205, 382, 4, 91, 6533, 439, 19, 14, 20, 9, 1441, 5805, 1118, 4, 756, 25, 124, 4, 31, 12, 16, 93, 804, 34, 2005, 2643]\n",
            "test_labels[24999]: 0\n"
          ]
        }
      ],
      "source": [
        "#Function to load the data from the dataset into the notebook. Will be called twice - for train and test.\n",
        "\"\"\"\n",
        "def get_data(data_dir):\n",
        "    texts = []  # list of text samples\n",
        "    labels_index = {'pos':1, 'neg':0}  # dictionary mapping label name to numeric id\n",
        "    labels = []  # list of label ids\n",
        "    for name in sorted(os.listdir(data_dir)):\n",
        "        path = os.path.join(data_dir, name)\n",
        "        if os.path.isdir(path):\n",
        "            if name=='pos' or name=='neg':\n",
        "                label_id = labels_index[name]\n",
        "                for fname in sorted(os.listdir(path)):\n",
        "                        fpath = os.path.join(path, fname)\n",
        "                        text = open(fpath,encoding='utf8').read()\n",
        "                        texts.append(text)\n",
        "                        labels.append(label_id)\n",
        "    return texts, labels\n",
        "\n",
        "train_texts, train_labels = get_data(TRAIN_DATA_DIR)\n",
        "test_texts, test_labels = get_data(TEST_DATA_DIR)\n",
        "\"\"\"\n",
        "\n",
        "train_texts, train_labels = train_data, train_labels\n",
        "test_texts, test_labels = test_data, test_labels\n",
        "\n",
        "labels_index = {'pos':1, 'neg':0} \n",
        "\n",
        "#Just to see how the data looks like. \n",
        "print(\"train_texts[0]:\", train_texts[0])\n",
        "print(\"train_labels[0]\", train_labels[0])\n",
        "\n",
        "print(\"test_texts[24999]:\", test_texts[24999])\n",
        "print(\"test_labels[24999]:\", test_labels[24999])"
      ]
    },
    {
      "cell_type": "code",
      "execution_count": 5,
      "metadata": {},
      "outputs": [
        {
          "data": {
            "text/plain": [
              "'\\nimport tensorflow_datasets as tfds\\n\\n# Load the IMDb dataset\\nimdb_data = tfds.load(\"imdb_reviews\", as_supervised=True)\\n\\n# Split the data into train and test sets\\ntrain_data, test_data = imdb_data[\\'train\\'], imdb_data[\\'test\\']\\n\\n# Extract the reviews and labels from the dataset (decode from bytes)\\ntrain_texts = [text.decode(\\'utf-8\\') for text, label in tfds.as_numpy(train_data)]\\ntest_texts = [text.decode(\\'utf-8\\') for text, label in tfds.as_numpy(test_data)]\\n\\n# Extract the labels\\ntrain_labels = [label for text, label in tfds.as_numpy(train_data)]\\ntest_labels = [label for text, label in tfds.as_numpy(test_data)]\\n\\nnum_classes = 2\\nprint(\"num_classes:\", num_classes)\\n\\n# Get the class names from the 20 Newsgroups dataset\\nclass_names = [\\'neg\\', \\'pos\\']\\n\\ny_train = train_labels\\ny_test = test_labels\\n\\ny_train = to_categorical(y_train, num_classes)\\ny_test = to_categorical(y_test, num_classes)\\n\\nclassification_type = \\'singlelabel\\'\\n'"
            ]
          },
          "execution_count": 5,
          "metadata": {},
          "output_type": "execute_result"
        }
      ],
      "source": [
        "#\n",
        "# prep IMDB data\n",
        "# \n",
        "\n",
        "\"\"\"\n",
        "import tensorflow_datasets as tfds\n",
        "\n",
        "# Load the IMDb dataset\n",
        "imdb_data = tfds.load(\"imdb_reviews\", as_supervised=True)\n",
        "\n",
        "# Split the data into train and test sets\n",
        "train_data, test_data = imdb_data['train'], imdb_data['test']\n",
        "\n",
        "# Extract the reviews and labels from the dataset (decode from bytes)\n",
        "train_texts = [text.decode('utf-8') for text, label in tfds.as_numpy(train_data)]\n",
        "test_texts = [text.decode('utf-8') for text, label in tfds.as_numpy(test_data)]\n",
        "\n",
        "# Extract the labels\n",
        "train_labels = [label for text, label in tfds.as_numpy(train_data)]\n",
        "test_labels = [label for text, label in tfds.as_numpy(test_data)]\n",
        "\n",
        "num_classes = 2\n",
        "print(\"num_classes:\", num_classes)\n",
        "\n",
        "# Get the class names from the 20 Newsgroups dataset\n",
        "class_names = ['neg', 'pos']\n",
        "\n",
        "y_train = train_labels\n",
        "y_test = test_labels\n",
        "\n",
        "y_train = to_categorical(y_train, num_classes)\n",
        "y_test = to_categorical(y_test, num_classes)\n",
        "\n",
        "classification_type = 'singlelabel'\n",
        "\"\"\""
      ]
    },
    {
      "cell_type": "code",
      "execution_count": 6,
      "metadata": {},
      "outputs": [
        {
          "name": "stdout",
          "output_type": "stream",
          "text": [
            "train_texts: <class 'list'> 11314\n",
            "train_texts[0]: <class 'str'> I was wondering if anyone out there could enlighten me on this car I saw\n",
            "the other day. It was a 2-door sports car, looked to be from the late 60s/\n",
            "early 70s. It was called a Bricklin. The doors were really small. In addition,\n",
            "the front bumper was separate from the rest of the body. This is \n",
            "all I know. If anyone can tellme a model name, engine specs, years\n",
            "of production, where this car is made, history, or whatever info you\n",
            "have on this funky looking car, please e-mail.\n",
            "test_texts: <class 'list'> 7532\n",
            "test_texts[0]: <class 'str'> I am a little confused on all of the models of the 88-89 bonnevilles.\n",
            "I have heard of the LE SE LSE SSE SSEI. Could someone tell me the\n",
            "differences are far as features or performance. I am also curious to\n",
            "know what the book value is for prefereably the 89 model. And how much\n",
            "less than book value can you usually get them for. In other words how\n",
            "much are they in demand this time of year. I have heard that the mid-spring\n",
            "early summer is the best time to buy.\n"
          ]
        }
      ],
      "source": [
        "from sklearn.datasets import fetch_20newsgroups\n",
        "\n",
        "MAX_WORDS=20000\n",
        "MAX_FEATURES=MAX_WORDS\n",
        "\n",
        "TRAIN_TEST_SPLIT = 0.2\n",
        "VALIDATION_SPLIT = 0.2\n",
        "\n",
        "# Fetch the data with return_X_y=True returns a tuple (data, labels)\n",
        "train_data, train_labels = fetch_20newsgroups(subset='train', remove=('headers', 'footers', 'quotes'), return_X_y=True)\n",
        "test_data, test_labels = fetch_20newsgroups(subset='test', remove=('headers', 'footers', 'quotes'), return_X_y=True)\n",
        "\n",
        "# Now, train_data and test_data contain the raw text\n",
        "train_texts = train_data\n",
        "test_texts = test_data\n",
        "\n",
        "# Now, train_texts and test_texts can be fed into a tokenizer.\n",
        "print(\"train_texts:\", type(train_texts), len(train_texts))\n",
        "print(\"train_texts[0]:\", type(train_texts[0]), train_texts[0])\n",
        "\n",
        "print(\"test_texts:\", type(test_texts), len(test_texts))\n",
        "print(\"test_texts[0]:\", type(test_texts[0]), test_texts[0])"
      ]
    },
    {
      "cell_type": "code",
      "execution_count": 7,
      "metadata": {},
      "outputs": [
        {
          "name": "stdout",
          "output_type": "stream",
          "text": [
            "train_labels: <class 'list'> 11314\n",
            "train_labels[0]: <class 'int'> 7\n",
            "test_labels: <class 'list'> 7532\n",
            "test_labels[0]: <class 'int'> 7\n",
            "num_classes: 20\n",
            "class_names: ['alt.atheism', 'comp.graphics', 'comp.os.ms-windows.misc', 'comp.sys.ibm.pc.hardware', 'comp.sys.mac.hardware', 'comp.windows.x', 'misc.forsale', 'rec.autos', 'rec.motorcycles', 'rec.sport.baseball', 'rec.sport.hockey', 'sci.crypt', 'sci.electronics', 'sci.med', 'sci.space', 'soc.religion.christian', 'talk.politics.guns', 'talk.politics.mideast', 'talk.politics.misc', 'talk.religion.misc']\n",
            "y_train: <class 'numpy.ndarray'> (11314, 20)\n",
            "y_train[0]: <class 'numpy.ndarray'> (20,)\n",
            "y_train[0]: [0. 0. 0. 0. 0. 0. 0. 1. 0. 0. 0. 0. 0. 0. 0. 0. 0. 0. 0. 0.]\n",
            "y_test: <class 'numpy.ndarray'> (7532, 20)\n",
            "y_test[0]: <class 'numpy.ndarray'> (20,)\n",
            "y_test[0]: [0. 0. 0. 0. 0. 0. 0. 1. 0. 0. 0. 0. 0. 0. 0. 0. 0. 0. 0. 0.]\n"
          ]
        }
      ],
      "source": [
        "import numpy as np\n",
        "from sklearn.datasets import fetch_20newsgroups\n",
        "from tensorflow.keras.utils import to_categorical\n",
        "\n",
        "# Fetch the dataset\n",
        "train_data, train_labels = fetch_20newsgroups(subset='train', remove=('headers', 'footers', 'quotes'), return_X_y=True)\n",
        "test_data, test_labels = fetch_20newsgroups(subset='test', remove=('headers', 'footers', 'quotes'), return_X_y=True)\n",
        "\n",
        "# Convert labels to numpy.int64\n",
        "train_labels = train_labels.tolist()\n",
        "test_labels = test_labels.tolist()\n",
        "\n",
        "# Print the types and values\n",
        "print(\"train_labels:\", type(train_labels), len(train_labels))\n",
        "print(\"train_labels[0]:\", type(train_labels[0]), train_labels[0])\n",
        "\n",
        "print(\"test_labels:\", type(test_labels), len(test_labels))\n",
        "print(\"test_labels[0]:\", type(test_labels[0]), test_labels[0])\n",
        "\n",
        "num_classes = 20\n",
        "print(\"num_classes:\", num_classes)\n",
        "\n",
        "# Get the class names from the 20 Newsgroups dataset\n",
        "class_names = fetch_20newsgroups(subset='train', remove=('headers', 'footers', 'quotes')).target_names\n",
        "print(\"class_names:\", class_names)\n",
        "\n",
        "# One-hot encode the labels\n",
        "y_train = to_categorical(train_labels, num_classes)\n",
        "y_test = to_categorical(test_labels, num_classes)\n",
        "\n",
        "# Print the shape and type of one-hot encoded labels\n",
        "print(\"y_train:\", type(y_train), y_train.shape)\n",
        "print(\"y_train[0]:\", type(y_train[0]), y_train[0].shape)\n",
        "print(\"y_train[0]:\", y_train[0])\n",
        "\n",
        "print(\"y_test:\", type(y_test), y_test.shape)\n",
        "print(\"y_test[0]:\", type(y_test[0]), y_test[0].shape)\n",
        "print(\"y_test[0]:\", y_test[0])\n",
        "\n",
        "classification_type = 'singlelabel'"
      ]
    },
    {
      "cell_type": "code",
      "execution_count": 8,
      "metadata": {
        "colab": {
          "base_uri": "https://localhost:8080/"
        },
        "id": "QhhqM0Jdd7fs",
        "outputId": "9b5b394e-bc52-4779-d85d-a0383446051d"
      },
      "outputs": [
        {
          "name": "stdout",
          "output_type": "stream",
          "text": [
            "Found 105372 unique tokens.\n"
          ]
        }
      ],
      "source": [
        "#Vectorize these text samples into a 2D integer tensor using Keras Tokenizer \n",
        "#Tokenizer is fit on training data only, and that is used to tokenize both train and test data. \n",
        "tokenizer = Tokenizer(num_words=MAX_NUM_WORDS) \n",
        "tokenizer.fit_on_texts(train_texts) \n",
        "train_sequences = tokenizer.texts_to_sequences(train_texts) #Converting text to a vector of word indexes \n",
        "test_sequences = tokenizer.texts_to_sequences(test_texts) \n",
        "word_index = tokenizer.word_index \n",
        "print('Found %s unique tokens.' % len(word_index))"
      ]
    },
    {
      "cell_type": "code",
      "execution_count": 9,
      "metadata": {},
      "outputs": [
        {
          "name": "stdout",
          "output_type": "stream",
          "text": [
            "train_sequences: <class 'list'> 11314\n",
            "train_sequences[0]: <class 'list'> 91\n",
            "train_sequences[0]: [7, 26, 1383, 24, 160, 64, 43, 105, 11322, 61, 15, 14, 312, 7, 587, 1, 73, 262, 11, 26, 5, 29, 1282, 2507, 312, 986, 3, 16, 30, 1, 1203, 11907, 748, 13307, 11, 26, 288, 5, 1, 3721, 68, 172, 408, 8, 1107, 1, 799, 7710, 26, 1604, 30, 1, 691, 4, 1, 641, 14, 9, 40, 7, 86, 24, 160, 38, 5, 657, 236, 959, 3069, 179, 4, 2570, 141, 14, 312, 9, 201, 533, 23, 720, 352, 13, 18, 15, 14, 18059, 357, 312, 167, 101, 206]\n",
            "test_sequences: <class 'list'> 7532\n",
            "test_sequences[0]: <class 'list'> 89\n",
            "test_sequences[0]: [7, 123, 5, 249, 3289, 15, 40, 4, 1, 1415, 4, 1, 2335, 2538, 7, 18, 387, 4, 1, 4348, 1729, 105, 248, 272, 61, 1, 1918, 17, 278, 21, 1307, 23, 914, 7, 123, 90, 2730, 3, 86, 44, 1, 382, 595, 9, 12, 1, 2538, 657, 6, 87, 128, 325, 92, 382, 595, 38, 13, 580, 81, 84, 12, 8, 73, 635, 87, 128, 17, 27, 8, 2435, 14, 96, 4, 175, 7, 18, 387, 10, 1, 2584, 2691, 748, 1452, 9, 1, 260, 96, 3, 506]\n"
          ]
        }
      ],
      "source": [
        "print(\"train_sequences:\", type(train_sequences), len(train_sequences))              #This is a list of lists, one list for each review\n",
        "print(\"train_sequences[0]:\", type(train_sequences[0]), len(train_sequences[0]))     #This is a list of word indexes for the first review\n",
        "print(\"train_sequences[0]:\", train_sequences[0])                                    #This will print a list of word indexes (depends on the tokenizer)\n",
        "\n",
        "print(\"test_sequences:\", type(test_sequences), len(test_sequences))                       #This is a list of lists, one list for each review\n",
        "print(\"test_sequences[0]:\", type(test_sequences[0]), len(test_sequences[0]))              #This is a list of word indexes for the 25000th review\n",
        "print(\"test_sequences[0]:\", test_sequences[0])                                            #This will print a list of word indexes (depends on the tokenizer)"
      ]
    },
    {
      "cell_type": "code",
      "execution_count": 10,
      "metadata": {
        "colab": {
          "base_uri": "https://localhost:8080/"
        },
        "id": "_e0V1-bBb5_d",
        "outputId": "d866429d-5bb6-43a7-c66e-ed5abbafc4cd"
      },
      "outputs": [
        {
          "name": "stdout",
          "output_type": "stream",
          "text": [
            "trainvalid_data: <class 'numpy.ndarray'> (11314, 1000)\n",
            "trainvalid_data[0]: <class 'numpy.ndarray'> (1000,)\n",
            "trainvalid_data[0]: [    0     0     0     0     0     0     0     0     0     0     0     0\n",
            "     0     0     0     0     0     0     0     0     0     0     0     0\n",
            "     0     0     0     0     0     0     0     0     0     0     0     0\n",
            "     0     0     0     0     0     0     0     0     0     0     0     0\n",
            "     0     0     0     0     0     0     0     0     0     0     0     0\n",
            "     0     0     0     0     0     0     0     0     0     0     0     0\n",
            "     0     0     0     0     0     0     0     0     0     0     0     0\n",
            "     0     0     0     0     0     0     0     0     0     0     0     0\n",
            "     0     0     0     0     0     0     0     0     0     0     0     0\n",
            "     0     0     0     0     0     0     0     0     0     0     0     0\n",
            "     0     0     0     0     0     0     0     0     0     0     0     0\n",
            "     0     0     0     0     0     0     0     0     0     0     0     0\n",
            "     0     0     0     0     0     0     0     0     0     0     0     0\n",
            "     0     0     0     0     0     0     0     0     0     0     0     0\n",
            "     0     0     0     0     0     0     0     0     0     0     0     0\n",
            "     0     0     0     0     0     0     0     0     0     0     0     0\n",
            "     0     0     0     0     0     0     0     0     0     0     0     0\n",
            "     0     0     0     0     0     0     0     0     0     0     0     0\n",
            "     0     0     0     0     0     0     0     0     0     0     0     0\n",
            "     0     0     0     0     0     0     0     0     0     0     0     0\n",
            "     0     0     0     0     0     0     0     0     0     0     0     0\n",
            "     0     0     0     0     0     0     0     0     0     0     0     0\n",
            "     0     0     0     0     0     0     0     0     0     0     0     0\n",
            "     0     0     0     0     0     0     0     0     0     0     0     0\n",
            "     0     0     0     0     0     0     0     0     0     0     0     0\n",
            "     0     0     0     0     0     0     0     0     0     0     0     0\n",
            "     0     0     0     0     0     0     0     0     0     0     0     0\n",
            "     0     0     0     0     0     0     0     0     0     0     0     0\n",
            "     0     0     0     0     0     0     0     0     0     0     0     0\n",
            "     0     0     0     0     0     0     0     0     0     0     0     0\n",
            "     0     0     0     0     0     0     0     0     0     0     0     0\n",
            "     0     0     0     0     0     0     0     0     0     0     0     0\n",
            "     0     0     0     0     0     0     0     0     0     0     0     0\n",
            "     0     0     0     0     0     0     0     0     0     0     0     0\n",
            "     0     0     0     0     0     0     0     0     0     0     0     0\n",
            "     0     0     0     0     0     0     0     0     0     0     0     0\n",
            "     0     0     0     0     0     0     0     0     0     0     0     0\n",
            "     0     0     0     0     0     0     0     0     0     0     0     0\n",
            "     0     0     0     0     0     0     0     0     0     0     0     0\n",
            "     0     0     0     0     0     0     0     0     0     0     0     0\n",
            "     0     0     0     0     0     0     0     0     0     0     0     0\n",
            "     0     0     0     0     0     0     0     0     0     0     0     0\n",
            "     0     0     0     0     0     0     0     0     0     0     0     0\n",
            "     0     0     0     0     0     0     0     0     0     0     0     0\n",
            "     0     0     0     0     0     0     0     0     0     0     0     0\n",
            "     0     0     0     0     0     0     0     0     0     0     0     0\n",
            "     0     0     0     0     0     0     0     0     0     0     0     0\n",
            "     0     0     0     0     0     0     0     0     0     0     0     0\n",
            "     0     0     0     0     0     0     0     0     0     0     0     0\n",
            "     0     0     0     0     0     0     0     0     0     0     0     0\n",
            "     0     0     0     0     0     0     0     0     0     0     0     0\n",
            "     0     0     0     0     0     0     0     0     0     0     0     0\n",
            "     0     0     0     0     0     0     0     0     0     0     0     0\n",
            "     0     0     0     0     0     0     0     0     0     0     0     0\n",
            "     0     0     0     0     0     0     0     0     0     0     0     0\n",
            "     0     0     0     0     0     0     0     0     0     0     0     0\n",
            "     0     0     0     0     0     0     0     0     0     0     0     0\n",
            "     0     0     0     0     0     0     0     0     0     0     0     0\n",
            "     0     0     0     0     0     0     0     0     0     0     0     0\n",
            "     0     0     0     0     0     0     0     0     0     0     0     0\n",
            "     0     0     0     0     0     0     0     0     0     0     0     0\n",
            "     0     0     0     0     0     0     0     0     0     0     0     0\n",
            "     0     0     0     0     0     0     0     0     0     0     0     0\n",
            "     0     0     0     0     0     0     0     0     0     0     0     0\n",
            "     0     0     0     0     0     0     0     0     0     0     0     0\n",
            "     0     0     0     0     0     0     0     0     0     0     0     0\n",
            "     0     0     0     0     0     0     0     0     0     0     0     0\n",
            "     0     0     0     0     0     0     0     0     0     0     0     0\n",
            "     0     0     0     0     0     0     0     0     0     0     0     0\n",
            "     0     0     0     0     0     0     0     0     0     0     0     0\n",
            "     0     0     0     0     0     0     0     0     0     0     0     0\n",
            "     0     0     0     0     0     0     0     0     0     0     0     0\n",
            "     0     0     0     0     0     0     0     0     0     0     0     0\n",
            "     0     0     0     0     0     0     0     0     0     0     0     0\n",
            "     0     0     0     0     0     0     0     0     0     0     0     0\n",
            "     0     0     0     0     0     0     0     0     0     7    26  1383\n",
            "    24   160    64    43   105 11322    61    15    14   312     7   587\n",
            "     1    73   262    11    26     5    29  1282  2507   312   986     3\n",
            "    16    30     1  1203 11907   748 13307    11    26   288     5     1\n",
            "  3721    68   172   408     8  1107     1   799  7710    26  1604    30\n",
            "     1   691     4     1   641    14     9    40     7    86    24   160\n",
            "    38     5   657   236   959  3069   179     4  2570   141    14   312\n",
            "     9   201   533    23   720   352    13    18    15    14 18059   357\n",
            "   312   167   101   206]\n",
            "test_data: <class 'numpy.ndarray'> (7532, 1000)\n",
            "test_data[0]: <class 'numpy.ndarray'> (1000,)\n",
            "test_data[0]:\n",
            " [   0    0    0    0    0    0    0    0    0    0    0    0    0    0\n",
            "    0    0    0    0    0    0    0    0    0    0    0    0    0    0\n",
            "    0    0    0    0    0    0    0    0    0    0    0    0    0    0\n",
            "    0    0    0    0    0    0    0    0    0    0    0    0    0    0\n",
            "    0    0    0    0    0    0    0    0    0    0    0    0    0    0\n",
            "    0    0    0    0    0    0    0    0    0    0    0    0    0    0\n",
            "    0    0    0    0    0    0    0    0    0    0    0    0    0    0\n",
            "    0    0    0    0    0    0    0    0    0    0    0    0    0    0\n",
            "    0    0    0    0    0    0    0    0    0    0    0    0    0    0\n",
            "    0    0    0    0    0    0    0    0    0    0    0    0    0    0\n",
            "    0    0    0    0    0    0    0    0    0    0    0    0    0    0\n",
            "    0    0    0    0    0    0    0    0    0    0    0    0    0    0\n",
            "    0    0    0    0    0    0    0    0    0    0    0    0    0    0\n",
            "    0    0    0    0    0    0    0    0    0    0    0    0    0    0\n",
            "    0    0    0    0    0    0    0    0    0    0    0    0    0    0\n",
            "    0    0    0    0    0    0    0    0    0    0    0    0    0    0\n",
            "    0    0    0    0    0    0    0    0    0    0    0    0    0    0\n",
            "    0    0    0    0    0    0    0    0    0    0    0    0    0    0\n",
            "    0    0    0    0    0    0    0    0    0    0    0    0    0    0\n",
            "    0    0    0    0    0    0    0    0    0    0    0    0    0    0\n",
            "    0    0    0    0    0    0    0    0    0    0    0    0    0    0\n",
            "    0    0    0    0    0    0    0    0    0    0    0    0    0    0\n",
            "    0    0    0    0    0    0    0    0    0    0    0    0    0    0\n",
            "    0    0    0    0    0    0    0    0    0    0    0    0    0    0\n",
            "    0    0    0    0    0    0    0    0    0    0    0    0    0    0\n",
            "    0    0    0    0    0    0    0    0    0    0    0    0    0    0\n",
            "    0    0    0    0    0    0    0    0    0    0    0    0    0    0\n",
            "    0    0    0    0    0    0    0    0    0    0    0    0    0    0\n",
            "    0    0    0    0    0    0    0    0    0    0    0    0    0    0\n",
            "    0    0    0    0    0    0    0    0    0    0    0    0    0    0\n",
            "    0    0    0    0    0    0    0    0    0    0    0    0    0    0\n",
            "    0    0    0    0    0    0    0    0    0    0    0    0    0    0\n",
            "    0    0    0    0    0    0    0    0    0    0    0    0    0    0\n",
            "    0    0    0    0    0    0    0    0    0    0    0    0    0    0\n",
            "    0    0    0    0    0    0    0    0    0    0    0    0    0    0\n",
            "    0    0    0    0    0    0    0    0    0    0    0    0    0    0\n",
            "    0    0    0    0    0    0    0    0    0    0    0    0    0    0\n",
            "    0    0    0    0    0    0    0    0    0    0    0    0    0    0\n",
            "    0    0    0    0    0    0    0    0    0    0    0    0    0    0\n",
            "    0    0    0    0    0    0    0    0    0    0    0    0    0    0\n",
            "    0    0    0    0    0    0    0    0    0    0    0    0    0    0\n",
            "    0    0    0    0    0    0    0    0    0    0    0    0    0    0\n",
            "    0    0    0    0    0    0    0    0    0    0    0    0    0    0\n",
            "    0    0    0    0    0    0    0    0    0    0    0    0    0    0\n",
            "    0    0    0    0    0    0    0    0    0    0    0    0    0    0\n",
            "    0    0    0    0    0    0    0    0    0    0    0    0    0    0\n",
            "    0    0    0    0    0    0    0    0    0    0    0    0    0    0\n",
            "    0    0    0    0    0    0    0    0    0    0    0    0    0    0\n",
            "    0    0    0    0    0    0    0    0    0    0    0    0    0    0\n",
            "    0    0    0    0    0    0    0    0    0    0    0    0    0    0\n",
            "    0    0    0    0    0    0    0    0    0    0    0    0    0    0\n",
            "    0    0    0    0    0    0    0    0    0    0    0    0    0    0\n",
            "    0    0    0    0    0    0    0    0    0    0    0    0    0    0\n",
            "    0    0    0    0    0    0    0    0    0    0    0    0    0    0\n",
            "    0    0    0    0    0    0    0    0    0    0    0    0    0    0\n",
            "    0    0    0    0    0    0    0    0    0    0    0    0    0    0\n",
            "    0    0    0    0    0    0    0    0    0    0    0    0    0    0\n",
            "    0    0    0    0    0    0    0    0    0    0    0    0    0    0\n",
            "    0    0    0    0    0    0    0    0    0    0    0    0    0    0\n",
            "    0    0    0    0    0    0    0    0    0    0    0    0    0    0\n",
            "    0    0    0    0    0    0    0    0    0    0    0    0    0    0\n",
            "    0    0    0    0    0    0    0    0    0    0    0    0    0    0\n",
            "    0    0    0    0    0    0    0    0    0    0    0    0    0    0\n",
            "    0    0    0    0    0    0    0    0    0    0    0    0    0    0\n",
            "    0    0    0    0    0    0    0    0    0    0    0    0    0    0\n",
            "    0    7  123    5  249 3289   15   40    4    1 1415    4    1 2335\n",
            " 2538    7   18  387    4    1 4348 1729  105  248  272   61    1 1918\n",
            "   17  278   21 1307   23  914    7  123   90 2730    3   86   44    1\n",
            "  382  595    9   12    1 2538  657    6   87  128  325   92  382  595\n",
            "   38   13  580   81   84   12    8   73  635   87  128   17   27    8\n",
            " 2435   14   96    4  175    7   18  387   10    1 2584 2691  748 1452\n",
            "    9    1  260   96    3  506]\n"
          ]
        }
      ],
      "source": [
        "#Converting this to sequences to be fed into neural network. Max seq. len is 1000 as set earlier\n",
        "#initial padding of 0s, until vector is of size MAX_SEQUENCE_LENGTH\n",
        "trainvalid_data = pad_sequences(train_sequences, maxlen=MAX_SEQUENCE_LENGTH)\n",
        "test_data = pad_sequences(test_sequences, maxlen=MAX_SEQUENCE_LENGTH)\n",
        "trainvalid_labels = to_categorical(np.asarray(train_labels))\n",
        "test_labels = to_categorical(np.asarray(test_labels))\n",
        "\n",
        "print(\"trainvalid_data:\", type(trainvalid_data), trainvalid_data.shape)                         #Will print a 2D tensor\n",
        "print(\"trainvalid_data[0]:\", type(trainvalid_data[0]), trainvalid_data[0].shape)                #Will print a 1D tensor\n",
        "print(\"trainvalid_data[0]:\", trainvalid_data[0])                                                #Will print a 1D tensor with values as indexes\n",
        "\n",
        "print(\"test_data:\", type(test_data), test_data.shape)                               #Will print a 2D tensor\n",
        "print(\"test_data[0]:\", type(test_data[0]), test_data[0].shape)                      #Will print a 1D tensor\n",
        "print(\"test_data[0]:\\n\", test_data[0])                                                #Will print a 1D tensor with values as indexes"
      ]
    },
    {
      "cell_type": "code",
      "execution_count": 11,
      "metadata": {},
      "outputs": [
        {
          "name": "stdout",
          "output_type": "stream",
          "text": [
            "indices: <class 'numpy.ndarray'> (11314,)\n",
            "indices[0]: <class 'numpy.int64'> ()\n",
            "indices[0]: 0\n",
            "num_validation_samples: 2262\n",
            "x_train: <class 'numpy.ndarray'> (9052, 1000)\n",
            "y_train: <class 'numpy.ndarray'> (9052, 20)\n",
            "x_val: <class 'numpy.ndarray'> (2262, 1000)\n",
            "y_val: <class 'numpy.ndarray'> (2262, 20)\n"
          ]
        }
      ],
      "source": [
        "# split the training data into a training set and a validation set\n",
        "indices = np.arange(trainvalid_data.shape[0])\n",
        "print(\"indices:\", type(indices), indices.shape)\n",
        "print(\"indices[0]:\", type(indices[0]), indices[0].shape)\n",
        "print(\"indices[0]:\", indices[0])\n",
        "\n",
        "np.random.shuffle(indices)\n",
        "\n",
        "trainvalid_data = trainvalid_data[indices]\n",
        "trainvalid_labels = trainvalid_labels[indices]\n",
        "\n",
        "num_validation_samples = int(VALIDATION_SPLIT * trainvalid_data.shape[0])\n",
        "print(\"num_validation_samples:\", num_validation_samples)\n",
        "\n",
        "x_train = trainvalid_data[:-num_validation_samples]\n",
        "y_train = trainvalid_labels[:-num_validation_samples]\n",
        "x_val = trainvalid_data[-num_validation_samples:]\n",
        "y_val = trainvalid_labels[-num_validation_samples:]\n",
        "\n",
        "#This is the data we will use for CNN and RNN training\n",
        "\n",
        "print(\"x_train:\", type(x_train), x_train.shape)\n",
        "print(\"y_train:\", type(y_train), y_train.shape)\n",
        "print(\"x_val:\", type(x_val), x_val.shape)\n",
        "print(\"y_val:\", type(y_val), y_val.shape)"
      ]
    },
    {
      "cell_type": "code",
      "execution_count": 12,
      "metadata": {
        "colab": {
          "base_uri": "https://localhost:8080/"
        },
        "id": "WUHqg2vvb5_l",
        "outputId": "8387eda1-18f0-4254-9819-e63191b8fc04"
      },
      "outputs": [
        {
          "name": "stdout",
          "output_type": "stream",
          "text": [
            "Preparing embedding matrix.\n",
            "GLOVE_MODEL:  glove.6B.100d.txt\n",
            "Found 400000 word vectors in Glove embeddings.\n",
            "Preparing of embedding matrix is done\n",
            "embedding_layer: <class 'keras.layers.core.embedding.Embedding'>\n",
            "embedding_layer config:\n",
            " {'name': 'embedding', 'trainable': False, 'dtype': 'float32', 'batch_input_shape': (None, 1000), 'input_dim': 20001, 'output_dim': 100, 'embeddings_initializer': {'class_name': 'Constant', 'config': {'value': array([[ 0.        ,  0.        ,  0.        , ...,  0.        ,\n",
            "         0.        ,  0.        ],\n",
            "       [-0.038194  , -0.24487001,  0.72812003, ..., -0.1459    ,\n",
            "         0.82779998,  0.27061999],\n",
            "       [ 0.        ,  0.        ,  0.        , ...,  0.        ,\n",
            "         0.        ,  0.        ],\n",
            "       ...,\n",
            "       [ 0.76302999,  0.082913  ,  0.18726   , ...,  0.40522   ,\n",
            "        -0.25400999, -0.71917999],\n",
            "       [-0.71047997,  0.67818999,  0.54196   , ..., -1.40209997,\n",
            "        -0.41898   , -0.04331   ],\n",
            "       [-0.55242002,  0.34547001,  0.28733999, ..., -0.37718999,\n",
            "        -0.32255   , -0.083229  ]])}}, 'embeddings_regularizer': None, 'activity_regularizer': None, 'embeddings_constraint': None, 'mask_zero': False, 'input_length': 1000}\n"
          ]
        }
      ],
      "source": [
        "print('Preparing embedding matrix.')\n",
        "\n",
        "GLOVE_MODEL = 'glove.6B.100d.txt'\n",
        "print(\"GLOVE_MODEL: \", GLOVE_MODEL)\n",
        "\n",
        "# first, build index mapping words in the embeddings set\n",
        "# to their embedding vector\n",
        "embeddings_index = {}\n",
        "with open(os.path.join(GLOVE_DIR, GLOVE_MODEL),encoding='utf8') as f:\n",
        "    for line in f:\n",
        "        values = line.split()\n",
        "        word = values[0]\n",
        "        coefs = np.asarray(values[1:], dtype='float32')\n",
        "        embeddings_index[word] = coefs\n",
        "\n",
        "print('Found %s word vectors in Glove embeddings.' % len(embeddings_index))\n",
        "#print(embeddings_index[\"google\"])\n",
        "\n",
        "# prepare embedding matrix - rows are the words from word_index, columns are the embeddings of that word from glove.\n",
        "num_words = min(MAX_NUM_WORDS, len(word_index)) + 1\n",
        "embedding_matrix = np.zeros((num_words, EMBEDDING_DIM))\n",
        "for word, i in word_index.items():\n",
        "    if i > MAX_NUM_WORDS:\n",
        "        continue\n",
        "    embedding_vector = embeddings_index.get(word)\n",
        "    if embedding_vector is not None:\n",
        "        # words not found in embedding index will be all-zeros.\n",
        "        embedding_matrix[i] = embedding_vector\n",
        "\n",
        "# load these pre-trained word embeddings into an Embedding layer\n",
        "# note that we set trainable = False so as to keep the embeddings fixed\n",
        "embedding_layer = Embedding(num_words,\n",
        "                            EMBEDDING_DIM,\n",
        "                            embeddings_initializer=Constant(embedding_matrix),\n",
        "                            input_length=MAX_SEQUENCE_LENGTH,\n",
        "                            trainable=False)\n",
        "print(\"Preparing of embedding matrix is done\")\n",
        "\n",
        "print(\"embedding_layer:\", type(embedding_layer))\n",
        "print(\"embedding_layer config:\\n\", embedding_layer.get_config())"
      ]
    },
    {
      "cell_type": "markdown",
      "metadata": {
        "id": "vEastnX8gdxR"
      },
      "source": [
        "### 1D CNN Model with pre-trained embedding"
      ]
    },
    {
      "cell_type": "code",
      "execution_count": 13,
      "metadata": {},
      "outputs": [
        {
          "name": "stdout",
          "output_type": "stream",
          "text": [
            "Using GPU (CUDA)\n",
            "Running on device: /device:GPU:0\n"
          ]
        }
      ],
      "source": [
        "import tensorflow as tf\n",
        "from tensorflow.keras.callbacks import Callback, ReduceLROnPlateau, EarlyStopping\n",
        "\n",
        "# Function to detect and set the best available device\n",
        "def set_device():\n",
        "    if tf.config.list_physical_devices('GPU'):\n",
        "        print(\"Using GPU (CUDA)\")\n",
        "        return \"/device:GPU:0\"\n",
        "    elif tf.config.list_physical_devices('MPS'):\n",
        "        print(\"Using Apple MPS (Metal Performance Shaders)\")\n",
        "        return \"/device:GPU:0\"  # MPS is identified as a GPU device in TensorFlow\n",
        "    else:\n",
        "        print(\"Using CPU\")\n",
        "        return \"/device:CPU:0\"\n",
        "    \n",
        "# Set the device\n",
        "device_name = set_device()\n",
        "print(\"Running on device:\", device_name)\n",
        "\n",
        "\n",
        "# Custom F1 Score Callback\n",
        "class F1ScoreCallback(Callback):\n",
        "\n",
        "    def __init__(self, validation_data, threshold=0.5):\n",
        "        super().__init__()\n",
        "        self.validation_data = validation_data\n",
        "        self.threshold = threshold\n",
        "\n",
        "    def on_epoch_end(self, epoch, logs=None):\n",
        "        val_data, val_labels = self.validation_data\n",
        "        \n",
        "        \"\"\"\n",
        "        print(\"val_data:\", type(val_data), val_data.shape)\n",
        "        print(\"val_data[0]:\", val_data[0])\n",
        "        print(\"val_labels:\", type(val_labels), val_labels.shape)\n",
        "        print(\"val_labels[0]:\", val_labels[0])\n",
        "        \"\"\"\n",
        "\n",
        "        val_predictions = self.model.predict(val_data)\n",
        "        #print(\"val_predictions:\", type(val_predictions), val_predictions.shape)\n",
        "        #print(\"val_predictions[0]:\", val_predictions[0])\n",
        "\n",
        "        # Thresholding for multi-label classification\n",
        "        val_pred_classes = (val_predictions > self.threshold).astype(int)\n",
        "        #print(\"val_pred_classes:\", type(val_pred_classes), val_pred_classes.shape)\n",
        "        #print(\"val_pred_classes[0]:\", val_pred_classes[0])\n",
        "\n",
        "        # Calculate macro and micro F1 scores\n",
        "        macro_f1 = f1_score(val_labels, val_pred_classes, average='macro')\n",
        "        micro_f1 = f1_score(val_labels, val_pred_classes, average='micro')\n",
        "        \n",
        "        # Log F1 scores\n",
        "        print(f\"Epoch {epoch + 1}: Macro F1 Score = {macro_f1:.4f}, Micro F1 Score = {micro_f1:.4f}\")"
      ]
    },
    {
      "cell_type": "code",
      "execution_count": 14,
      "metadata": {},
      "outputs": [
        {
          "name": "stdout",
          "output_type": "stream",
          "text": [
            "class_weights_dict:\n",
            " {0: 1.1785416666666666, 1: 0.9686643835616439, 2: 0.9571912013536379, 3: 0.9588135593220339, 4: 0.978719723183391, 5: 0.9539629005059022, 6: 0.967008547008547, 7: 0.9523569023569024, 8: 0.9459866220735786, 9: 0.9475711892797319, 10: 0.9428333333333333, 11: 0.9507563025210084, 12: 0.9571912013536379, 13: 0.9523569023569024, 14: 0.9539629005059022, 15: 0.94440734557596, 16: 1.0360805860805862, 17: 1.0030141843971632, 18: 1.2165591397849462, 19: 1.5005305039787797}\n"
          ]
        }
      ],
      "source": [
        "EPOCHS = 50\n",
        "BATCH_SIZE = 128\n",
        "\n",
        "from sklearn.utils.class_weight import compute_class_weight\n",
        "\n",
        "# Callbacks for learning rate refinement, early stopping, and F1 score tracking\n",
        "reduce_lr = ReduceLROnPlateau(monitor='val_loss', factor=0.2, patience=3, min_lr=1e-6)\n",
        "early_stop = EarlyStopping(monitor='val_loss', patience=5)\n",
        "\n",
        "f1_callback = F1ScoreCallback(validation_data=(test_data, test_labels))                     # Custom F1 score callback\n",
        "\n",
        "# Compute class weights\n",
        "class_weights = compute_class_weight('balanced', classes=np.unique(train_labels), y=train_labels)\n",
        "class_weights_dict = {i: weight for i, weight in enumerate(class_weights)}\n",
        "print(\"class_weights_dict:\\n\", class_weights_dict)"
      ]
    },
    {
      "cell_type": "code",
      "execution_count": 15,
      "metadata": {},
      "outputs": [],
      "source": [
        "import matplotlib.pyplot as plt\n",
        "\n",
        "def plot_history(history):\n",
        "\n",
        "    print(f'plotting history: {history}')\n",
        "\n",
        "    loss = history.history[\"loss\"]\n",
        "    val_loss = history.history[\"val_loss\"]\n",
        "    \n",
        "    epochs = range(1, len(loss) + 1)\n",
        "\n",
        "    plt.plot(epochs, loss, \"bo\", label=\"Training loss\")\n",
        "    plt.plot(epochs, val_loss, \"b\", label=\"Validation loss\")\n",
        "    plt.title(\"Training and validation loss\")\n",
        "    plt.xlabel(\"Epochs\")\n",
        "    plt.ylabel(\"Loss\")\n",
        "    plt.legend()\n",
        "    plt.show()\n",
        "\n",
        "    plt.clf()\n",
        "\n",
        "    acc = history.history[\"acc\"]\n",
        "    val_acc = history.history[\"val_acc\"]\n",
        "\n",
        "    plt.plot(epochs, acc, \"bo\", label=\"Training accuracy\")\n",
        "    plt.plot(epochs, val_acc, \"b\", label=\"Validation accuracy\")\n",
        "    plt.title(\"Training and validation accuracy\")\n",
        "    plt.xlabel(\"Epochs\")\n",
        "    plt.ylabel(\"Accuracy\")\n",
        "    plt.legend()\n",
        "\n",
        "    plt.show()"
      ]
    },
    {
      "cell_type": "code",
      "execution_count": 16,
      "metadata": {},
      "outputs": [
        {
          "name": "stdout",
          "output_type": "stream",
          "text": [
            "labels_index: {'pos': 1, 'neg': 0}\n",
            "class_names: ['alt.atheism', 'comp.graphics', 'comp.os.ms-windows.misc', 'comp.sys.ibm.pc.hardware', 'comp.sys.mac.hardware', 'comp.windows.x', 'misc.forsale', 'rec.autos', 'rec.motorcycles', 'rec.sport.baseball', 'rec.sport.hockey', 'sci.crypt', 'sci.electronics', 'sci.med', 'sci.space', 'soc.religion.christian', 'talk.politics.guns', 'talk.politics.mideast', 'talk.politics.misc', 'talk.religion.misc']\n",
            "num_classes: 20\n"
          ]
        }
      ],
      "source": [
        "print(\"labels_index:\", labels_index)\n",
        "print(\"class_names:\", class_names) \n",
        "print(\"num_classes:\", num_classes)"
      ]
    },
    {
      "cell_type": "code",
      "execution_count": 17,
      "metadata": {},
      "outputs": [
        {
          "name": "stdout",
          "output_type": "stream",
          "text": [
            "Define a 1D CNN model.\n",
            "Epoch 1/50\n"
          ]
        },
        {
          "name": "stderr",
          "output_type": "stream",
          "text": [
            "2024-10-19 07:01:23.941720: W tensorflow/tsl/platform/profile_utils/cpu_utils.cc:128] Failed to get CPU frequency: 0 Hz\n"
          ]
        },
        {
          "name": "stdout",
          "output_type": "stream",
          "text": [
            "236/236 [==============================] - 1s 4ms/step\n",
            "Epoch 1: Macro F1 Score = 0.0371, Micro F1 Score = 0.0510\n",
            "71/71 [==============================] - 3s 39ms/step - loss: 2.7858 - acc: 0.1220 - val_loss: 2.3753 - val_acc: 0.2065 - lr: 0.0010\n",
            "Epoch 2/50\n",
            "236/236 [==============================] - 1s 4ms/step\n",
            "Epoch 2: Macro F1 Score = 0.0913, Micro F1 Score = 0.1519\n",
            "71/71 [==============================] - 2s 31ms/step - loss: 2.2101 - acc: 0.2641 - val_loss: 2.1704 - val_acc: 0.2613 - lr: 0.0010\n",
            "Epoch 3/50\n",
            "236/236 [==============================] - 1s 4ms/step\n",
            "Epoch 3: Macro F1 Score = 0.2388, Micro F1 Score = 0.3216\n",
            "71/71 [==============================] - 2s 31ms/step - loss: 1.8359 - acc: 0.3817 - val_loss: 1.9137 - val_acc: 0.3758 - lr: 0.0010\n",
            "Epoch 4/50\n",
            "236/236 [==============================] - 1s 4ms/step\n",
            "Epoch 4: Macro F1 Score = 0.3256, Micro F1 Score = 0.3815\n",
            "71/71 [==============================] - 2s 32ms/step - loss: 1.5898 - acc: 0.4693 - val_loss: 1.6519 - val_acc: 0.4465 - lr: 0.0010\n",
            "Epoch 5/50\n",
            "236/236 [==============================] - 1s 4ms/step\n",
            "Epoch 5: Macro F1 Score = 0.3963, Micro F1 Score = 0.4506\n",
            "71/71 [==============================] - 2s 31ms/step - loss: 1.4273 - acc: 0.5315 - val_loss: 1.5841 - val_acc: 0.4969 - lr: 0.0010\n",
            "Epoch 6/50\n",
            "236/236 [==============================] - 1s 4ms/step\n",
            "Epoch 6: Macro F1 Score = 0.4262, Micro F1 Score = 0.4860\n",
            "71/71 [==============================] - 2s 34ms/step - loss: 1.2942 - acc: 0.5794 - val_loss: 1.5268 - val_acc: 0.5106 - lr: 0.0010\n",
            "Epoch 7/50\n",
            "236/236 [==============================] - 1s 4ms/step\n",
            "Epoch 7: Macro F1 Score = 0.4761, Micro F1 Score = 0.5363\n",
            "71/71 [==============================] - 2s 33ms/step - loss: 1.1733 - acc: 0.6178 - val_loss: 1.4015 - val_acc: 0.5610 - lr: 0.0010\n",
            "Epoch 8/50\n",
            "236/236 [==============================] - 1s 5ms/step\n",
            "Epoch 8: Macro F1 Score = 0.5071, Micro F1 Score = 0.5548\n",
            "71/71 [==============================] - 2s 35ms/step - loss: 1.0960 - acc: 0.6395 - val_loss: 1.3953 - val_acc: 0.5716 - lr: 0.0010\n",
            "Epoch 9/50\n",
            "236/236 [==============================] - 1s 4ms/step\n",
            "Epoch 9: Macro F1 Score = 0.4908, Micro F1 Score = 0.5258\n",
            "71/71 [==============================] - 2s 31ms/step - loss: 0.9868 - acc: 0.6818 - val_loss: 1.5021 - val_acc: 0.5407 - lr: 0.0010\n",
            "Epoch 10/50\n",
            "236/236 [==============================] - 1s 5ms/step\n",
            "Epoch 10: Macro F1 Score = 0.5110, Micro F1 Score = 0.5366\n",
            "71/71 [==============================] - 3s 36ms/step - loss: 0.9154 - acc: 0.7004 - val_loss: 1.5233 - val_acc: 0.5539 - lr: 0.0010\n",
            "Epoch 11/50\n",
            "236/236 [==============================] - 1s 4ms/step\n",
            "Epoch 11: Macro F1 Score = 0.5209, Micro F1 Score = 0.5487\n",
            "71/71 [==============================] - 2s 35ms/step - loss: 0.8217 - acc: 0.7338 - val_loss: 1.5093 - val_acc: 0.5610 - lr: 0.0010\n",
            "Epoch 12/50\n",
            "236/236 [==============================] - 1s 4ms/step\n",
            "Epoch 12: Macro F1 Score = 0.5658, Micro F1 Score = 0.5888\n",
            "71/71 [==============================] - 2s 32ms/step - loss: 0.5639 - acc: 0.8324 - val_loss: 1.4325 - val_acc: 0.6008 - lr: 2.0000e-04\n",
            "Epoch 13/50\n",
            "236/236 [==============================] - 1s 4ms/step\n",
            "Epoch 13: Macro F1 Score = 0.5704, Micro F1 Score = 0.5880\n",
            "71/71 [==============================] - 2s 35ms/step - loss: 0.5118 - acc: 0.8492 - val_loss: 1.4337 - val_acc: 0.6048 - lr: 2.0000e-04\n",
            "history: <class 'keras.callbacks.History'> dict_keys(['loss', 'acc', 'val_loss', 'val_acc', 'lr'])\n",
            "plotting history: <keras.callbacks.History object at 0x39a3d72b0>\n"
          ]
        },
        {
          "data": {
            "image/png": "[encoded data removed]",
            "text/plain": [
              "<Figure size 640x480 with 1 Axes>"
            ]
          },
          "metadata": {},
          "output_type": "display_data"
        },
        {
          "data": {
            "image/png": "[encoded data removed]",
            "text/plain": [
              "<Figure size 640x480 with 1 Axes>"
            ]
          },
          "metadata": {},
          "output_type": "display_data"
        }
      ],
      "source": [
        "print('Define a 1D CNN model.')\n",
        "\n",
        "from sklearn.metrics import f1_score, classification_report\n",
        "\n",
        "with tf.device(device_name):\n",
        "\n",
        "    cnnmodel = Sequential()\n",
        "    cnnmodel.add(embedding_layer)\n",
        "    cnnmodel.add(Conv1D(128, 5, activation='relu'))\n",
        "    cnnmodel.add(MaxPooling1D(5))\n",
        "    cnnmodel.add(Conv1D(128, 5, activation='relu'))\n",
        "    cnnmodel.add(MaxPooling1D(5))\n",
        "    cnnmodel.add(Conv1D(128, 5, activation='relu'))\n",
        "    cnnmodel.add(GlobalMaxPooling1D())\n",
        "    cnnmodel.add(Dense(128, activation='relu'))\n",
        "    cnnmodel.add(Dense(num_classes, activation='softmax'))\n",
        "\n",
        "    cnnmodel.compile(loss='categorical_crossentropy',\n",
        "                optimizer='rmsprop',\n",
        "                metrics=['acc'])\n",
        "    \n",
        "    \"\"\"\n",
        "    #Train the model. Tune to validation set. \n",
        "    cnnmodel.fit(x_train, y_train,\n",
        "            batch_size=128,\n",
        "            epochs=10, validation_data=(x_val, y_val))\n",
        "    \"\"\"\n",
        "\n",
        "    # Then pass class_weights_dict to the fit function\n",
        "    history = cnnmodel.fit(\n",
        "        x_train,\n",
        "        y_train,\n",
        "        epochs=EPOCHS,\n",
        "        batch_size=BATCH_SIZE,\n",
        "        validation_data=(x_val, y_val),\n",
        "        callbacks=[reduce_lr, early_stop, f1_callback],\n",
        "        class_weight=class_weights_dict\n",
        "        )\n",
        "    \n",
        "print(\"history:\", type(history), history.history.keys())\n",
        "\n",
        "\n",
        "plot_history(history)"
      ]
    },
    {
      "cell_type": "code",
      "execution_count": 18,
      "metadata": {},
      "outputs": [
        {
          "name": "stdout",
          "output_type": "stream",
          "text": [
            "236/236 [==============================] - 2s 8ms/step - loss: 1.5820 - acc: 0.5722\n",
            "score: 1.5819611549377441\n",
            "Test accuracy with CNN: 0.5722251534461975\n",
            "236/236 [==============================] - 1s 5ms/step\n",
            "\n",
            "Classification Report:\n",
            "                           precision    recall  f1-score   support\n",
            "\n",
            "             alt.atheism     0.4539    0.2006    0.2783       319\n",
            "           comp.graphics     0.7168    0.5270    0.6074       389\n",
            " comp.os.ms-windows.misc     0.6077    0.4797    0.5362       394\n",
            "comp.sys.ibm.pc.hardware     0.5068    0.2857    0.3654       392\n",
            "   comp.sys.mac.hardware     0.5042    0.3091    0.3833       385\n",
            "          comp.windows.x     0.7180    0.5544    0.6257       395\n",
            "            misc.forsale     0.7986    0.6000    0.6852       390\n",
            "               rec.autos     0.7969    0.5152    0.6258       396\n",
            "         rec.motorcycles     0.6500    0.6206    0.6350       398\n",
            "      rec.sport.baseball     0.9201    0.7254    0.8113       397\n",
            "        rec.sport.hockey     0.9284    0.8446    0.8845       399\n",
            "               sci.crypt     0.8026    0.4722    0.5946       396\n",
            "         sci.electronics     0.5900    0.3588    0.4462       393\n",
            "                 sci.med     0.8277    0.6793    0.7462       396\n",
            "               sci.space     0.8197    0.6345    0.7153       394\n",
            "  soc.religion.christian     0.6744    0.5101    0.5808       398\n",
            "      talk.politics.guns     0.6089    0.4533    0.5197       364\n",
            "   talk.politics.mideast     0.9075    0.6782    0.7763       376\n",
            "      talk.politics.misc     0.5528    0.2871    0.3779       310\n",
            "      talk.religion.misc     0.1993    0.2311    0.2140       251\n",
            "\n",
            "               micro avg     0.6958    0.5092    0.5880      7532\n",
            "               macro avg     0.6792    0.4983    0.5704      7532\n",
            "            weighted avg     0.6922    0.5092    0.5826      7532\n",
            "             samples avg     0.5092    0.5092    0.5092      7532\n",
            "\n",
            "\n",
            "\tMacro F1 Score = 0.5704, Micro F1 Score = 0.5880\n"
          ]
        }
      ],
      "source": [
        "#Evaluate on test set:\n",
        "score, acc = cnnmodel.evaluate(test_data, test_labels)\n",
        "print(\"score:\", score)\n",
        "print('Test accuracy with CNN:', acc)\n",
        "\n",
        "\n",
        "test_preds = cnnmodel.predict(test_data)\n",
        "        \n",
        "# Thresholding for multi-label classification\n",
        "test_pred_classes = (test_preds > .5).astype(int)\n",
        "\n",
        "# Classification report with class labels and four decimal places\n",
        "report = classification_report(test_labels, test_pred_classes, target_names=class_names, digits=4)\n",
        "print(\"\\nClassification Report:\\n\", report)\n",
        "\n",
        "# Calculate macro and micro F1 scores\n",
        "macro_f1 = f1_score(y_test, test_pred_classes, average='macro')\n",
        "micro_f1 = f1_score(y_test, test_pred_classes, average='micro')\n",
        "\n",
        "# Log F1 scores\n",
        "print(f\"\\n\\tMacro F1 Score = {macro_f1:.4f}, Micro F1 Score = {micro_f1:.4f}\")"
      ]
    },
    {
      "cell_type": "markdown",
      "metadata": {
        "id": "VdDj2FJzgi_W"
      },
      "source": [
        "### 1D CNN model with training your own embedding"
      ]
    },
    {
      "cell_type": "code",
      "execution_count": 19,
      "metadata": {},
      "outputs": [
        {
          "name": "stdout",
          "output_type": "stream",
          "text": [
            "y_train: <class 'numpy.ndarray'> (9052, 20)\n",
            "y_train[0]: [0. 0. 0. 0. 0. 0. 0. 0. 0. 0. 0. 0. 0. 0. 0. 0. 0. 0. 0. 1.]\n",
            "x_train: <class 'numpy.ndarray'> (9052, 1000)\n",
            "x_train[0]:\n",
            " [    0     0     0     0     0     0     0     0     0     0     0     0\n",
            "     0     0     0     0     0     0     0     0     0     0     0     0\n",
            "     0     0     0     0     0     0     0     0     0     0     0     0\n",
            "     0     0     0     0     0     0     0     0     0     0     0     0\n",
            "     0     0     0     0     0     0     0     0     0     0     0     0\n",
            "     0     0     0     0     0     0     0     0     0     0     0     0\n",
            "     0     0     0     0     0     0     0     0     0     0     0     0\n",
            "     0     0     0     0     0     0     0     0     0     0     0     0\n",
            "     0     0     0     0     0     0     0     0     0     0     0     0\n",
            "     0     0     0     0     0     0     0     0     0     0     0     0\n",
            "     0     0     0     0     0     0     0     0     0     0     0     0\n",
            "     0     0     0     0     0     0     0     0     0     0     0     0\n",
            "     0     0     0     0     0     0     0     0     0     0     0     0\n",
            "     0     0     0     0     0     0     0     0     0     0     0     0\n",
            "     0     0     0     0     0     0     0     0     0     0     0     0\n",
            "     0     0     0     0     0     0     0     0     0     0     0     0\n",
            "     0     0     0     0     0     0     0     0     0     0     0     0\n",
            "     0     0     0     0     0     0     0     0     0     0     0     0\n",
            "     0     0     0     0     0     0     0     0     0     0     0     0\n",
            "     0     0     0     0     0     0     0     0     0     0     0     0\n",
            "     0     0     0     0     0     0     0     0     0     0     0     0\n",
            "     0     0     0     0     0     0     0     0     0     0     0     0\n",
            "     0     0     0     0     0     0     0     0     0     0     0     0\n",
            "     0     0     0     0     0     0     0     0     0     0     0     0\n",
            "     0     0     0     0     0     0     0     0     0     0     0     0\n",
            "     0     0     0     0     0     0     0     0     0     0     0     0\n",
            "     0     0     0     0     0     0     0     0     0     0     0     0\n",
            "     0     0     0     0     0     0     0     0     0     0     0     0\n",
            "     0     0     0     0     0     0     0     0     0     0     0     0\n",
            "     0     0     0     0     0     0     0     0     0     0     0     0\n",
            "     0     0     0     0     0     0     0     0     0     0     0     0\n",
            "     0     0     0     0     0     0     0     0     0     0     0     0\n",
            "     0     0     0     0     0     0     0     0     0     0     0     0\n",
            "     0     0     0     0     0     0     0     0     0     0     0     0\n",
            "     0     0     0     0     0     0     0     0     0     0     0     0\n",
            "     0     0     0     0     0     0     0     0     0     0     0     0\n",
            "     0     0     0     0     0     0     0     0     0     0     0     0\n",
            "     0     0     0     0     0     0     0     0     0     0     0     0\n",
            "     0     0     0     0     0     0     0     0     0     0     0     0\n",
            "     0     0     0     0     0     0     0     0     0     0     0     0\n",
            "     0     0     0     0     0     0     0     0     0     0     0     0\n",
            "     0     0     0     0     0     0     0     0     0     0     0     0\n",
            "     0     0     0     0     0     0     0     0     0     0     0     0\n",
            "     0     0     0     0     0     0     0     0     0     0     0     0\n",
            "     0     0     0     0     0     0     0     0     0     0     0     0\n",
            "     0     0     0     0     0     0     0     0     0     0     0     0\n",
            "     0     0     0     0     0     0     0     0     0     0     0     0\n",
            "     0     0     0     0     0     0     0     0     0     0     0     0\n",
            "     0     0     0     0     0     0     0     0     0     0     0     0\n",
            "     0     0     0     0     0     0     0     0     0     0     0     0\n",
            "     0     0     0     0     0     0     0     0     0     0     0     0\n",
            "     0     0     0     0     0     0     0     0     0     0     0     0\n",
            "     0     0     0     0     0     0     0     0     0     0     0     0\n",
            "     0     0     0     0     0     0     0     0     0     0     0     0\n",
            "     0     0     0     0     0     0     0     0     0     0     0     0\n",
            "     0     0     0     0     0     0     0     0     0     0     0     0\n",
            "     0     0     0     0     0     0     0     0     0     0     0     0\n",
            "     0     0     0     0     0     0     0     0     0     0     0     0\n",
            "     0     0     0     0     0     0     0     0     0     0     0     0\n",
            "     0     0     0     0     0     0     0     0     0     0     0     0\n",
            "     0     0     0     0     0     0     0     0     0     0     0     0\n",
            "     0     0     0     0     0     0     0     0     0     0     0     0\n",
            "     0     0     0     0     0     0     0     0     0     0     0     0\n",
            "     0     0     0     0     0     0     0     0     0     0     0     0\n",
            "     0     0     0     0     0     0     0     0     0     0     0     0\n",
            "     0     0     0     0     0     0     0     0     0     0     0     0\n",
            "     0     0     0     0     0     0     0     0     0     0     0     0\n",
            "     0     0     0     0     0     0     0     0     0     0     0     0\n",
            "     0     0     0     0     0     0     0     0     0     0     0     0\n",
            "     0     0     0     0     0     0     0     0     0     0     0     0\n",
            "     0     0     0     0     0     0     0     0     0     0     0     0\n",
            "     0     0     0     0     0     0     0     0     0     0     0     0\n",
            "     0     0     0     0     0     0     0     0     0     0     0     0\n",
            "     0     0     0     0     0     0     0     0     0     0     0     0\n",
            "     0     0     0     0     0     0     0     0     0     0     0     0\n",
            "     0     0     0     0     0     0     0     0     0     0     0   107\n",
            "   357    33     1 15768    11   271    10    14   776   532     8   738\n",
            "  1052    33     1   152    96    59    45  2987    10    14    26     5\n",
            "  2744   896   112   211  1070     6  2274   231  5916   385     5   295\n",
            "   776   338     5 11080   825    45    18    88     5   278  1685  1272\n",
            "   357    33     1  2382  1382     6    93     4  3576  1118    10    21\n",
            "     7    86    75   385  8412    11     9   325   578    10    14    26\n",
            "     1   224   745    25    41 18369    17    15 14776    69 12865     3\n",
            "   385  7692  2266  3200]\n"
          ]
        }
      ],
      "source": [
        "print(\"y_train:\", type(y_train), y_train.shape)\n",
        "print(\"y_train[0]:\", y_train[0])\n",
        "\n",
        "print(\"x_train:\", type(x_train), x_train.shape)\n",
        "print(\"x_train[0]:\\n\", x_train[0])"
      ]
    },
    {
      "cell_type": "code",
      "execution_count": 20,
      "metadata": {},
      "outputs": [
        {
          "name": "stdout",
          "output_type": "stream",
          "text": [
            "Using device: /device:GPU:0\n",
            "Defining and training a CNN model, training embedding layer on the fly instead of using pre-trained embeddings\n",
            "Epoch 1/50\n",
            "236/236 [==============================] - 1s 4ms/step\n",
            "Epoch 1: Macro F1 Score = 0.0008, Micro F1 Score = 0.0008\n",
            "71/71 [==============================] - 5s 63ms/step - loss: 2.9321 - acc: 0.0672 - val_loss: 2.6991 - val_acc: 0.1048 - lr: 0.0010\n",
            "Epoch 2/50\n",
            "236/236 [==============================] - 2s 7ms/step\n",
            "Epoch 2: Macro F1 Score = 0.0196, Micro F1 Score = 0.0293\n",
            "71/71 [==============================] - 5s 71ms/step - loss: 2.5320 - acc: 0.1267 - val_loss: 2.4504 - val_acc: 0.1525 - lr: 0.0010\n",
            "Epoch 3/50\n",
            "236/236 [==============================] - 2s 7ms/step\n",
            "Epoch 3: Macro F1 Score = 0.0180, Micro F1 Score = 0.0224\n",
            "71/71 [==============================] - 5s 71ms/step - loss: 2.2658 - acc: 0.2016 - val_loss: 2.4243 - val_acc: 0.1742 - lr: 0.0010\n",
            "Epoch 4/50\n",
            "236/236 [==============================] - 1s 3ms/step\n",
            "Epoch 4: Macro F1 Score = 0.1091, Micro F1 Score = 0.1385\n",
            "71/71 [==============================] - 4s 58ms/step - loss: 1.9762 - acc: 0.3010 - val_loss: 2.1365 - val_acc: 0.2909 - lr: 0.0010\n",
            "Epoch 5/50\n",
            "236/236 [==============================] - 1s 4ms/step\n",
            "Epoch 5: Macro F1 Score = 0.1790, Micro F1 Score = 0.2241\n",
            "71/71 [==============================] - 4s 59ms/step - loss: 1.6684 - acc: 0.3983 - val_loss: 2.1153 - val_acc: 0.3386 - lr: 0.0010\n",
            "Epoch 6/50\n",
            "236/236 [==============================] - 1s 4ms/step\n",
            "Epoch 6: Macro F1 Score = 0.2540, Micro F1 Score = 0.2916\n",
            "71/71 [==============================] - 4s 60ms/step - loss: 1.4131 - acc: 0.4968 - val_loss: 2.0958 - val_acc: 0.3877 - lr: 0.0010\n",
            "Epoch 7/50\n",
            "236/236 [==============================] - 1s 4ms/step\n",
            "Epoch 7: Macro F1 Score = 0.3298, Micro F1 Score = 0.3574\n",
            "71/71 [==============================] - 4s 60ms/step - loss: 1.1795 - acc: 0.5920 - val_loss: 2.1352 - val_acc: 0.4257 - lr: 0.0010\n",
            "Epoch 8/50\n",
            "236/236 [==============================] - 1s 4ms/step\n",
            "Epoch 8: Macro F1 Score = 0.3534, Micro F1 Score = 0.3778\n",
            "71/71 [==============================] - 4s 60ms/step - loss: 0.9398 - acc: 0.6798 - val_loss: 2.5640 - val_acc: 0.4266 - lr: 0.0010\n",
            "Epoch 9/50\n",
            "236/236 [==============================] - 1s 4ms/step\n",
            "Epoch 9: Macro F1 Score = 0.4240, Micro F1 Score = 0.4394\n",
            "71/71 [==============================] - 4s 61ms/step - loss: 0.7603 - acc: 0.7506 - val_loss: 2.3885 - val_acc: 0.4770 - lr: 0.0010\n",
            "Epoch 10/50\n",
            "236/236 [==============================] - 1s 4ms/step\n",
            "Epoch 10: Macro F1 Score = 0.4379, Micro F1 Score = 0.4483\n",
            "71/71 [==============================] - 4s 61ms/step - loss: 0.4577 - acc: 0.8684 - val_loss: 2.6070 - val_acc: 0.4845 - lr: 2.0000e-04\n",
            "Epoch 11/50\n",
            "236/236 [==============================] - 1s 4ms/step\n",
            "Epoch 11: Macro F1 Score = 0.4381, Micro F1 Score = 0.4505\n",
            "71/71 [==============================] - 4s 59ms/step - loss: 0.3908 - acc: 0.8852 - val_loss: 2.9769 - val_acc: 0.4836 - lr: 2.0000e-04\n",
            "history2: <class 'keras.callbacks.History'> dict_keys(['loss', 'acc', 'val_loss', 'val_acc', 'lr'])\n",
            "plotting history: <keras.callbacks.History object at 0x386e0f550>\n"
          ]
        },
        {
          "data": {
            "image/png": "[encoded data removed]",
            "text/plain": [
              "<Figure size 640x480 with 1 Axes>"
            ]
          },
          "metadata": {},
          "output_type": "display_data"
        },
        {
          "data": {
            "image/png": "[encoded data removed]",
            "text/plain": [
              "<Figure size 640x480 with 1 Axes>"
            ]
          },
          "metadata": {},
          "output_type": "display_data"
        }
      ],
      "source": [
        "print(f\"Using device: {device_name}\")\n",
        "\n",
        "print(\"Defining and training a CNN model, training embedding layer on the fly instead of using pre-trained embeddings\")\n",
        "\n",
        "# Define the CNN model\n",
        "cnnmodel = Sequential()\n",
        "\n",
        "# Force the Embedding layer to run on the CPU\n",
        "with tf.device('/CPU:0'):\n",
        "    cnnmodel.add(Embedding(MAX_NUM_WORDS, 128, input_length=MAX_SEQUENCE_LENGTH))\n",
        "\n",
        "# Rest of the model can run on the GPU\n",
        "with tf.device(device_name):\n",
        "    cnnmodel.add(Conv1D(128, 5, activation='relu'))\n",
        "    cnnmodel.add(MaxPooling1D(5))\n",
        "    cnnmodel.add(Conv1D(128, 5, activation='relu'))\n",
        "    cnnmodel.add(MaxPooling1D(5))\n",
        "    cnnmodel.add(Conv1D(128, 5, activation='relu'))\n",
        "    cnnmodel.add(GlobalMaxPooling1D())\n",
        "    cnnmodel.add(Dense(128, activation='relu'))\n",
        "    cnnmodel.add(Dense(num_classes, activation='softmax'))\n",
        "\n",
        "    cnnmodel.compile(loss='categorical_crossentropy',\n",
        "                     optimizer='rmsprop',\n",
        "                     metrics=['acc'])\n",
        "\n",
        "    #Train the model. Tune to validation set. \n",
        "    history2 = cnnmodel.fit(\n",
        "        x_train, \n",
        "        y_train,\n",
        "        batch_size=BATCH_SIZE,\n",
        "        epochs=EPOCHS, \n",
        "        validation_data=(x_val, y_val),\n",
        "        callbacks=[reduce_lr, early_stop, f1_callback],\n",
        "        class_weight=class_weights_dict\n",
        "        )\n",
        "    \n",
        "print(\"history2:\", type(history2), history2.history.keys())\n",
        "plot_history(history2)"
      ]
    },
    {
      "cell_type": "code",
      "execution_count": 21,
      "metadata": {},
      "outputs": [
        {
          "name": "stdout",
          "output_type": "stream",
          "text": [
            "236/236 [==============================] - 2s 10ms/step - loss: 3.6066 - acc: 0.4363\n",
            "score: 3.6065568923950195\n",
            "Test accuracy with CNN: 0.43627190589904785\n",
            "236/236 [==============================] - 1s 4ms/step\n",
            "\n",
            "Classification Report:\n",
            "                           precision    recall  f1-score   support\n",
            "\n",
            "             alt.atheism     0.3544    0.3166    0.3344       319\n",
            "           comp.graphics     0.4350    0.2751    0.3370       389\n",
            " comp.os.ms-windows.misc     0.5468    0.3858    0.4524       394\n",
            "comp.sys.ibm.pc.hardware     0.2430    0.1556    0.1897       392\n",
            "   comp.sys.mac.hardware     0.5467    0.5325    0.5395       385\n",
            "          comp.windows.x     0.7016    0.6785    0.6898       395\n",
            "            misc.forsale     0.5809    0.3590    0.4437       390\n",
            "               rec.autos     0.4035    0.3535    0.3769       396\n",
            "         rec.motorcycles     0.3861    0.2940    0.3338       398\n",
            "      rec.sport.baseball     0.7318    0.5567    0.6323       397\n",
            "        rec.sport.hockey     0.8208    0.6316    0.7139       399\n",
            "               sci.crypt     0.7114    0.6162    0.6604       396\n",
            "         sci.electronics     0.3955    0.3613    0.3777       393\n",
            "                 sci.med     0.4080    0.4369    0.4220       396\n",
            "               sci.space     0.4237    0.3452    0.3804       394\n",
            "  soc.religion.christian     0.5685    0.4171    0.4812       398\n",
            "      talk.politics.guns     0.5185    0.3846    0.4416       364\n",
            "   talk.politics.mideast     0.6620    0.5053    0.5732       376\n",
            "      talk.politics.misc     0.3566    0.1645    0.2252       310\n",
            "      talk.religion.misc     0.1682    0.1474    0.1571       251\n",
            "\n",
            "               micro avg     0.5092    0.4040    0.4505      7532\n",
            "               macro avg     0.4981    0.3959    0.4381      7532\n",
            "            weighted avg     0.5073    0.4040    0.4468      7532\n",
            "             samples avg     0.4040    0.4040    0.4040      7532\n",
            "\n",
            "\n",
            "\tMacro F1 Score = 0.4381, Micro F1 Score = 0.4505\n"
          ]
        }
      ],
      "source": [
        "#Evaluate on test set:\n",
        "score, acc = cnnmodel.evaluate(test_data, test_labels)\n",
        "print(\"score:\", score)\n",
        "print('Test accuracy with CNN:', acc)\n",
        "\n",
        "\n",
        "test_preds = cnnmodel.predict(test_data)\n",
        "        \n",
        "# Thresholding for multi-label classification\n",
        "test_pred_classes = (test_preds > .5).astype(int)\n",
        "\n",
        "# Classification report with class labels and four decimal places\n",
        "report = classification_report(test_labels, test_pred_classes, target_names=class_names, digits=4)\n",
        "print(\"\\nClassification Report:\\n\", report)\n",
        "\n",
        "# Calculate macro and micro F1 scores\n",
        "macro_f1 = f1_score(y_test, test_pred_classes, average='macro')\n",
        "micro_f1 = f1_score(y_test, test_pred_classes, average='micro')\n",
        "\n",
        "# Log F1 scores\n",
        "print(f\"\\n\\tMacro F1 Score = {macro_f1:.4f}, Micro F1 Score = {micro_f1:.4f}\")\n"
      ]
    },
    {
      "cell_type": "markdown",
      "metadata": {
        "id": "6GwhXpmSgt4H"
      },
      "source": [
        "### LSTM Model with training your own embedding "
      ]
    },
    {
      "cell_type": "code",
      "execution_count": 22,
      "metadata": {},
      "outputs": [
        {
          "name": "stdout",
          "output_type": "stream",
          "text": [
            "physical_devices: [PhysicalDevice(name='/physical_device:GPU:0', device_type='GPU')]\n",
            "Error: Physical devices cannot be modified after being initialized\n"
          ]
        }
      ],
      "source": [
        "physical_devices = tf.config.list_physical_devices('GPU')\n",
        "print(\"physical_devices:\", physical_devices)\n",
        "\n",
        "if physical_devices:\n",
        "    try:\n",
        "        tf.config.experimental.set_memory_growth(physical_devices[0], True)\n",
        "    except RuntimeError as e:\n",
        "        print(f'Error: {e}')"
      ]
    },
    {
      "cell_type": "code",
      "execution_count": 23,
      "metadata": {},
      "outputs": [],
      "source": [
        "tf.debugging.set_log_device_placement(True)"
      ]
    },
    {
      "cell_type": "code",
      "execution_count": 24,
      "metadata": {
        "colab": {
          "base_uri": "https://localhost:8080/"
        },
        "id": "SvBt2Brib5_4",
        "outputId": "008fe9fa-13bf-4127-ba46-67916426ddbe"
      },
      "outputs": [
        {
          "name": "stdout",
          "output_type": "stream",
          "text": [
            "Defining and training an LSTM model, training embedding layer on the fly\n",
            "Training the RNN\n",
            "Epoch 1/50\n",
            "236/236 [==============================] - 5s 18ms/step\n",
            "Epoch 1: Macro F1 Score = 0.0000, Micro F1 Score = 0.0000\n",
            "283/283 [==============================] - 27s 91ms/step - loss: 0.2180 - accuracy: 0.0531 - val_loss: 0.1982 - val_accuracy: 0.0570 - lr: 0.0010\n",
            "Epoch 2/50\n",
            "236/236 [==============================] - 4s 18ms/step\n",
            "Epoch 2: Macro F1 Score = 0.0119, Micro F1 Score = 0.0134\n",
            "283/283 [==============================] - 25s 90ms/step - loss: 0.1932 - accuracy: 0.1233 - val_loss: 0.1920 - val_accuracy: 0.1251 - lr: 0.0010\n",
            "Epoch 3/50\n",
            "236/236 [==============================] - 4s 19ms/step\n",
            "Epoch 3: Macro F1 Score = 0.0525, Micro F1 Score = 0.0553\n",
            "283/283 [==============================] - 25s 89ms/step - loss: 0.1751 - accuracy: 0.3151 - val_loss: 0.1834 - val_accuracy: 0.1733 - lr: 0.0010\n",
            "Epoch 4/50\n",
            "236/236 [==============================] - 4s 18ms/step\n",
            "Epoch 4: Macro F1 Score = 0.0874, Micro F1 Score = 0.0933\n",
            "283/283 [==============================] - 24s 84ms/step - loss: 0.1477 - accuracy: 0.4716 - val_loss: 0.1764 - val_accuracy: 0.1910 - lr: 0.0010\n",
            "Epoch 5/50\n",
            "236/236 [==============================] - 4s 19ms/step\n",
            "Epoch 5: Macro F1 Score = 0.1353, Micro F1 Score = 0.1461\n",
            "283/283 [==============================] - 24s 86ms/step - loss: 0.1224 - accuracy: 0.5531 - val_loss: 0.1733 - val_accuracy: 0.2171 - lr: 0.0010\n",
            "Epoch 6/50\n",
            "236/236 [==============================] - 4s 18ms/step\n",
            "Epoch 6: Macro F1 Score = 0.1691, Micro F1 Score = 0.1805\n",
            "283/283 [==============================] - 24s 85ms/step - loss: 0.1021 - accuracy: 0.6174 - val_loss: 0.1689 - val_accuracy: 0.2449 - lr: 0.0010\n",
            "Epoch 7/50\n",
            "236/236 [==============================] - 4s 18ms/step\n",
            "Epoch 7: Macro F1 Score = 0.1833, Micro F1 Score = 0.1920\n",
            "283/283 [==============================] - 25s 87ms/step - loss: 0.0863 - accuracy: 0.6806 - val_loss: 0.1699 - val_accuracy: 0.2613 - lr: 0.0010\n",
            "Epoch 8/50\n",
            "236/236 [==============================] - 4s 19ms/step\n",
            "Epoch 8: Macro F1 Score = 0.2013, Micro F1 Score = 0.2117\n",
            "283/283 [==============================] - 25s 89ms/step - loss: 0.0739 - accuracy: 0.7301 - val_loss: 0.1768 - val_accuracy: 0.2648 - lr: 0.0010\n",
            "Epoch 9/50\n",
            "236/236 [==============================] - 9s 36ms/step\n",
            "Epoch 9: Macro F1 Score = 0.2178, Micro F1 Score = 0.2275\n",
            "283/283 [==============================] - 33s 115ms/step - loss: 0.0640 - accuracy: 0.7684 - val_loss: 0.1746 - val_accuracy: 0.3028 - lr: 0.0010\n",
            "Epoch 10/50\n",
            "236/236 [==============================] - 4s 19ms/step\n",
            "Epoch 10: Macro F1 Score = 0.2282, Micro F1 Score = 0.2393\n",
            "283/283 [==============================] - 26s 91ms/step - loss: 0.0529 - accuracy: 0.8309 - val_loss: 0.1723 - val_accuracy: 0.3126 - lr: 2.0000e-04\n",
            "Epoch 11/50\n",
            "236/236 [==============================] - 4s 18ms/step\n",
            "Epoch 11: Macro F1 Score = 0.2349, Micro F1 Score = 0.2450\n",
            "283/283 [==============================] - 24s 86ms/step - loss: 0.0503 - accuracy: 0.8420 - val_loss: 0.1712 - val_accuracy: 0.3240 - lr: 2.0000e-04\n"
          ]
        },
        {
          "data": {
            "text/plain": [
              "<keras.callbacks.History at 0x387e12d10>"
            ]
          },
          "execution_count": 24,
          "metadata": {},
          "output_type": "execute_result"
        }
      ],
      "source": [
        "print(\"Defining and training an LSTM model, training embedding layer on the fly\")\n",
        "\n",
        "LSTM_BATCH_SIZE = 32\n",
        "\n",
        "# Define the RNN model\n",
        "rnnmodel = Sequential()\n",
        "\n",
        "# Force the Embedding layer to run on the CPU\n",
        "with tf.device('/CPU:0'):\n",
        "        rnnmodel.add(Embedding(MAX_NUM_WORDS, 128))\n",
        "        \n",
        "with tf.device(device_name):\n",
        "        #rnnmodel.add(LSTM(128, dropout=0.2, recurrent_dropout=0.2))\n",
        "        rnnmodel.add(LSTM(128, dropout=0.2))\n",
        "        rnnmodel.add(Dense(num_classes, activation='sigmoid'))\n",
        "\n",
        "rnnmodel.compile(\n",
        "        loss='binary_crossentropy',\n",
        "        optimizer='adam',\n",
        "        metrics=['accuracy']\n",
        "        )\n",
        "\n",
        "print('Training the RNN')\n",
        "\n",
        "rnnmodel.fit(\n",
        "  x_train, \n",
        "  y_train,\n",
        "  batch_size=LSTM_BATCH_SIZE,\n",
        "  epochs=EPOCHS,\n",
        "  validation_data=(x_val, y_val),\n",
        "  callbacks=[reduce_lr, early_stop, f1_callback],\n",
        "  class_weight=class_weights_dict\n",
        ")"
      ]
    },
    {
      "cell_type": "code",
      "execution_count": 25,
      "metadata": {},
      "outputs": [
        {
          "name": "stdout",
          "output_type": "stream",
          "text": [
            "236/236 [==============================] - 5s 21ms/step - loss: 0.1791 - accuracy: 0.2914\n",
            "score: 0.17913109064102173\n",
            "Test accuracy with CNN: 0.2914232611656189\n",
            "236/236 [==============================] - 4s 19ms/step\n",
            "\n",
            "Classification Report:\n",
            "                           precision    recall  f1-score   support\n",
            "\n",
            "             alt.atheism     0.3750    0.1034    0.1622       319\n",
            "           comp.graphics     0.1964    0.0566    0.0878       389\n",
            " comp.os.ms-windows.misc     0.4667    0.0888    0.1493       394\n",
            "comp.sys.ibm.pc.hardware     0.2842    0.0689    0.1109       392\n",
            "   comp.sys.mac.hardware     0.4513    0.1325    0.2048       385\n",
            "          comp.windows.x     0.4407    0.1316    0.2027       395\n",
            "            misc.forsale     0.7391    0.4795    0.5816       390\n",
            "               rec.autos     0.3760    0.1187    0.1804       396\n",
            "         rec.motorcycles     0.4650    0.2337    0.3110       398\n",
            "      rec.sport.baseball     0.5730    0.2569    0.3548       397\n",
            "        rec.sport.hockey     0.5944    0.2682    0.3696       399\n",
            "               sci.crypt     0.5793    0.2121    0.3105       396\n",
            "         sci.electronics     0.3091    0.0865    0.1352       393\n",
            "                 sci.med     0.3248    0.0960    0.1481       396\n",
            "               sci.space     0.4437    0.1701    0.2459       394\n",
            "  soc.religion.christian     0.4407    0.1307    0.2016       398\n",
            "      talk.politics.guns     0.3932    0.1264    0.1913       364\n",
            "   talk.politics.mideast     0.6000    0.2633    0.3660       376\n",
            "      talk.politics.misc     0.3482    0.1258    0.1848       310\n",
            "      talk.religion.misc     0.3303    0.1434    0.2000       251\n",
            "\n",
            "               micro avg     0.4666    0.1661    0.2450      7532\n",
            "               macro avg     0.4366    0.1646    0.2349      7532\n",
            "            weighted avg     0.4402    0.1661    0.2369      7532\n",
            "             samples avg     0.1627    0.1661    0.1638      7532\n",
            "\n",
            "\n",
            "\tMacro F1 Score = 0.2349, Micro F1 Score = 0.2450\n"
          ]
        }
      ],
      "source": [
        "#Evaluate on test set:\n",
        "score, acc = rnnmodel.evaluate(test_data, test_labels)\n",
        "print(\"score:\", score)\n",
        "print('Test accuracy with CNN:', acc)\n",
        "\n",
        "test_preds = rnnmodel.predict(test_data)\n",
        "        \n",
        "# Thresholding for multi-label classification\n",
        "test_pred_classes = (test_preds > .5).astype(int)\n",
        "\n",
        "# Classification report with class labels and four decimal places\n",
        "report = classification_report(test_labels, test_pred_classes, target_names=class_names, digits=4)\n",
        "print(\"\\nClassification Report:\\n\", report)\n",
        "\n",
        "# Calculate macro and micro F1 scores\n",
        "macro_f1 = f1_score(y_test, test_pred_classes, average='macro')\n",
        "micro_f1 = f1_score(y_test, test_pred_classes, average='micro')\n",
        "\n",
        "# Log F1 scores\n",
        "print(f\"\\n\\tMacro F1 Score = {macro_f1:.4f}, Micro F1 Score = {micro_f1:.4f}\")"
      ]
    },
    {
      "cell_type": "markdown",
      "metadata": {
        "id": "tJYzsZFSg9z-"
      },
      "source": [
        "### LSTM Model using pre-trained Embedding Layer"
      ]
    },
    {
      "cell_type": "code",
      "execution_count": null,
      "metadata": {
        "colab": {
          "base_uri": "https://localhost:8080/"
        },
        "id": "Eymx0IyCb5_-",
        "outputId": "da0fa303-a4c4-4b92-ff42-54f1a1d51e45"
      },
      "outputs": [
        {
          "name": "stdout",
          "output_type": "stream",
          "text": [
            "Defining and training an LSTM model, using pre-trained embedding layer\n",
            "Training the RNN\n",
            "Epoch 1/50\n",
            "236/236 [==============================] - 4s 17ms/step\n",
            "Epoch 1: Macro F1 Score = 0.0000, Micro F1 Score = 0.0000\n",
            "283/283 [==============================] - 23s 77ms/step - loss: 0.2064 - accuracy: 0.0824 - val_loss: 0.1848 - val_accuracy: 0.1331 - lr: 0.0010\n",
            "Epoch 2/50\n",
            "226/283 [======================>.......] - ETA: 3s - loss: 0.1735 - accuracy: 0.1757"
          ]
        }
      ],
      "source": [
        "print(\"Defining and training an LSTM model, using pre-trained embedding layer\")\n",
        "\n",
        "rnnmodel2 = Sequential()\n",
        "rnnmodel2.add(embedding_layer)\n",
        "#rnnmodel2.add(LSTM(128, dropout=0.2, recurrent_dropout=0.2))\n",
        "rnnmodel2.add(LSTM(128, dropout=0.2))\n",
        "rnnmodel2.add(Dense(num_classes, activation='sigmoid'))\n",
        "\n",
        "rnnmodel2.compile(\n",
        "  loss='binary_crossentropy',\n",
        "  optimizer='adam',\n",
        "  metrics=['accuracy']\n",
        "  )\n",
        "\n",
        "print('Training the RNN')\n",
        "\n",
        "history3 = rnnmodel2.fit(\n",
        "  x_train, \n",
        "  y_train,\n",
        "  batch_size=LSTM_BATCH_SIZE,\n",
        "  epochs=EPOCHS,\n",
        "  validation_data=(x_val, y_val),\n",
        "  callbacks=[reduce_lr, early_stop, f1_callback],\n",
        "  class_weight=class_weights_dict\n",
        "  )"
      ]
    },
    {
      "cell_type": "code",
      "execution_count": 28,
      "metadata": {},
      "outputs": [
        {
          "name": "stdout",
          "output_type": "stream",
          "text": [
            "history: <class 'keras.callbacks.History'> dict_keys(['loss', 'accuracy', 'val_loss', 'val_accuracy'])\n"
          ]
        }
      ],
      "source": [
        "print(\"history:\", type(history3), history3.history.keys())\n",
        "#plot_history(history3)"
      ]
    },
    {
      "cell_type": "code",
      "execution_count": 29,
      "metadata": {},
      "outputs": [
        {
          "name": "stdout",
          "output_type": "stream",
          "text": [
            "236/236 [==============================] - 4s 17ms/step - loss: 0.1952 - accuracy: 0.1049\n",
            "score: 0.19518542289733887\n",
            "Test accuracy with CNN: 0.10488582402467728\n",
            "236/236 [==============================] - 4s 17ms/step\n",
            "\n",
            "Classification Report:\n",
            "                           precision    recall  f1-score   support\n",
            "\n",
            "             alt.atheism     0.0000    0.0000    0.0000       319\n",
            "           comp.graphics     0.0000    0.0000    0.0000       389\n",
            " comp.os.ms-windows.misc     0.0000    0.0000    0.0000       394\n",
            "comp.sys.ibm.pc.hardware     0.0000    0.0000    0.0000       392\n",
            "   comp.sys.mac.hardware     0.0000    0.0000    0.0000       385\n",
            "          comp.windows.x     0.0000    0.0000    0.0000       395\n",
            "            misc.forsale     0.0000    0.0000    0.0000       390\n",
            "               rec.autos     0.0000    0.0000    0.0000       396\n",
            "         rec.motorcycles     0.0000    0.0000    0.0000       398\n",
            "      rec.sport.baseball     0.0000    0.0000    0.0000       397\n",
            "        rec.sport.hockey     0.0000    0.0000    0.0000       399\n",
            "               sci.crypt     0.0000    0.0000    0.0000       396\n",
            "         sci.electronics     0.0000    0.0000    0.0000       393\n",
            "                 sci.med     0.0000    0.0000    0.0000       396\n",
            "               sci.space     0.0000    0.0000    0.0000       394\n",
            "  soc.religion.christian     0.0000    0.0000    0.0000       398\n",
            "      talk.politics.guns     0.0000    0.0000    0.0000       364\n",
            "   talk.politics.mideast     0.0000    0.0000    0.0000       376\n",
            "      talk.politics.misc     0.0000    0.0000    0.0000       310\n",
            "      talk.religion.misc     0.0000    0.0000    0.0000       251\n",
            "\n",
            "               micro avg     0.0000    0.0000    0.0000      7532\n",
            "               macro avg     0.0000    0.0000    0.0000      7532\n",
            "            weighted avg     0.0000    0.0000    0.0000      7532\n",
            "             samples avg     0.0000    0.0000    0.0000      7532\n",
            "\n",
            "\n",
            "\tMacro F1 Score = 0.0000, Micro F1 Score = 0.0000\n"
          ]
        }
      ],
      "source": [
        "#Evaluate on test set:\n",
        "score, acc = rnnmodel2.evaluate(test_data, test_labels, batch_size=LSTM_BATCH_SIZE)\n",
        "print(\"score:\", score)\n",
        "print('Test accuracy with CNN:', acc)\n",
        "\n",
        "test_preds = rnnmodel2.predict(test_data)\n",
        "        \n",
        "# Thresholding for multi-label classification\n",
        "test_pred_classes = (test_preds > .5).astype(int)\n",
        "\n",
        "# Classification report with class labels and four decimal places\n",
        "report = classification_report(test_labels, test_pred_classes, target_names=class_names, digits=4)\n",
        "print(\"\\nClassification Report:\\n\", report)\n",
        "\n",
        "# Calculate macro and micro F1 scores\n",
        "macro_f1 = f1_score(y_test, test_pred_classes, average='macro')\n",
        "micro_f1 = f1_score(y_test, test_pred_classes, average='micro')\n",
        "\n",
        "# Log F1 scores\n",
        "print(f\"\\n\\tMacro F1 Score = {macro_f1:.4f}, Micro F1 Score = {micro_f1:.4f}\")"
      ]
    }
  ],
  "metadata": {
    "accelerator": "GPU",
    "colab": {
      "collapsed_sections": [],
      "name": "05_DeepNN_Example.ipynb",
      "provenance": []
    },
    "kernelspec": {
      "display_name": "python310",
      "language": "python",
      "name": "python3"
    },
    "language_info": {
      "codemirror_mode": {
        "name": "ipython",
        "version": 3
      },
      "file_extension": ".py",
      "mimetype": "text/x-python",
      "name": "python",
      "nbconvert_exporter": "python",
      "pygments_lexer": "ipython3",
      "version": "3.10.13"
    }
  },
  "nbformat": 4,
  "nbformat_minor": 0
}
