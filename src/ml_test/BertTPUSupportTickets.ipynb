{
  "cells": [
    {
      "cell_type": "code",
      "execution_count": null,
      "metadata": {
        "colab": {
          "base_uri": "https://localhost:8080/"
        },
        "id": "fCFWazYMSLJz",
        "outputId": "a4ab08eb-1487-475e-c7a8-3e5b1dd6f7ca"
      },
      "outputs": [
        {
          "name": "stdout",
          "output_type": "stream",
          "text": [
            "Collecting transformers\n",
            "  Downloading transformers-4.12.3-py3-none-any.whl (3.1 MB)\n",
            "\u001b[K     |████████████████████████████████| 3.1 MB 5.2 MB/s \n",
            "\u001b[?25hCollecting pyyaml>=5.1\n",
            "  Downloading PyYAML-6.0-cp37-cp37m-manylinux_2_5_x86_64.manylinux1_x86_64.manylinux_2_12_x86_64.manylinux2010_x86_64.whl (596 kB)\n",
            "\u001b[K     |████████████████████████████████| 596 kB 75.1 MB/s \n",
            "\u001b[?25hRequirement already satisfied: filelock in /usr/local/lib/python3.7/dist-packages (from transformers) (3.3.0)\n",
            "Collecting huggingface-hub<1.0,>=0.1.0\n",
            "  Downloading huggingface_hub-0.1.1-py3-none-any.whl (59 kB)\n",
            "\u001b[K     |████████████████████████████████| 59 kB 6.5 MB/s \n",
            "\u001b[?25hRequirement already satisfied: tqdm>=4.27 in /usr/local/lib/python3.7/dist-packages (from transformers) (4.62.3)\n",
            "Requirement already satisfied: importlib-metadata in /usr/local/lib/python3.7/dist-packages (from transformers) (4.8.1)\n",
            "Collecting sacremoses\n",
            "  Downloading sacremoses-0.0.46-py3-none-any.whl (895 kB)\n",
            "\u001b[K     |████████████████████████████████| 895 kB 78.0 MB/s \n",
            "\u001b[?25hRequirement already satisfied: requests in /usr/local/lib/python3.7/dist-packages (from transformers) (2.23.0)\n",
            "Requirement already satisfied: packaging>=20.0 in /usr/local/lib/python3.7/dist-packages (from transformers) (21.0)\n",
            "Collecting tokenizers<0.11,>=0.10.1\n",
            "  Downloading tokenizers-0.10.3-cp37-cp37m-manylinux_2_5_x86_64.manylinux1_x86_64.manylinux_2_12_x86_64.manylinux2010_x86_64.whl (3.3 MB)\n",
            "\u001b[K     |████████████████████████████████| 3.3 MB 56.7 MB/s \n",
            "\u001b[?25hRequirement already satisfied: regex!=2019.12.17 in /usr/local/lib/python3.7/dist-packages (from transformers) (2019.12.20)\n",
            "Requirement already satisfied: numpy>=1.17 in /usr/local/lib/python3.7/dist-packages (from transformers) (1.19.5)\n",
            "Requirement already satisfied: typing-extensions>=3.7.4.3 in /usr/local/lib/python3.7/dist-packages (from huggingface-hub<1.0,>=0.1.0->transformers) (3.7.4.3)\n",
            "Requirement already satisfied: pyparsing>=2.0.2 in /usr/local/lib/python3.7/dist-packages (from packaging>=20.0->transformers) (2.4.7)\n",
            "Requirement already satisfied: zipp>=0.5 in /usr/local/lib/python3.7/dist-packages (from importlib-metadata->transformers) (3.6.0)\n",
            "Requirement already satisfied: chardet<4,>=3.0.2 in /usr/local/lib/python3.7/dist-packages (from requests->transformers) (3.0.4)\n",
            "Requirement already satisfied: urllib3!=1.25.0,!=1.25.1,<1.26,>=1.21.1 in /usr/local/lib/python3.7/dist-packages (from requests->transformers) (1.24.3)\n",
            "Requirement already satisfied: idna<3,>=2.5 in /usr/local/lib/python3.7/dist-packages (from requests->transformers) (2.10)\n",
            "Requirement already satisfied: certifi>=2017.4.17 in /usr/local/lib/python3.7/dist-packages (from requests->transformers) (2021.5.30)\n",
            "Requirement already satisfied: six in /usr/local/lib/python3.7/dist-packages (from sacremoses->transformers) (1.15.0)\n",
            "Requirement already satisfied: click in /usr/local/lib/python3.7/dist-packages (from sacremoses->transformers) (7.1.2)\n",
            "Requirement already satisfied: joblib in /usr/local/lib/python3.7/dist-packages (from sacremoses->transformers) (1.0.1)\n",
            "Installing collected packages: pyyaml, tokenizers, sacremoses, huggingface-hub, transformers\n",
            "  Attempting uninstall: pyyaml\n",
            "    Found existing installation: PyYAML 3.13\n",
            "    Uninstalling PyYAML-3.13:\n",
            "      Successfully uninstalled PyYAML-3.13\n",
            "Successfully installed huggingface-hub-0.1.1 pyyaml-6.0 sacremoses-0.0.46 tokenizers-0.10.3 transformers-4.12.3\n",
            "Collecting pytorch-transformers\n",
            "  Downloading pytorch_transformers-1.2.0-py3-none-any.whl (176 kB)\n",
            "\u001b[K     |████████████████████████████████| 176 kB 5.3 MB/s \n",
            "\u001b[?25hRequirement already satisfied: regex in /usr/local/lib/python3.7/dist-packages (from pytorch-transformers) (2019.12.20)\n",
            "Collecting sentencepiece\n",
            "  Downloading sentencepiece-0.1.96-cp37-cp37m-manylinux_2_17_x86_64.manylinux2014_x86_64.whl (1.2 MB)\n",
            "\u001b[K     |████████████████████████████████| 1.2 MB 41.9 MB/s \n",
            "\u001b[?25hRequirement already satisfied: torch>=1.0.0 in /usr/local/lib/python3.7/dist-packages (from pytorch-transformers) (1.9.0+cu111)\n",
            "Requirement already satisfied: sacremoses in /usr/local/lib/python3.7/dist-packages (from pytorch-transformers) (0.0.46)\n",
            "Requirement already satisfied: tqdm in /usr/local/lib/python3.7/dist-packages (from pytorch-transformers) (4.62.3)\n",
            "Requirement already satisfied: numpy in /usr/local/lib/python3.7/dist-packages (from pytorch-transformers) (1.19.5)\n",
            "Requirement already satisfied: requests in /usr/local/lib/python3.7/dist-packages (from pytorch-transformers) (2.23.0)\n",
            "Collecting boto3\n",
            "  Downloading boto3-1.19.12-py3-none-any.whl (131 kB)\n",
            "\u001b[K     |████████████████████████████████| 131 kB 79.6 MB/s \n",
            "\u001b[?25hRequirement already satisfied: typing-extensions in /usr/local/lib/python3.7/dist-packages (from torch>=1.0.0->pytorch-transformers) (3.7.4.3)\n",
            "Collecting botocore<1.23.0,>=1.22.12\n",
            "  Downloading botocore-1.22.12-py3-none-any.whl (8.1 MB)\n",
            "\u001b[K     |████████████████████████████████| 8.1 MB 48.6 MB/s \n",
            "\u001b[?25hCollecting jmespath<1.0.0,>=0.7.1\n",
            "  Downloading jmespath-0.10.0-py2.py3-none-any.whl (24 kB)\n",
            "Collecting s3transfer<0.6.0,>=0.5.0\n",
            "  Downloading s3transfer-0.5.0-py3-none-any.whl (79 kB)\n",
            "\u001b[K     |████████████████████████████████| 79 kB 8.4 MB/s \n",
            "\u001b[?25hRequirement already satisfied: python-dateutil<3.0.0,>=2.1 in /usr/local/lib/python3.7/dist-packages (from botocore<1.23.0,>=1.22.12->boto3->pytorch-transformers) (2.8.2)\n",
            "Collecting urllib3<1.27,>=1.25.4\n",
            "  Downloading urllib3-1.26.7-py2.py3-none-any.whl (138 kB)\n",
            "\u001b[K     |████████████████████████████████| 138 kB 82.9 MB/s \n",
            "\u001b[?25hRequirement already satisfied: six>=1.5 in /usr/local/lib/python3.7/dist-packages (from python-dateutil<3.0.0,>=2.1->botocore<1.23.0,>=1.22.12->boto3->pytorch-transformers) (1.15.0)\n",
            "Requirement already satisfied: certifi>=2017.4.17 in /usr/local/lib/python3.7/dist-packages (from requests->pytorch-transformers) (2021.5.30)\n",
            "Requirement already satisfied: idna<3,>=2.5 in /usr/local/lib/python3.7/dist-packages (from requests->pytorch-transformers) (2.10)\n",
            "Requirement already satisfied: chardet<4,>=3.0.2 in /usr/local/lib/python3.7/dist-packages (from requests->pytorch-transformers) (3.0.4)\n",
            "  Downloading urllib3-1.25.11-py2.py3-none-any.whl (127 kB)\n",
            "\u001b[K     |████████████████████████████████| 127 kB 76.2 MB/s \n",
            "\u001b[?25hRequirement already satisfied: joblib in /usr/local/lib/python3.7/dist-packages (from sacremoses->pytorch-transformers) (1.0.1)\n",
            "Requirement already satisfied: click in /usr/local/lib/python3.7/dist-packages (from sacremoses->pytorch-transformers) (7.1.2)\n",
            "Installing collected packages: urllib3, jmespath, botocore, s3transfer, sentencepiece, boto3, pytorch-transformers\n",
            "  Attempting uninstall: urllib3\n",
            "    Found existing installation: urllib3 1.24.3\n",
            "    Uninstalling urllib3-1.24.3:\n",
            "      Successfully uninstalled urllib3-1.24.3\n",
            "\u001b[31mERROR: pip's dependency resolver does not currently take into account all the packages that are installed. This behaviour is the source of the following dependency conflicts.\n",
            "datascience 0.10.6 requires folium==0.2.1, but you have folium 0.8.3 which is incompatible.\u001b[0m\n",
            "Successfully installed boto3-1.19.12 botocore-1.22.12 jmespath-0.10.0 pytorch-transformers-1.2.0 s3transfer-0.5.0 sentencepiece-0.1.96 urllib3-1.25.11\n"
          ]
        }
      ],
      "source": [
        "!pip install transformers\n",
        "!pip install pytorch-transformers"
      ]
    },
    {
      "cell_type": "code",
      "execution_count": null,
      "metadata": {
        "id": "09TscoDsSPpL"
      },
      "outputs": [],
      "source": [
        "import numpy as np\n",
        "import regex as re\n",
        "import pandas as pd\n",
        "import matplotlib.pyplot as plt\n",
        "import seaborn as sns\n",
        "import statistics\n",
        "import math\n",
        "import os\n",
        "\n",
        "from sklearn.model_selection import StratifiedKFold\n",
        "from sklearn.metrics import accuracy_score\n",
        "from sklearn.model_selection import train_test_split\n",
        "\n",
        "import tensorflow as tf\n",
        "import tensorflow.keras.backend as K\n",
        "import tokenizers\n",
        "from transformers import BertTokenizer, TFBertModel, BertForSequenceClassification, BertConfig\n",
        "\n",
        "from collections import Counter\n",
        "\n",
        "import warnings\n",
        "warnings.filterwarnings(\"ignore\")"
      ]
    },
    {
      "cell_type": "code",
      "execution_count": null,
      "metadata": {
        "id": "7mM99kOWSZI2"
      },
      "outputs": [],
      "source": [
        "# Detect hardware, return appropriate distribution strategy (you can see that it is pretty easy to set up).\n",
        "try:\n",
        "    # TPU detection. No parameters necessary if TPU_NAME environment variable is set (always set in Kaggle)\n",
        "    tpu = tf.distribute.cluster_resolver.TPUClusterResolver()\n",
        "    tf.config.experimental_connect_to_cluster(tpu)\n",
        "    tf.tpu.experimental.initialize_tpu_system(tpu)\n",
        "    strategy = tf.distribute.experimental.TPUStrategy(tpu)\n",
        "    print('Running on TPU ', tpu.master())\n",
        "except ValueError:\n",
        "    # Default distribution strategy in Tensorflow. Works on CPU and single GPU.\n",
        "    strategy = tf.distribute.get_strategy()\n",
        "\n",
        "print('Number of replicas:', strategy.num_replicas_in_sync)"
      ]
    },
    {
      "cell_type": "code",
      "execution_count": null,
      "metadata": {
        "id": "4fGeJVk6SdKT"
      },
      "outputs": [],
      "source": [
        "MODEL_NAME = 'bert-base-uncased'\n",
        "MAX_LEN = 256\n",
        "ARTIFACTS_PATH = '../artifacts/'\n",
        "\n",
        "BATCH_SIZE = 8 * strategy.num_replicas_in_sync\n",
        "EPOCHS = 3\n",
        "\n",
        "if not os.path.exists(ARTIFACTS_PATH):\n",
        "    os.makedirs(ARTIFACTS_PATH)"
      ]
    },
    {
      "cell_type": "code",
      "execution_count": null,
      "metadata": {
        "colab": {
          "base_uri": "https://localhost:8080/"
        },
        "id": "_J7pxO51TztH",
        "outputId": "25946114-415a-47d1-c5ec-23072a279bbf"
      },
      "outputs": [
        {
          "name": "stdout",
          "output_type": "stream",
          "text": [
            "Downloading...\n",
            "From: https://drive.google.com/uc?id=1LxH5sC6AdrwzClPEGUAV2HVcPjWIPmc8\n",
            "To: /content/FinalFinalTwoTierSnowmirror.csv\n",
            "100% 101M/101M [00:00<00:00, 217MB/s] \n"
          ]
        }
      ],
      "source": [
        "! gdown --id 1LxH5sC6AdrwzClPEGUAV2HVcPjWIPmc8  ##SupportTickets\n",
        "#! gdown --id 1etLBrBTdokVHIuaxEmr1Koacos4IbMZL ## ConsumerComplaints"
      ]
    },
    {
      "cell_type": "code",
      "execution_count": null,
      "metadata": {
        "id": "2Et3A9nrTzvT"
      },
      "outputs": [],
      "source": [
        "import pandas as pd\n",
        "import io\n",
        "data = pd.read_csv('FinalFinalTwoTierSnowmirror.csv')"
      ]
    },
    {
      "cell_type": "code",
      "execution_count": null,
      "metadata": {
        "colab": {
          "base_uri": "https://localhost:8080/",
          "height": 357
        },
        "id": "QswhfKYMT5V2",
        "outputId": "ebb07af4-aeb9-4e0e-a200-8dacc5b52c54"
      },
      "outputs": [
        {
          "data": {
            "text/html": [
              "<div>\n",
              "<style scoped>\n",
              "    .dataframe tbody tr th:only-of-type {\n",
              "        vertical-align: middle;\n",
              "    }\n",
              "\n",
              "    .dataframe tbody tr th {\n",
              "        vertical-align: top;\n",
              "    }\n",
              "\n",
              "    .dataframe thead th {\n",
              "        text-align: right;\n",
              "    }\n",
              "</style>\n",
              "<table border=\"1\" class=\"dataframe\">\n",
              "  <thead>\n",
              "    <tr style=\"text-align: right;\">\n",
              "      <th></th>\n",
              "      <th>FinalText</th>\n",
              "      <th>DV_CATEGORY</th>\n",
              "    </tr>\n",
              "  </thead>\n",
              "  <tbody>\n",
              "    <tr>\n",
              "      <th>0</th>\n",
              "      <td>mass data migration device rental invoice</td>\n",
              "      <td>Project Office</td>\n",
              "    </tr>\n",
              "    <tr>\n",
              "      <th>1</th>\n",
              "      <td>ibm cloud backup non successful hello use evau...</td>\n",
              "      <td>Compute</td>\n",
              "    </tr>\n",
              "    <tr>\n",
              "      <th>2</th>\n",
              "      <td>accounting request pro rate credit</td>\n",
              "      <td>Project Office</td>\n",
              "    </tr>\n",
              "    <tr>\n",
              "      <th>3</th>\n",
              "      <td>feature code purchase subscription receive sen...</td>\n",
              "      <td>Project Office</td>\n",
              "    </tr>\n",
              "    <tr>\n",
              "      <th>4</th>\n",
              "      <td>subscription account link ibm cloud bluemix si...</td>\n",
              "      <td>Project Office</td>\n",
              "    </tr>\n",
              "    <tr>\n",
              "      <th>5</th>\n",
              "      <td>virtual server high customer like replicate ib...</td>\n",
              "      <td>Compute</td>\n",
              "    </tr>\n",
              "    <tr>\n",
              "      <th>6</th>\n",
              "      <td>incorrectly early provision due error replace ...</td>\n",
              "      <td>Project Office</td>\n",
              "    </tr>\n",
              "    <tr>\n",
              "      <th>7</th>\n",
              "      <td>security compliance require vmware answer impl...</td>\n",
              "      <td>Compute</td>\n",
              "    </tr>\n",
              "    <tr>\n",
              "      <th>8</th>\n",
              "      <td>service cancellation</td>\n",
              "      <td>3rd Party Reseller</td>\n",
              "    </tr>\n",
              "    <tr>\n",
              "      <th>9</th>\n",
              "      <td>bluemix asset monitor compose postgresql</td>\n",
              "      <td>Platform / Console</td>\n",
              "    </tr>\n",
              "  </tbody>\n",
              "</table>\n",
              "</div>"
            ],
            "text/plain": [
              "                                           FinalText         DV_CATEGORY\n",
              "0          mass data migration device rental invoice      Project Office\n",
              "1  ibm cloud backup non successful hello use evau...             Compute\n",
              "2                 accounting request pro rate credit      Project Office\n",
              "3  feature code purchase subscription receive sen...      Project Office\n",
              "4  subscription account link ibm cloud bluemix si...      Project Office\n",
              "5  virtual server high customer like replicate ib...             Compute\n",
              "6  incorrectly early provision due error replace ...      Project Office\n",
              "7  security compliance require vmware answer impl...             Compute\n",
              "8                               service cancellation  3rd Party Reseller\n",
              "9           bluemix asset monitor compose postgresql  Platform / Console"
            ]
          },
          "execution_count": 7,
          "metadata": {},
          "output_type": "execute_result"
        }
      ],
      "source": [
        "##  Creating a new Dataframe with the cols we're interested In\n",
        "cols = ['FinalText', 'DV_CATEGORY']\n",
        "#cols = ['TokenizedText', 'Product']\n",
        "data = data[cols]\n",
        "data.head(10)"
      ]
    },
    {
      "cell_type": "code",
      "execution_count": null,
      "metadata": {
        "colab": {
          "base_uri": "https://localhost:8080/"
        },
        "id": "xq9flKMpBxKz",
        "outputId": "5dbb2dce-715c-42e6-d6f5-6a6da3081ff8"
      },
      "outputs": [
        {
          "data": {
            "text/plain": [
              "array(['Project Office', 'Compute', '3rd Party Reseller',\n",
              "       'Platform / Console', 'Services', 'VPC', 'Apps',\n",
              "       'Security and Identity', 'Networking', 'Integration',\n",
              "       'Project Office (internal)', 'Storage'], dtype=object)"
            ]
          },
          "execution_count": 8,
          "metadata": {},
          "output_type": "execute_result"
        }
      ],
      "source": [
        "data.DV_CATEGORY.unique()"
      ]
    },
    {
      "cell_type": "code",
      "execution_count": null,
      "metadata": {
        "id": "7c5YVYnTT5YX"
      },
      "outputs": [],
      "source": [
        "X_data = data[['FinalText']].to_numpy().reshape(-1)\n",
        "y_data = data[['DV_CATEGORY']].to_numpy().reshape(-1)"
      ]
    },
    {
      "cell_type": "code",
      "execution_count": null,
      "metadata": {
        "id": "jjD9-_y-T5ab"
      },
      "outputs": [],
      "source": [
        "def bert_encode(texts, tokenizer):\n",
        "    ct = len(texts)\n",
        "    input_ids = np.ones((ct, MAX_LEN), dtype='int32')\n",
        "    attention_mask = np.zeros((ct, MAX_LEN), dtype='int32')\n",
        "    token_type_ids = np.zeros((ct, MAX_LEN), dtype='int32') # Not used in text classification\n",
        "\n",
        "    for k, text in enumerate(texts):\n",
        "        # Tokenize\n",
        "        tok_text = tokenizer.tokenize(str(text))\n",
        "\n",
        "        # Truncate and convert tokens to numerical IDs\n",
        "        enc_text = tokenizer.convert_tokens_to_ids(tok_text[:(MAX_LEN-2)])\n",
        "\n",
        "        input_length = len(enc_text) + 2\n",
        "        input_length = input_length if input_length < MAX_LEN else MAX_LEN\n",
        "\n",
        "        # Add tokens [CLS] and [SEP] at the beginning and the end\n",
        "        input_ids[k,:input_length] = np.asarray([0] + enc_text + [2], dtype='int32')\n",
        "\n",
        "        # Set to 1s in the attention input\n",
        "        attention_mask[k,:input_length] = 1\n",
        "\n",
        "    return {\n",
        "        'input_word_ids': input_ids,\n",
        "        'input_mask': attention_mask,\n",
        "        'input_type_ids': token_type_ids\n",
        "    }"
      ]
    },
    {
      "cell_type": "code",
      "execution_count": null,
      "metadata": {
        "colab": {
          "base_uri": "https://localhost:8080/"
        },
        "id": "4qdNSkLUT5cV",
        "outputId": "175a556f-7c8f-4841-ac99-2960bf41f810"
      },
      "outputs": [
        {
          "data": {
            "text/plain": [
              "{0: 'Project Office',\n",
              " 1: 'Compute',\n",
              " 2: '3rd Party Reseller',\n",
              " 3: 'Platform / Console',\n",
              " 4: 'Services',\n",
              " 5: 'VPC',\n",
              " 6: 'Apps',\n",
              " 7: 'Security and Identity',\n",
              " 8: 'Networking',\n",
              " 9: 'Integration',\n",
              " 10: 'Project Office (internal)',\n",
              " 11: 'Storage'}"
            ]
          },
          "execution_count": 32,
          "metadata": {},
          "output_type": "execute_result"
        }
      ],
      "source": [
        "# Transform categories into numbers\n",
        "category_to_id = {}\n",
        "category_to_name = {}\n",
        "\n",
        "for index, c in enumerate(y_data):\n",
        "    if c in category_to_id:\n",
        "        category_id = category_to_id[c]\n",
        "    else:\n",
        "        category_id = len(category_to_id)\n",
        "        category_to_id[c] = category_id\n",
        "        category_to_name[category_id] = c\n",
        "\n",
        "    y_data[index] = category_id\n",
        "\n",
        "# Display dictionary\n",
        "category_to_name"
      ]
    },
    {
      "cell_type": "code",
      "execution_count": null,
      "metadata": {
        "id": "2HOoBzcqT5d8"
      },
      "outputs": [],
      "source": [
        "categories = data['DV_CATEGORY'].unique()\n",
        "n_categories = len(categories)"
      ]
    },
    {
      "cell_type": "code",
      "execution_count": null,
      "metadata": {
        "colab": {
          "base_uri": "https://localhost:8080/"
        },
        "id": "g9Q2f0HPI7kN",
        "outputId": "b0b063e0-b528-44d1-ea12-867c36e58f76"
      },
      "outputs": [
        {
          "data": {
            "text/plain": [
              "12"
            ]
          },
          "execution_count": 34,
          "metadata": {},
          "output_type": "execute_result"
        }
      ],
      "source": [
        "n_categories"
      ]
    },
    {
      "cell_type": "code",
      "execution_count": null,
      "metadata": {
        "id": "oNcQ3GWVT5f-"
      },
      "outputs": [],
      "source": [
        "# Split into train and test datasets\n",
        "X_train, X_test, y_train, y_test = train_test_split(X_data, y_data, test_size=0.3, random_state=777) # random_state to reproduce results"
      ]
    },
    {
      "cell_type": "code",
      "execution_count": null,
      "metadata": {
        "colab": {
          "base_uri": "https://localhost:8080/"
        },
        "id": "BUeQhYKxIMMA",
        "outputId": "fbc8105c-dc0c-45d6-b51b-ab871f0c1c0a"
      },
      "outputs": [
        {
          "data": {
            "text/plain": [
              "array(['increase upgrade bandwidth option sale agent hello need set server account expect consumption last month local ibm',\n",
              "       'make lite account get confirmation mail hour address trial ibm must spam box think proceed',\n",
              "       'user provide create dev environment access name hasan mohammad regard organization space resource field',\n",
              "       ..., 'test ticket ignore',\n",
              "       'confirmation behavior auto scale hello support team use node red like ask question automatically start instance number alive become low minimal least confirm scaling answer yes long take since',\n",
              "       'request survey charge san provide usage report something check content renewal order total balance platform support month reflect amount overage investigate whether follow invoice correct'],\n",
              "      dtype=object)"
            ]
          },
          "execution_count": 36,
          "metadata": {},
          "output_type": "execute_result"
        }
      ],
      "source": [
        "X_train"
      ]
    },
    {
      "cell_type": "code",
      "execution_count": null,
      "metadata": {
        "id": "-9YDnMKjT5iJ"
      },
      "outputs": [],
      "source": [
        "# Import tokenizer from HuggingFace\n",
        "tokenizer = BertTokenizer.from_pretrained(MODEL_NAME)"
      ]
    },
    {
      "cell_type": "code",
      "execution_count": null,
      "metadata": {
        "id": "v-7RLCMqT5kA"
      },
      "outputs": [],
      "source": [
        "X_train = bert_encode(X_train, tokenizer)\n",
        "X_test = bert_encode(X_test, tokenizer)\n",
        "\n",
        "y_train = np.asarray(y_train, dtype='int32')\n",
        "y_test = np.asarray(y_test, dtype='int32')"
      ]
    },
    {
      "cell_type": "code",
      "execution_count": null,
      "metadata": {
        "id": "vOvA9Ns7UZIY"
      },
      "outputs": [],
      "source": [
        "def build_model(n_categories):\n",
        "    with strategy.scope():\n",
        "        input_word_ids = tf.keras.Input(shape=(MAX_LEN,), dtype=tf.int32, name='input_word_ids')\n",
        "        input_mask = tf.keras.Input(shape=(MAX_LEN,), dtype=tf.int32, name='input_mask')\n",
        "        input_type_ids = tf.keras.Input(shape=(MAX_LEN,), dtype=tf.int32, name='input_type_ids')\n",
        "\n",
        "        # Import BERT model from HuggingFace\n",
        "        bert_model = TFBertModel.from_pretrained(MODEL_NAME)\n",
        "        x = bert_model(input_word_ids, attention_mask=input_mask, token_type_ids=input_type_ids)\n",
        "\n",
        "        # Huggingface transformers have multiple outputs, embeddings are the first one,\n",
        "        # so let's slice out the first position\n",
        "        x = x[0]\n",
        "\n",
        "        x = tf.keras.layers.Dropout(0.1)(x)\n",
        "        x = tf.keras.layers.Flatten()(x)\n",
        "        x = tf.keras.layers.Dense(256, activation='relu')(x)\n",
        "        x = tf.keras.layers.Dense(n_categories, activation='softmax')(x)\n",
        "\n",
        "        model = tf.keras.Model(inputs=[input_word_ids, input_mask, input_type_ids], outputs=x)\n",
        "        model.compile(\n",
        "            optimizer=tf.keras.optimizers.Adam(lr=1e-5),\n",
        "            loss='sparse_categorical_crossentropy',\n",
        "            metrics=['accuracy'])\n",
        "\n",
        "        return model"
      ]
    },
    {
      "cell_type": "code",
      "execution_count": null,
      "metadata": {
        "colab": {
          "base_uri": "https://localhost:8080/"
        },
        "id": "stSAgjOpUZLK",
        "outputId": "e70a4242-05de-4728-f89f-bd2d19580e30"
      },
      "outputs": [
        {
          "name": "stderr",
          "output_type": "stream",
          "text": [
            "Some layers from the model checkpoint at bert-base-uncased were not used when initializing TFBertModel: ['nsp___cls', 'mlm___cls']\n",
            "- This IS expected if you are initializing TFBertModel from the checkpoint of a model trained on another task or with another architecture (e.g. initializing a BertForSequenceClassification model from a BertForPreTraining model).\n",
            "- This IS NOT expected if you are initializing TFBertModel from the checkpoint of a model that you expect to be exactly identical (initializing a BertForSequenceClassification model from a BertForSequenceClassification model).\n",
            "All the layers of TFBertModel were initialized from the model checkpoint at bert-base-uncased.\n",
            "If your task is similar to the task the model of the checkpoint was trained on, you can already use TFBertModel for predictions without further training.\n"
          ]
        },
        {
          "name": "stdout",
          "output_type": "stream",
          "text": [
            "Model: \"model_3\"\n",
            "__________________________________________________________________________________________________\n",
            "Layer (type)                    Output Shape         Param #     Connected to                     \n",
            "==================================================================================================\n",
            "input_word_ids (InputLayer)     [(None, 256)]        0                                            \n",
            "__________________________________________________________________________________________________\n",
            "input_mask (InputLayer)         [(None, 256)]        0                                            \n",
            "__________________________________________________________________________________________________\n",
            "input_type_ids (InputLayer)     [(None, 256)]        0                                            \n",
            "__________________________________________________________________________________________________\n",
            "tf_bert_model_3 (TFBertModel)   TFBaseModelOutputWit 109482240   input_word_ids[0][0]             \n",
            "                                                                 input_mask[0][0]                 \n",
            "                                                                 input_type_ids[0][0]             \n",
            "__________________________________________________________________________________________________\n",
            "dropout_151 (Dropout)           (None, 256, 768)     0           tf_bert_model_3[0][0]            \n",
            "__________________________________________________________________________________________________\n",
            "flatten_3 (Flatten)             (None, 196608)       0           dropout_151[0][0]                \n",
            "__________________________________________________________________________________________________\n",
            "dense_6 (Dense)                 (None, 256)          50331904    flatten_3[0][0]                  \n",
            "__________________________________________________________________________________________________\n",
            "dense_7 (Dense)                 (None, 12)           3084        dense_6[0][0]                    \n",
            "==================================================================================================\n",
            "Total params: 159,817,228\n",
            "Trainable params: 159,817,228\n",
            "Non-trainable params: 0\n",
            "__________________________________________________________________________________________________\n"
          ]
        }
      ],
      "source": [
        "with strategy.scope():\n",
        "    model = build_model(n_categories)\n",
        "    model.summary()"
      ]
    },
    {
      "cell_type": "code",
      "execution_count": null,
      "metadata": {
        "colab": {
          "base_uri": "https://localhost:8080/"
        },
        "id": "pJtUEjSvUZOi",
        "outputId": "767b4a86-5023-4ff4-d358-fce3fd474684"
      },
      "outputs": [
        {
          "name": "stdout",
          "output_type": "stream",
          "text": [
            "Training...\n",
            "Epoch 1/3\n"
          ]
        },
        {
          "name": "stderr",
          "output_type": "stream",
          "text": [
            "INFO:absl:TPU has inputs with dynamic shapes: [<tf.Tensor 'Const:0' shape=() dtype=int32>, <tf.Tensor 'cond_8/Identity:0' shape=(None, 256) dtype=int32>, <tf.Tensor 'cond_8/Identity_1:0' shape=(None, 256) dtype=int32>, <tf.Tensor 'cond_8/Identity_2:0' shape=(None, 256) dtype=int32>, <tf.Tensor 'cond_8/Identity_3:0' shape=(None,) dtype=int32>]\n"
          ]
        },
        {
          "name": "stdout",
          "output_type": "stream",
          "text": [
            "WARNING:tensorflow:Gradients do not exist for variables ['tf_bert_model_3/bert/pooler/dense/kernel:0', 'tf_bert_model_3/bert/pooler/dense/bias:0'] when minimizing the loss.\n"
          ]
        },
        {
          "name": "stderr",
          "output_type": "stream",
          "text": [
            "WARNING:tensorflow:Gradients do not exist for variables ['tf_bert_model_3/bert/pooler/dense/kernel:0', 'tf_bert_model_3/bert/pooler/dense/bias:0'] when minimizing the loss.\n",
            "INFO:absl:TPU has inputs with dynamic shapes: [<tf.Tensor 'Const:0' shape=() dtype=int32>, <tf.Tensor 'cond_8/Identity:0' shape=(None, 256) dtype=int32>, <tf.Tensor 'cond_8/Identity_1:0' shape=(None, 256) dtype=int32>, <tf.Tensor 'cond_8/Identity_2:0' shape=(None, 256) dtype=int32>, <tf.Tensor 'cond_8/Identity_3:0' shape=(None,) dtype=int32>]\n"
          ]
        },
        {
          "name": "stdout",
          "output_type": "stream",
          "text": [
            "WARNING:tensorflow:Gradients do not exist for variables ['tf_bert_model_3/bert/pooler/dense/kernel:0', 'tf_bert_model_3/bert/pooler/dense/bias:0'] when minimizing the loss.\n"
          ]
        },
        {
          "name": "stderr",
          "output_type": "stream",
          "text": [
            "WARNING:tensorflow:Gradients do not exist for variables ['tf_bert_model_3/bert/pooler/dense/kernel:0', 'tf_bert_model_3/bert/pooler/dense/bias:0'] when minimizing the loss.\n"
          ]
        },
        {
          "name": "stdout",
          "output_type": "stream",
          "text": [
            "2128/2128 [==============================] - ETA: 0s - loss: 0.8341 - accuracy: 0.7366"
          ]
        },
        {
          "name": "stderr",
          "output_type": "stream",
          "text": [
            "INFO:absl:TPU has inputs with dynamic shapes: [<tf.Tensor 'Const:0' shape=() dtype=int32>, <tf.Tensor 'cond_8/Identity:0' shape=(None, 256) dtype=int32>, <tf.Tensor 'cond_8/Identity_1:0' shape=(None, 256) dtype=int32>, <tf.Tensor 'cond_8/Identity_2:0' shape=(None, 256) dtype=int32>, <tf.Tensor 'cond_8/Identity_3:0' shape=(None,) dtype=int32>]\n"
          ]
        },
        {
          "name": "stdout",
          "output_type": "stream",
          "text": [
            "2128/2128 [==============================] - 508s 199ms/step - loss: 0.8341 - accuracy: 0.7366 - val_loss: 0.7145 - val_accuracy: 0.7733\n",
            "Epoch 2/3\n",
            "2128/2128 [==============================] - 355s 167ms/step - loss: 0.6804 - accuracy: 0.7811 - val_loss: 0.6705 - val_accuracy: 0.7896\n",
            "Epoch 3/3\n",
            "2128/2128 [==============================] - 356s 167ms/step - loss: 0.6180 - accuracy: 0.7988 - val_loss: 0.6590 - val_accuracy: 0.7917\n"
          ]
        }
      ],
      "source": [
        "with strategy.scope():\n",
        "    print('Training...')\n",
        "    history = model.fit(X_train,\n",
        "                        y_train,\n",
        "                        epochs=EPOCHS,\n",
        "                        batch_size=BATCH_SIZE,\n",
        "                        verbose=1,\n",
        "                        validation_data=(X_test, y_test))"
      ]
    },
    {
      "cell_type": "code",
      "execution_count": null,
      "metadata": {
        "colab": {
          "base_uri": "https://localhost:8080/"
        },
        "id": "130Vi7HuKj22",
        "outputId": "e53deb68-38ec-4168-8dc0-0522d322f66b"
      },
      "outputs": [
        {
          "data": {
            "text/plain": [
              "array([[0.9132952 , 0.08670478],\n",
              "       [0.09615043, 0.90384954],\n",
              "       [0.90086865, 0.09913131],\n",
              "       [0.91933906, 0.08066092],\n",
              "       [0.12343215, 0.87656784],\n",
              "       [0.8872177 , 0.11278225],\n",
              "       [0.16934107, 0.830659  ],\n",
              "       [0.90292263, 0.09707733],\n",
              "       [0.04330614, 0.9566938 ],\n",
              "       [0.9645212 , 0.03547875],\n",
              "       [0.95503354, 0.04496641],\n",
              "       [0.8570329 , 0.14296713],\n",
              "       [0.06058738, 0.9394126 ],\n",
              "       [0.8674663 , 0.13253374],\n",
              "       [0.27896786, 0.72103214],\n",
              "       [0.09123947, 0.9087604 ],\n",
              "       [0.92922574, 0.07077418],\n",
              "       [0.8877487 , 0.11225132],\n",
              "       [0.26868767, 0.73131233],\n",
              "       [0.06149247, 0.93850744],\n",
              "       [0.85076886, 0.14923121],\n",
              "       [0.2576749 , 0.7423251 ],\n",
              "       [0.03756809, 0.96243197],\n",
              "       [0.76388615, 0.23611389],\n",
              "       [0.03847211, 0.9615279 ],\n",
              "       [0.9822324 , 0.01776751],\n",
              "       [0.04295966, 0.95704037],\n",
              "       [0.83125776, 0.1687422 ],\n",
              "       [0.88538367, 0.11461624],\n",
              "       [0.8722662 , 0.12773384],\n",
              "       [0.9014038 , 0.09859616],\n",
              "       [0.9863839 , 0.0136161 ],\n",
              "       [0.19559804, 0.804402  ],\n",
              "       [0.45445403, 0.54554605],\n",
              "       [0.84989035, 0.15010971],\n",
              "       [0.8829321 , 0.1170679 ],\n",
              "       [0.09255505, 0.90744495],\n",
              "       [0.1992919 , 0.80070806],\n",
              "       [0.88333607, 0.11666393],\n",
              "       [0.7388362 , 0.2611637 ],\n",
              "       [0.9390301 , 0.06096981],\n",
              "       [0.791823  , 0.20817697],\n",
              "       [0.9486282 , 0.05137178],\n",
              "       [0.03567509, 0.96432483],\n",
              "       [0.05251979, 0.9474802 ],\n",
              "       [0.91659296, 0.08340711],\n",
              "       [0.78296906, 0.217031  ],\n",
              "       [0.90973264, 0.0902674 ],\n",
              "       [0.03393042, 0.9660695 ],\n",
              "       [0.17323503, 0.826765  ],\n",
              "       [0.81460696, 0.18539305],\n",
              "       [0.83794147, 0.16205847],\n",
              "       [0.1353766 , 0.86462337],\n",
              "       [0.03530122, 0.96469885],\n",
              "       [0.9419799 , 0.05802007],\n",
              "       [0.6568753 , 0.34312466],\n",
              "       [0.9556335 , 0.04436655],\n",
              "       [0.93144554, 0.06855443],\n",
              "       [0.9216193 , 0.07838079],\n",
              "       [0.03847211, 0.9615279 ],\n",
              "       [0.9440521 , 0.05594793],\n",
              "       [0.9190868 , 0.08091328],\n",
              "       [0.9085092 , 0.09149077],\n",
              "       [0.0760777 , 0.92392224],\n",
              "       [0.31922534, 0.6807747 ],\n",
              "       [0.23708406, 0.7629159 ],\n",
              "       [0.20601688, 0.79398316],\n",
              "       [0.8377378 , 0.16226214],\n",
              "       [0.8831733 , 0.11682679],\n",
              "       [0.03530122, 0.96469885],\n",
              "       [0.18249051, 0.8175095 ],\n",
              "       [0.93751115, 0.0624888 ],\n",
              "       [0.12652993, 0.87347007],\n",
              "       [0.7567282 , 0.24327184],\n",
              "       [0.05527294, 0.9447271 ],\n",
              "       [0.90804136, 0.09195859],\n",
              "       [0.9348401 , 0.0651599 ],\n",
              "       [0.04492054, 0.9550795 ],\n",
              "       [0.8795277 , 0.12047236],\n",
              "       [0.11449827, 0.88550174],\n",
              "       [0.2487114 , 0.7512886 ],\n",
              "       [0.77219963, 0.22780035],\n",
              "       [0.7534887 , 0.24651128],\n",
              "       [0.924446  , 0.07555399],\n",
              "       [0.908393  , 0.09160704],\n",
              "       [0.8885408 , 0.11145917],\n",
              "       [0.07970972, 0.9202903 ],\n",
              "       [0.20220083, 0.79779917],\n",
              "       [0.10497375, 0.8950262 ],\n",
              "       [0.38690266, 0.61309725],\n",
              "       [0.1599816 , 0.84001845],\n",
              "       [0.89193463, 0.10806547],\n",
              "       [0.17124577, 0.82875425],\n",
              "       [0.91379917, 0.08620086],\n",
              "       [0.8289385 , 0.17106152],\n",
              "       [0.9402648 , 0.05973525],\n",
              "       [0.03677799, 0.963222  ],\n",
              "       [0.90076274, 0.09923722],\n",
              "       [0.15749994, 0.8425001 ],\n",
              "       [0.9864181 , 0.0135819 ],\n",
              "       [0.04363226, 0.9563677 ],\n",
              "       [0.9006993 , 0.09930068],\n",
              "       [0.9366036 , 0.06339634],\n",
              "       [0.9024023 , 0.09759776],\n",
              "       [0.10188842, 0.8981116 ],\n",
              "       [0.87506497, 0.12493496],\n",
              "       [0.9280425 , 0.0719576 ],\n",
              "       [0.93428963, 0.06571034],\n",
              "       [0.9170511 , 0.08294891],\n",
              "       [0.908586  , 0.09141394],\n",
              "       [0.91645676, 0.08354331],\n",
              "       [0.22758299, 0.772417  ],\n",
              "       [0.02572891, 0.9742712 ],\n",
              "       [0.17001097, 0.829989  ],\n",
              "       [0.04089729, 0.95910275],\n",
              "       [0.905689  , 0.09431106],\n",
              "       [0.87811464, 0.12188534],\n",
              "       [0.10274567, 0.8972543 ],\n",
              "       [0.9051146 , 0.09488548],\n",
              "       [0.18485405, 0.8151459 ],\n",
              "       [0.22707817, 0.77292186],\n",
              "       [0.91797   , 0.08203001],\n",
              "       [0.02640554, 0.9735945 ],\n",
              "       [0.9372347 , 0.06276528],\n",
              "       [0.8995333 , 0.10046674],\n",
              "       [0.09186717, 0.9081328 ],\n",
              "       [0.9321659 , 0.06783407],\n",
              "       [0.16118252, 0.83881754],\n",
              "       [0.93102384, 0.06897613],\n",
              "       [0.92319053, 0.07680939],\n",
              "       [0.94528204, 0.05471797],\n",
              "       [0.8728254 , 0.12717462],\n",
              "       [0.08428376, 0.91571623],\n",
              "       [0.93045175, 0.06954822],\n",
              "       [0.932741  , 0.06725905],\n",
              "       [0.9068043 , 0.09319576],\n",
              "       [0.8482916 , 0.15170836],\n",
              "       [0.89446306, 0.10553695],\n",
              "       [0.26013735, 0.73986256],\n",
              "       [0.8834985 , 0.11650154],\n",
              "       [0.06573547, 0.93426454],\n",
              "       [0.12888841, 0.8711117 ],\n",
              "       [0.74659455, 0.25340548],\n",
              "       [0.89591116, 0.10408888],\n",
              "       [0.7071976 , 0.29280242],\n",
              "       [0.9284538 , 0.07154623],\n",
              "       [0.80875045, 0.19124953],\n",
              "       [0.9416987 , 0.05830131],\n",
              "       [0.87001765, 0.12998235],\n",
              "       [0.9192758 , 0.08072414],\n",
              "       [0.04105929, 0.9589407 ],\n",
              "       [0.9513914 , 0.0486086 ],\n",
              "       [0.9006201 , 0.0993799 ],\n",
              "       [0.04504252, 0.9549575 ],\n",
              "       [0.5790178 , 0.42098212],\n",
              "       [0.96966326, 0.03033677],\n",
              "       [0.04089729, 0.95910275],\n",
              "       [0.34641197, 0.65358806],\n",
              "       [0.8979681 , 0.10203191],\n",
              "       [0.36760348, 0.63239664],\n",
              "       [0.0762426 , 0.92375743],\n",
              "       [0.22948244, 0.7705176 ],\n",
              "       [0.06249394, 0.9375061 ],\n",
              "       [0.91772914, 0.08227087],\n",
              "       [0.9010789 , 0.09892114],\n",
              "       [0.06493533, 0.9350646 ],\n",
              "       [0.81656027, 0.1834397 ],\n",
              "       [0.97549456, 0.02450548],\n",
              "       [0.03569718, 0.96430284],\n",
              "       [0.09005105, 0.90994895],\n",
              "       [0.93995285, 0.06004716],\n",
              "       [0.91049767, 0.08950239],\n",
              "       [0.91956633, 0.08043375],\n",
              "       [0.89699745, 0.10300257],\n",
              "       [0.8937236 , 0.10627633],\n",
              "       [0.07805727, 0.92194265],\n",
              "       [0.13793182, 0.8620682 ],\n",
              "       [0.76071817, 0.2392818 ],\n",
              "       [0.04107223, 0.95892775],\n",
              "       [0.03133921, 0.9686607 ],\n",
              "       [0.88649434, 0.11350562],\n",
              "       [0.5183581 , 0.48164195],\n",
              "       [0.11914033, 0.8808597 ],\n",
              "       [0.8799948 , 0.12000521],\n",
              "       [0.03589323, 0.96410674],\n",
              "       [0.9008135 , 0.09918647],\n",
              "       [0.44461936, 0.55538064],\n",
              "       [0.9695925 , 0.03040745],\n",
              "       [0.20373668, 0.79626334],\n",
              "       [0.8971134 , 0.10288652],\n",
              "       [0.8944256 , 0.10557448],\n",
              "       [0.91936755, 0.08063238],\n",
              "       [0.6181162 , 0.38188374],\n",
              "       [0.91973406, 0.08026595],\n",
              "       [0.43733355, 0.5626665 ],\n",
              "       [0.9299148 , 0.0700852 ],\n",
              "       [0.22841105, 0.7715889 ],\n",
              "       [0.10827965, 0.89172035],\n",
              "       [0.9896265 , 0.01037346],\n",
              "       [0.06962916, 0.9303708 ],\n",
              "       [0.08569562, 0.9143043 ],\n",
              "       [0.5427476 , 0.45725238],\n",
              "       [0.49268073, 0.5073193 ],\n",
              "       [0.05538013, 0.94461983],\n",
              "       [0.9861578 , 0.01384223],\n",
              "       [0.97948927, 0.02051074],\n",
              "       [0.05755457, 0.9424455 ],\n",
              "       [0.90781724, 0.09218281],\n",
              "       [0.03881862, 0.96118146],\n",
              "       [0.9579828 , 0.04201717],\n",
              "       [0.87506497, 0.12493496],\n",
              "       [0.9578155 , 0.0421844 ],\n",
              "       [0.9638453 , 0.03615466],\n",
              "       [0.05907083, 0.9409291 ],\n",
              "       [0.22261581, 0.77738416],\n",
              "       [0.89368963, 0.10631031],\n",
              "       [0.06165916, 0.9383409 ],\n",
              "       [0.92649627, 0.07350376],\n",
              "       [0.05527294, 0.9447271 ],\n",
              "       [0.93570846, 0.06429153],\n",
              "       [0.10959723, 0.8904028 ],\n",
              "       [0.9186907 , 0.08130925],\n",
              "       [0.44879818, 0.5512018 ],\n",
              "       [0.92407036, 0.07592962],\n",
              "       [0.03650609, 0.96349394],\n",
              "       [0.02825646, 0.9717435 ],\n",
              "       [0.93815243, 0.06184758],\n",
              "       [0.04382276, 0.95617723],\n",
              "       [0.978599  , 0.02140098],\n",
              "       [0.9374421 , 0.06255784],\n",
              "       [0.9055112 , 0.09448879],\n",
              "       [0.12609413, 0.87390584],\n",
              "       [0.91014296, 0.08985706],\n",
              "       [0.9163318 , 0.0836682 ],\n",
              "       [0.7761274 , 0.22387263],\n",
              "       [0.898971  , 0.10102893],\n",
              "       [0.9057274 , 0.09427264],\n",
              "       [0.88900304, 0.11099693],\n",
              "       [0.06963681, 0.9303632 ],\n",
              "       [0.04277571, 0.95722425],\n",
              "       [0.06520567, 0.93479437],\n",
              "       [0.12816134, 0.87183857],\n",
              "       [0.7432248 , 0.2567752 ],\n",
              "       [0.8754553 , 0.12454475],\n",
              "       [0.72215754, 0.27784252],\n",
              "       [0.79014844, 0.20985153],\n",
              "       [0.23708406, 0.7629159 ],\n",
              "       [0.9006622 , 0.09933785],\n",
              "       [0.0782834 , 0.92171663],\n",
              "       [0.04745422, 0.9525458 ],\n",
              "       [0.19801684, 0.8019832 ],\n",
              "       [0.9432038 , 0.05679611],\n",
              "       [0.78843117, 0.21156871],\n",
              "       [0.84487957, 0.15512045],\n",
              "       [0.9006785 , 0.09932154],\n",
              "       [0.9910019 , 0.00899807],\n",
              "       [0.9704897 , 0.02951029],\n",
              "       [0.9051654 , 0.09483468],\n",
              "       [0.07974409, 0.920256  ],\n",
              "       [0.9373381 , 0.06266193],\n",
              "       [0.9207749 , 0.07922514],\n",
              "       [0.93185633, 0.06814362],\n",
              "       [0.13277599, 0.867224  ],\n",
              "       [0.04504252, 0.9549575 ],\n",
              "       [0.9880241 , 0.01197595],\n",
              "       [0.950114  , 0.04988594],\n",
              "       [0.89085037, 0.10914957],\n",
              "       [0.9870089 , 0.012991  ],\n",
              "       [0.35763088, 0.64236915],\n",
              "       [0.9370184 , 0.06298155],\n",
              "       [0.9051146 , 0.09488548],\n",
              "       [0.9196807 , 0.08031931],\n",
              "       [0.06918129, 0.9308187 ],\n",
              "       [0.0587726 , 0.9412274 ],\n",
              "       [0.8518617 , 0.14813828],\n",
              "       [0.06800856, 0.93199146],\n",
              "       [0.66916054, 0.33083948],\n",
              "       [0.8483163 , 0.1516837 ],\n",
              "       [0.87203485, 0.12796517],\n",
              "       [0.97336054, 0.02663946],\n",
              "       [0.09071216, 0.90928787],\n",
              "       [0.6666667 , 0.33333334],\n",
              "       [0.09723475, 0.9027652 ],\n",
              "       [0.05303374, 0.94696623],\n",
              "       [0.0490999 , 0.95090014],\n",
              "       [0.9767843 , 0.02321565],\n",
              "       [0.9589568 , 0.04104318],\n",
              "       [0.9069453 , 0.09305468],\n",
              "       [0.91861296, 0.0813871 ],\n",
              "       [0.9562723 , 0.04372771],\n",
              "       [0.7831952 , 0.21680482],\n",
              "       [0.12614223, 0.8738578 ],\n",
              "       [0.8943135 , 0.10568646],\n",
              "       [0.878559  , 0.12144094],\n",
              "       [0.92327905, 0.07672089],\n",
              "       [0.9361393 , 0.06386074],\n",
              "       [0.09280939, 0.90719056],\n",
              "       [0.8722662 , 0.12773384],\n",
              "       [0.87264663, 0.12735334],\n",
              "       [0.9164049 , 0.08359516],\n",
              "       [0.91604084, 0.08395918],\n",
              "       [0.9187842 , 0.08121586],\n",
              "       [0.94542694, 0.05457302],\n",
              "       [0.9365991 , 0.06340086],\n",
              "       [0.13536245, 0.86463755],\n",
              "       [0.0534149 , 0.9465851 ],\n",
              "       [0.8546874 , 0.14531256],\n",
              "       [0.59399337, 0.40600666],\n",
              "       [0.8289048 , 0.17109513],\n",
              "       [0.0809072 , 0.91909283],\n",
              "       [0.9330803 , 0.06691968],\n",
              "       [0.8590436 , 0.14095643],\n",
              "       [0.7259696 , 0.27403036],\n",
              "       [0.1384608 , 0.8615392 ],\n",
              "       [0.03518141, 0.96481866],\n",
              "       [0.34785718, 0.6521429 ],\n",
              "       [0.72248715, 0.2775128 ],\n",
              "       [0.9279697 , 0.07203042],\n",
              "       [0.88216925, 0.11783069],\n",
              "       [0.9863839 , 0.0136161 ],\n",
              "       [0.89583147, 0.10416853],\n",
              "       [0.8770502 , 0.12294983],\n",
              "       [0.883762  , 0.11623797],\n",
              "       [0.8773117 , 0.12268833],\n",
              "       [0.04969255, 0.9503074 ],\n",
              "       [0.9588699 , 0.04113015],\n",
              "       [0.04107223, 0.95892775],\n",
              "       [0.780231  , 0.219769  ],\n",
              "       [0.5301904 , 0.4698096 ],\n",
              "       [0.89641744, 0.10358257],\n",
              "       [0.13793182, 0.8620682 ],\n",
              "       [0.805353  , 0.194647  ],\n",
              "       [0.87841374, 0.12158625],\n",
              "       [0.0398986 , 0.9601013 ],\n",
              "       [0.935666  , 0.06433403],\n",
              "       [0.9030436 , 0.09695634],\n",
              "       [0.9270599 , 0.07294007],\n",
              "       [0.9135033 , 0.08649668],\n",
              "       [0.9863839 , 0.0136161 ],\n",
              "       [0.4271755 , 0.5728245 ],\n",
              "       [0.9887    , 0.01130001],\n",
              "       [0.9236115 , 0.07638855],\n",
              "       [0.96654093, 0.03345902],\n",
              "       [0.02666114, 0.97333884],\n",
              "       [0.6181162 , 0.38188374],\n",
              "       [0.13529453, 0.86470544],\n",
              "       [0.8980039 , 0.10199617],\n",
              "       [0.05682018, 0.94317985],\n",
              "       [0.90387344, 0.09612657],\n",
              "       [0.25777707, 0.7422229 ],\n",
              "       [0.02507673, 0.9749232 ],\n",
              "       [0.98560077, 0.01439917],\n",
              "       [0.9638453 , 0.03615466],\n",
              "       [0.9055112 , 0.09448879],\n",
              "       [0.19559804, 0.804402  ],\n",
              "       [0.8806928 , 0.11930717],\n",
              "       [0.0388636 , 0.9611364 ],\n",
              "       [0.82159805, 0.17840193],\n",
              "       [0.9144167 , 0.08558332],\n",
              "       [0.15915391, 0.8408461 ],\n",
              "       [0.5327907 , 0.4672093 ],\n",
              "       [0.15856916, 0.84143084],\n",
              "       [0.09644876, 0.9035513 ],\n",
              "       [0.9286806 , 0.07131933],\n",
              "       [0.05348942, 0.94651055],\n",
              "       [0.20373668, 0.79626334],\n",
              "       [0.87479645, 0.12520348],\n",
              "       [0.10690712, 0.8930928 ],\n",
              "       [0.07573125, 0.9242688 ],\n",
              "       [0.8748107 , 0.12518926],\n",
              "       [0.898665  , 0.10133507],\n",
              "       [0.02526025, 0.97473973],\n",
              "       [0.8895406 , 0.1104594 ],\n",
              "       [0.89388293, 0.10611701],\n",
              "       [0.04569246, 0.95430756],\n",
              "       [0.03847211, 0.9615279 ],\n",
              "       [0.06141084, 0.93858916],\n",
              "       [0.87218565, 0.12781444],\n",
              "       [0.79792047, 0.20207949],\n",
              "       [0.5790178 , 0.42098212],\n",
              "       [0.93258876, 0.06741123],\n",
              "       [0.90874285, 0.09125719],\n",
              "       [0.17722934, 0.8227707 ],\n",
              "       [0.11449845, 0.88550156],\n",
              "       [0.85947776, 0.1405222 ],\n",
              "       [0.06017482, 0.9398252 ],\n",
              "       [0.93968403, 0.06031599],\n",
              "       [0.90117604, 0.09882393],\n",
              "       [0.9100376 , 0.08996248],\n",
              "       [0.6212404 , 0.37875956],\n",
              "       [0.8289048 , 0.17109513],\n",
              "       [0.03337052, 0.9666295 ],\n",
              "       [0.48531163, 0.51468843],\n",
              "       [0.98225224, 0.01774779],\n",
              "       [0.92382   , 0.07618   ],\n",
              "       [0.05388832, 0.9461116 ],\n",
              "       [0.93158245, 0.06841752],\n",
              "       [0.06628307, 0.93371695],\n",
              "       [0.89997756, 0.10002248],\n",
              "       [0.8828533 , 0.11714669],\n",
              "       [0.07375119, 0.92624885],\n",
              "       [0.812871  , 0.18712907],\n",
              "       [0.07573125, 0.9242688 ],\n",
              "       [0.8661996 , 0.13380042],\n",
              "       [0.70956284, 0.29043716],\n",
              "       [0.871506  , 0.12849411],\n",
              "       [0.82830906, 0.17169093],\n",
              "       [0.90804136, 0.09195859],\n",
              "       [0.08639428, 0.91360575],\n",
              "       [0.36760348, 0.63239664],\n",
              "       [0.09077356, 0.9092265 ],\n",
              "       [0.04643793, 0.9535621 ],\n",
              "       [0.12762754, 0.8723725 ],\n",
              "       [0.99007094, 0.00992902],\n",
              "       [0.03322615, 0.9667739 ],\n",
              "       [0.9502623 , 0.04973768],\n",
              "       [0.93804973, 0.06195027],\n",
              "       [0.19854708, 0.80145293]], dtype=float32)"
            ]
          },
          "execution_count": 35,
          "metadata": {},
          "output_type": "execute_result"
        }
      ],
      "source": [
        "y_pred"
      ]
    }
  ],
  "metadata": {
    "accelerator": "TPU",
    "colab": {
      "gpuType": "V28",
      "provenance": []
    },
    "kernelspec": {
      "display_name": "Python 3",
      "name": "python3"
    },
    "language_info": {
      "name": "python",
      "version": "3.12.3"
    }
  },
  "nbformat": 4,
  "nbformat_minor": 0
}
