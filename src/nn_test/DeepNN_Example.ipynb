{
  "cells": [
    {
      "cell_type": "markdown",
      "metadata": {
        "id": "aLNg_Puse6EX"
      },
      "source": [
        "In this notebook we will demonstrate different text classification models trained using the IMDB reviews dataset. "
      ]
    },
    {
      "cell_type": "code",
      "execution_count": 1,
      "metadata": {
        "colab": {
          "base_uri": "https://localhost:8080/"
        },
        "id": "eOJLveJqtEO3",
        "outputId": "067a74b2-c5df-464d-a3fa-3f4517a9090a"
      },
      "outputs": [
        {
          "data": {
            "text/plain": [
              "'\\n!pip install numpy==1.19.5\\n!pip install wget==3.2\\n!pip install tensorflow==1.14.0\\n'"
            ]
          },
          "execution_count": 1,
          "metadata": {},
          "output_type": "execute_result"
        }
      ],
      "source": [
        "# To install only the requirements of this notebook, uncomment the lines below and run this cell\n",
        "\n",
        "# ===========================\n",
        "\"\"\"\n",
        "!pip install numpy==1.19.5\n",
        "!pip install wget==3.2\n",
        "!pip install tensorflow==1.14.0\n",
        "\"\"\"\n",
        "\n",
        "#!pip install numpy wget tensorflow tensorflow_datasets\n",
        "\n",
        "# ===========================\n",
        "\n",
        "#started off from: https://github.com/keras-team/keras/blob/master/examples/pretrained_word_embeddings.py\n",
        "#and from: https://github.com/keras-team/keras/blob/master/examples/imdb_lstm.py"
      ]
    },
    {
      "cell_type": "code",
      "execution_count": 2,
      "metadata": {
        "id": "xqUcb7NBb5--"
      },
      "outputs": [],
      "source": [
        "#Make the necessary imports\n",
        "import os\n",
        "import sys\n",
        "import numpy as np\n",
        "import tarfile\n",
        "import wget\n",
        "import warnings\n",
        "warnings.filterwarnings(\"ignore\") \n",
        "from zipfile import ZipFile\n",
        "from tensorflow.keras.preprocessing.text import Tokenizer\n",
        "from tensorflow.keras.preprocessing.sequence import pad_sequences\n",
        "from tensorflow.keras.utils import to_categorical\n",
        "from tensorflow.keras.layers import Dense, Input, GlobalMaxPooling1D\n",
        "from tensorflow.keras.layers import Conv1D, MaxPooling1D, Embedding, LSTM\n",
        "from tensorflow.keras.models import Model, Sequential\n",
        "from tensorflow.keras.initializers import Constant"
      ]
    },
    {
      "cell_type": "markdown",
      "metadata": {
        "id": "0MqW5vWwfiCP"
      },
      "source": [
        "Here we set all the paths of all the external datasets and models such as [glove](https://nlp.stanford.edu/projects/glove/) and [IMDB reviews dataset](http://ai.stanford.edu/~amaas/data/sentiment/)."
      ]
    },
    {
      "cell_type": "code",
      "execution_count": 3,
      "metadata": {
        "id": "qvl1qb78fUib"
      },
      "outputs": [
        {
          "name": "stdout",
          "output_type": "stream",
          "text": [
            "[1, 14, 22, 16, 43, 530, 973, 1622, 1385, 65, 458, 4468, 66, 3941, 4, 173, 36, 256, 5, 25, 100, 43, 838, 112, 50, 670, 2, 9, 35, 480, 284, 5, 150, 4, 172, 112, 167, 2, 336, 385, 39, 4, 172, 4536, 1111, 17, 546, 38, 13, 447, 4, 192, 50, 16, 6, 147, 2025, 19, 14, 22, 4, 1920, 4613, 469, 4, 22, 71, 87, 12, 16, 43, 530, 38, 76, 15, 13, 1247, 4, 22, 17, 515, 17, 12, 16, 626, 18, 2, 5, 62, 386, 12, 8, 316, 8, 106, 5, 4, 2223, 5244, 16, 480, 66, 3785, 33, 4, 130, 12, 16, 38, 619, 5, 25, 124, 51, 36, 135, 48, 25, 1415, 33, 6, 22, 12, 215, 28, 77, 52, 5, 14, 407, 16, 82, 2, 8, 4, 107, 117, 5952, 15, 256, 4, 2, 7, 3766, 5, 723, 36, 71, 43, 530, 476, 26, 400, 317, 46, 7, 4, 2, 1029, 13, 104, 88, 4, 381, 15, 297, 98, 32, 2071, 56, 26, 141, 6, 194, 7486, 18, 4, 226, 22, 21, 134, 476, 26, 480, 5, 144, 30, 5535, 18, 51, 36, 28, 224, 92, 25, 104, 4, 226, 65, 16, 38, 1334, 88, 12, 16, 283, 5, 16, 4472, 113, 103, 32, 15, 16, 5345, 19, 178, 32]\n",
            "GLOVE_DIR:  ../../layer-cake/.vector_cache/GloVe\n",
            "TRAIN_DATA_DIR:  ../datasets/IMDB//train\n",
            "TEST_DATA_DIR:  ../datasets/IMDB//test\n"
          ]
        }
      ],
      "source": [
        "from tensorflow.keras.datasets import imdb\n",
        "\n",
        "MAX_WORDS = 10000\n",
        "\n",
        "# Load the IMDb dataset\n",
        "(train_data, train_labels), (test_data, test_labels) = imdb.load_data(num_words=MAX_WORDS)\n",
        "\n",
        "# The data comes preprocessed as sequences of word indices.\n",
        "print(train_data[0])  # This will print an integer-encoded review\n",
        "\n",
        "\n",
        "BASE_DIR = '../../layer-cake/.vector_cache/'\n",
        "\n",
        "DATA_DIR = '../datasets/IMDB/'\n",
        "\n",
        "GLOVE_DIR = os.path.join(BASE_DIR, 'GloVe')\n",
        "\n",
        "TRAIN_DATA_DIR = DATA_DIR + '/train'\n",
        "TEST_DATA_DIR = DATA_DIR + '/test'\n",
        "\n",
        "print(\"GLOVE_DIR: \", GLOVE_DIR)\n",
        "print(\"TRAIN_DATA_DIR: \", TRAIN_DATA_DIR)\n",
        "print(\"TEST_DATA_DIR: \", TEST_DATA_DIR)\n",
        "\n",
        "#Within these, I only have a pos/ and a neg/ folder containing text files \n",
        "MAX_SEQUENCE_LENGTH = 1000\n",
        "MAX_NUM_WORDS = 20000 \n",
        "EMBEDDING_DIM = 100 \n",
        "VALIDATION_SPLIT = 0.2"
      ]
    },
    {
      "cell_type": "markdown",
      "metadata": {
        "id": "EmifkoA8b5_N"
      },
      "source": [
        "### Loading and Preprocessing\n",
        " "
      ]
    },
    {
      "cell_type": "code",
      "execution_count": 4,
      "metadata": {
        "id": "WI4O1usEb5_O"
      },
      "outputs": [
        {
          "name": "stdout",
          "output_type": "stream",
          "text": [
            "train_texts[0]: [1, 14, 22, 16, 43, 530, 973, 1622, 1385, 65, 458, 4468, 66, 3941, 4, 173, 36, 256, 5, 25, 100, 43, 838, 112, 50, 670, 2, 9, 35, 480, 284, 5, 150, 4, 172, 112, 167, 2, 336, 385, 39, 4, 172, 4536, 1111, 17, 546, 38, 13, 447, 4, 192, 50, 16, 6, 147, 2025, 19, 14, 22, 4, 1920, 4613, 469, 4, 22, 71, 87, 12, 16, 43, 530, 38, 76, 15, 13, 1247, 4, 22, 17, 515, 17, 12, 16, 626, 18, 2, 5, 62, 386, 12, 8, 316, 8, 106, 5, 4, 2223, 5244, 16, 480, 66, 3785, 33, 4, 130, 12, 16, 38, 619, 5, 25, 124, 51, 36, 135, 48, 25, 1415, 33, 6, 22, 12, 215, 28, 77, 52, 5, 14, 407, 16, 82, 2, 8, 4, 107, 117, 5952, 15, 256, 4, 2, 7, 3766, 5, 723, 36, 71, 43, 530, 476, 26, 400, 317, 46, 7, 4, 2, 1029, 13, 104, 88, 4, 381, 15, 297, 98, 32, 2071, 56, 26, 141, 6, 194, 7486, 18, 4, 226, 22, 21, 134, 476, 26, 480, 5, 144, 30, 5535, 18, 51, 36, 28, 224, 92, 25, 104, 4, 226, 65, 16, 38, 1334, 88, 12, 16, 283, 5, 16, 4472, 113, 103, 32, 15, 16, 5345, 19, 178, 32]\n",
            "train_labels[0] 1\n",
            "test_texts[24999]: [1, 6, 52, 7465, 430, 22, 9, 220, 2594, 8, 28, 2, 519, 3227, 6, 769, 15, 47, 6, 3482, 4067, 8, 114, 5, 33, 222, 31, 55, 184, 704, 5586, 2, 19, 346, 3153, 5, 6, 364, 350, 4, 184, 5586, 9, 133, 1810, 11, 5417, 2, 21, 4, 7298, 2, 570, 50, 2005, 2643, 9, 6, 1249, 17, 6, 2, 2, 21, 17, 6, 1211, 232, 1138, 2249, 29, 266, 56, 96, 346, 194, 308, 9, 194, 21, 29, 218, 1078, 19, 4, 78, 173, 7, 27, 2, 5698, 3406, 718, 2, 9, 6, 6907, 17, 210, 5, 3281, 5677, 47, 77, 395, 14, 172, 173, 18, 2740, 2931, 4517, 82, 127, 27, 173, 11, 6, 392, 217, 21, 50, 9, 57, 65, 12, 2, 53, 40, 35, 390, 7, 11, 4, 3567, 7, 4, 314, 74, 6, 792, 22, 2, 19, 714, 727, 5205, 382, 4, 91, 6533, 439, 19, 14, 20, 9, 1441, 5805, 1118, 4, 756, 25, 124, 4, 31, 12, 16, 93, 804, 34, 2005, 2643]\n",
            "test_labels[24999]: 0\n"
          ]
        }
      ],
      "source": [
        "#Function to load the data from the dataset into the notebook. Will be called twice - for train and test.\n",
        "\"\"\"\n",
        "def get_data(data_dir):\n",
        "    texts = []  # list of text samples\n",
        "    labels_index = {'pos':1, 'neg':0}  # dictionary mapping label name to numeric id\n",
        "    labels = []  # list of label ids\n",
        "    for name in sorted(os.listdir(data_dir)):\n",
        "        path = os.path.join(data_dir, name)\n",
        "        if os.path.isdir(path):\n",
        "            if name=='pos' or name=='neg':\n",
        "                label_id = labels_index[name]\n",
        "                for fname in sorted(os.listdir(path)):\n",
        "                        fpath = os.path.join(path, fname)\n",
        "                        text = open(fpath,encoding='utf8').read()\n",
        "                        texts.append(text)\n",
        "                        labels.append(label_id)\n",
        "    return texts, labels\n",
        "\n",
        "train_texts, train_labels = get_data(TRAIN_DATA_DIR)\n",
        "test_texts, test_labels = get_data(TEST_DATA_DIR)\n",
        "\"\"\"\n",
        "\n",
        "train_texts, train_labels = train_data, train_labels\n",
        "test_texts, test_labels = test_data, test_labels\n",
        "\n",
        "labels_index = {'pos':1, 'neg':0} \n",
        "\n",
        "#Just to see how the data looks like. \n",
        "print(\"train_texts[0]:\", train_texts[0])\n",
        "print(\"train_labels[0]\", train_labels[0])\n",
        "\n",
        "print(\"test_texts[24999]:\", test_texts[24999])\n",
        "print(\"test_labels[24999]:\", test_labels[24999])"
      ]
    },
    {
      "cell_type": "code",
      "execution_count": 5,
      "metadata": {},
      "outputs": [
        {
          "name": "stderr",
          "output_type": "stream",
          "text": [
            "2024-10-19 06:49:05.005194: W tensorflow/tsl/platform/profile_utils/cpu_utils.cc:128] Failed to get CPU frequency: 0 Hz\n"
          ]
        },
        {
          "name": "stdout",
          "output_type": "stream",
          "text": [
            "num_classes: 2\n"
          ]
        }
      ],
      "source": [
        "#\n",
        "# prep IMDB data\n",
        "# \n",
        "\n",
        "import tensorflow_datasets as tfds\n",
        "\n",
        "# Load the IMDb dataset\n",
        "imdb_data = tfds.load(\"imdb_reviews\", as_supervised=True)\n",
        "\n",
        "# Split the data into train and test sets\n",
        "train_data, test_data = imdb_data['train'], imdb_data['test']\n",
        "\n",
        "# Extract the reviews and labels from the dataset (decode from bytes)\n",
        "train_texts = [text.decode('utf-8') for text, label in tfds.as_numpy(train_data)]\n",
        "test_texts = [text.decode('utf-8') for text, label in tfds.as_numpy(test_data)]\n",
        "\n",
        "# Extract the labels\n",
        "train_labels = [label for text, label in tfds.as_numpy(train_data)]\n",
        "test_labels = [label for text, label in tfds.as_numpy(test_data)]\n",
        "\n",
        "num_classes = 2\n",
        "print(\"num_classes:\", num_classes)\n",
        "\n",
        "# Get the class names from the 20 Newsgroups dataset\n",
        "class_names = ['neg', 'pos']\n",
        "\n",
        "y_train = train_labels\n",
        "y_test = test_labels\n",
        "\n",
        "y_train = to_categorical(y_train, num_classes)\n",
        "y_test = to_categorical(y_test, num_classes)"
      ]
    },
    {
      "cell_type": "code",
      "execution_count": 6,
      "metadata": {},
      "outputs": [
        {
          "data": {
            "text/plain": [
              "'\\nfrom sklearn.datasets import fetch_20newsgroups\\n\\nMAX_WORDS=20000\\nMAX_FEATURES=MAX_WORDS\\n\\nTRAIN_TEST_SPLIT = 0.2\\nVALIDATION_SPLIT = 0.2\\n\\ntrain_data = fetch_20newsgroups(subset=\\'train\\', remove=(\\'headers\\', \\'footers\\', \\'quotes\\'))\\ntest_data = fetch_20newsgroups(subset=\\'test\\', remove=(\\'headers\\', \\'footers\\', \\'quotes\\'))\\n\\ntrain_texts = train_texts\\ntest_texts = test_texts\\n\\ntrain_labels = train_data.target\\ntest_labels = test_data.target\\n\\nnum_classes = 20\\nprint(\"num_classes:\", num_classes)\\n\\n# Get the class names from the 20 Newsgroups dataset\\nclass_names = fetch_20newsgroups(subset=\\'train\\', remove=(\\'headers\\', \\'footers\\', \\'quotes\\')).target_names\\n\\ny_train = train_data.target\\ny_test = test_data.target\\n\\ny_train = to_categorical(y_train, num_classes)\\ny_test = to_categorical(y_test, num_classes)\\n\\nclassification_type = \\'singlelabel\\'\\n'"
            ]
          },
          "execution_count": 6,
          "metadata": {},
          "output_type": "execute_result"
        }
      ],
      "source": [
        "\"\"\"\n",
        "from sklearn.datasets import fetch_20newsgroups\n",
        "\n",
        "MAX_WORDS=20000\n",
        "MAX_FEATURES=MAX_WORDS\n",
        "\n",
        "TRAIN_TEST_SPLIT = 0.2\n",
        "VALIDATION_SPLIT = 0.2\n",
        "\n",
        "train_data = fetch_20newsgroups(subset='train', remove=('headers', 'footers', 'quotes'))\n",
        "test_data = fetch_20newsgroups(subset='test', remove=('headers', 'footers', 'quotes'))\n",
        "\n",
        "train_texts = train_texts\n",
        "test_texts = test_texts\n",
        "\n",
        "train_labels = train_data.target\n",
        "test_labels = test_data.target\n",
        "\n",
        "num_classes = 20\n",
        "print(\"num_classes:\", num_classes)\n",
        "\n",
        "# Get the class names from the 20 Newsgroups dataset\n",
        "class_names = fetch_20newsgroups(subset='train', remove=('headers', 'footers', 'quotes')).target_names\n",
        "\n",
        "y_train = train_data.target\n",
        "y_test = test_data.target\n",
        "\n",
        "y_train = to_categorical(y_train, num_classes)\n",
        "y_test = to_categorical(y_test, num_classes)\n",
        "\n",
        "classification_type = 'singlelabel'\n",
        "\"\"\""
      ]
    },
    {
      "cell_type": "code",
      "execution_count": 7,
      "metadata": {},
      "outputs": [
        {
          "name": "stdout",
          "output_type": "stream",
          "text": [
            "train_texts: <class 'list'> 25000\n",
            "train_texts[0]: <class 'str'> This was an absolutely terrible movie. Don't be lured in by Christopher Walken or Michael Ironside. Both are great actors, but this must simply be their worst role in history. Even their great acting could not redeem this movie's ridiculous storyline. This movie is an early nineties US propaganda piece. The most pathetic scenes were those when the Columbian rebels were making their cases for revolutions. Maria Conchita Alonso appeared phony, and her pseudo-love affair with Walken was nothing but a pathetic emotional plug in a movie that was devoid of any real meaning. I am disappointed that there are movies like this, ruining actor's like Christopher Walken's good name. I could barely sit through it.\n",
            "test_texts: <class 'list'> 25000\n",
            "test_texts[0]: <class 'str'> There are films that make careers. For George Romero, it was NIGHT OF THE LIVING DEAD; for Kevin Smith, CLERKS; for Robert Rodriguez, EL MARIACHI. Add to that list Onur Tukel's absolutely amazing DING-A-LING-LESS. Flawless film-making, and as assured and as professional as any of the aforementioned movies. I haven't laughed this hard since I saw THE FULL MONTY. (And, even then, I don't think I laughed quite this hard... So to speak.) Tukel's talent is considerable: DING-A-LING-LESS is so chock full of double entendres that one would have to sit down with a copy of this script and do a line-by-line examination of it to fully appreciate the, uh, breadth and width of it. Every shot is beautifully composed (a clear sign of a sure-handed director), and the performances all around are solid (there's none of the over-the-top scenery chewing one might've expected from a film like this). DING-A-LING-LESS is a film whose time has come.\n",
            "train_labels: <class 'list'> 25000\n",
            "train_labels[0]: <class 'numpy.int64'> 0\n",
            "test_labels: <class 'list'> 25000\n",
            "test_labels[0]: <class 'numpy.int64'> 1\n",
            "y_train: <class 'numpy.ndarray'> (25000, 2)\n",
            "y_train[0]: <class 'numpy.ndarray'> (2,)\n",
            "y_train[0]: [1. 0.]\n",
            "y_test: <class 'numpy.ndarray'> (25000, 2)\n",
            "y_test[0]: <class 'numpy.ndarray'> (2,)\n",
            "y_test[0]: [0. 1.]\n"
          ]
        }
      ],
      "source": [
        "# Now, train_texts and test_texts can be fed into a tokenizer.\n",
        "print(\"train_texts:\", type(train_texts), len(train_texts))\n",
        "print(\"train_texts[0]:\", type(train_texts[0]), train_texts[0])\n",
        "\n",
        "print(\"test_texts:\", type(test_texts), len(test_texts))\n",
        "print(\"test_texts[0]:\", type(test_texts[0]), test_texts[0])\n",
        "\n",
        "print(\"train_labels:\", type(train_labels), len(train_labels))\n",
        "print(\"train_labels[0]:\", type(train_labels[0]), train_labels[0])\n",
        "\n",
        "print(\"test_labels:\", type(test_labels), len(test_labels))\n",
        "print(\"test_labels[0]:\", type(test_labels[0]), test_labels[0])\n",
        "\n",
        "print(\"y_train:\", type(y_train), y_train.shape)\n",
        "print(\"y_train[0]:\", type(y_train[0]), y_train[0].shape)\n",
        "print(\"y_train[0]:\", y_train[0])\n",
        "\n",
        "print(\"y_test:\", type(y_test), y_test.shape)\n",
        "print(\"y_test[0]:\", type(y_test[0]), y_test[0].shape)\n",
        "print(\"y_test[0]:\", y_test[0])"
      ]
    },
    {
      "cell_type": "code",
      "execution_count": 8,
      "metadata": {
        "colab": {
          "base_uri": "https://localhost:8080/"
        },
        "id": "QhhqM0Jdd7fs",
        "outputId": "9b5b394e-bc52-4779-d85d-a0383446051d"
      },
      "outputs": [
        {
          "name": "stdout",
          "output_type": "stream",
          "text": [
            "Found 88582 unique tokens.\n"
          ]
        }
      ],
      "source": [
        "#Vectorize these text samples into a 2D integer tensor using Keras Tokenizer \n",
        "#Tokenizer is fit on training data only, and that is used to tokenize both train and test data. \n",
        "tokenizer = Tokenizer(num_words=MAX_NUM_WORDS) \n",
        "tokenizer.fit_on_texts(train_texts) \n",
        "train_sequences = tokenizer.texts_to_sequences(train_texts) #Converting text to a vector of word indexes \n",
        "test_sequences = tokenizer.texts_to_sequences(test_texts) \n",
        "word_index = tokenizer.word_index \n",
        "print('Found %s unique tokens.' % len(word_index))"
      ]
    },
    {
      "cell_type": "code",
      "execution_count": 9,
      "metadata": {},
      "outputs": [
        {
          "name": "stdout",
          "output_type": "stream",
          "text": [
            "train_sequences: <class 'list'> 25000\n",
            "train_sequences[0]: <class 'list'> 115\n",
            "train_sequences[0]: [11, 13, 32, 424, 391, 17, 89, 27, 10553, 8, 31, 1365, 3584, 39, 485, 11037, 196, 23, 84, 153, 18, 11, 212, 328, 27, 65, 246, 214, 8, 476, 57, 65, 84, 113, 97, 21, 5674, 11, 1321, 642, 766, 11, 17, 6, 32, 399, 8169, 175, 2454, 415, 1, 88, 1230, 136, 68, 145, 51, 1, 7576, 68, 228, 65, 2932, 15, 19499, 2903, 18510, 1478, 4939, 2, 38, 3899, 116, 1583, 16, 3584, 13, 161, 18, 3, 1230, 916, 7916, 8, 3, 17, 12, 13, 4138, 4, 98, 144, 1213, 10, 241, 682, 12, 47, 23, 99, 37, 11, 7180, 5514, 37, 1365, 13886, 49, 400, 10, 97, 1196, 866, 140, 9]\n",
            "test_sequences: <class 'list'> 25000\n",
            "test_sequences[0]: <class 'list'> 165\n",
            "test_sequences[0]: [47, 23, 105, 12, 94, 4065, 15, 739, 5064, 9, 13, 311, 4, 1, 578, 348, 15, 1846, 1256, 11077, 15, 667, 7665, 5530, 760, 5, 12, 1025, 424, 477, 18562, 3, 14790, 326, 3559, 19, 228, 2, 14, 5741, 2, 14, 1619, 14, 98, 4, 1, 3549, 99, 10, 771, 1497, 11, 251, 234, 10, 216, 1, 365, 6453, 2, 57, 92, 10, 89, 101, 10, 1497, 176, 11, 251, 35, 5, 1125, 673, 6, 4386, 18562, 3, 14790, 326, 6, 35, 8299, 365, 4, 1402, 12, 28, 59, 25, 5, 866, 177, 16, 3, 1036, 4, 11, 226, 2, 78, 3, 344, 31, 344, 5158, 4, 9, 5, 1313, 1142, 1, 5618, 2, 4, 9, 172, 321, 6, 1292, 3937, 3, 787, 1908, 4, 3, 249, 2672, 164, 2, 1, 351, 29, 184, 23, 1153, 222, 598, 4, 1, 117, 1, 347, 1381, 7674, 28, 12781, 870, 36, 3, 19, 37, 11, 18562, 3, 14790, 326, 6, 3, 19, 623, 55, 45, 213]\n"
          ]
        }
      ],
      "source": [
        "print(\"train_sequences:\", type(train_sequences), len(train_sequences))              #This is a list of lists, one list for each review\n",
        "print(\"train_sequences[0]:\", type(train_sequences[0]), len(train_sequences[0]))     #This is a list of word indexes for the first review\n",
        "print(\"train_sequences[0]:\", train_sequences[0])                                    #This will print a list of word indexes (depends on the tokenizer)\n",
        "\n",
        "print(\"test_sequences:\", type(test_sequences), len(test_sequences))                       #This is a list of lists, one list for each review\n",
        "print(\"test_sequences[0]:\", type(test_sequences[0]), len(test_sequences[0]))              #This is a list of word indexes for the 25000th review\n",
        "print(\"test_sequences[0]:\", test_sequences[0])                                            #This will print a list of word indexes (depends on the tokenizer)"
      ]
    },
    {
      "cell_type": "code",
      "execution_count": 10,
      "metadata": {
        "colab": {
          "base_uri": "https://localhost:8080/"
        },
        "id": "_e0V1-bBb5_d",
        "outputId": "d866429d-5bb6-43a7-c66e-ed5abbafc4cd"
      },
      "outputs": [
        {
          "name": "stdout",
          "output_type": "stream",
          "text": [
            "trainvalid_data: <class 'numpy.ndarray'> (25000, 1000)\n",
            "trainvalid_data[0]: <class 'numpy.ndarray'> (1000,)\n",
            "trainvalid_data[0]: [    0     0     0     0     0     0     0     0     0     0     0     0\n",
            "     0     0     0     0     0     0     0     0     0     0     0     0\n",
            "     0     0     0     0     0     0     0     0     0     0     0     0\n",
            "     0     0     0     0     0     0     0     0     0     0     0     0\n",
            "     0     0     0     0     0     0     0     0     0     0     0     0\n",
            "     0     0     0     0     0     0     0     0     0     0     0     0\n",
            "     0     0     0     0     0     0     0     0     0     0     0     0\n",
            "     0     0     0     0     0     0     0     0     0     0     0     0\n",
            "     0     0     0     0     0     0     0     0     0     0     0     0\n",
            "     0     0     0     0     0     0     0     0     0     0     0     0\n",
            "     0     0     0     0     0     0     0     0     0     0     0     0\n",
            "     0     0     0     0     0     0     0     0     0     0     0     0\n",
            "     0     0     0     0     0     0     0     0     0     0     0     0\n",
            "     0     0     0     0     0     0     0     0     0     0     0     0\n",
            "     0     0     0     0     0     0     0     0     0     0     0     0\n",
            "     0     0     0     0     0     0     0     0     0     0     0     0\n",
            "     0     0     0     0     0     0     0     0     0     0     0     0\n",
            "     0     0     0     0     0     0     0     0     0     0     0     0\n",
            "     0     0     0     0     0     0     0     0     0     0     0     0\n",
            "     0     0     0     0     0     0     0     0     0     0     0     0\n",
            "     0     0     0     0     0     0     0     0     0     0     0     0\n",
            "     0     0     0     0     0     0     0     0     0     0     0     0\n",
            "     0     0     0     0     0     0     0     0     0     0     0     0\n",
            "     0     0     0     0     0     0     0     0     0     0     0     0\n",
            "     0     0     0     0     0     0     0     0     0     0     0     0\n",
            "     0     0     0     0     0     0     0     0     0     0     0     0\n",
            "     0     0     0     0     0     0     0     0     0     0     0     0\n",
            "     0     0     0     0     0     0     0     0     0     0     0     0\n",
            "     0     0     0     0     0     0     0     0     0     0     0     0\n",
            "     0     0     0     0     0     0     0     0     0     0     0     0\n",
            "     0     0     0     0     0     0     0     0     0     0     0     0\n",
            "     0     0     0     0     0     0     0     0     0     0     0     0\n",
            "     0     0     0     0     0     0     0     0     0     0     0     0\n",
            "     0     0     0     0     0     0     0     0     0     0     0     0\n",
            "     0     0     0     0     0     0     0     0     0     0     0     0\n",
            "     0     0     0     0     0     0     0     0     0     0     0     0\n",
            "     0     0     0     0     0     0     0     0     0     0     0     0\n",
            "     0     0     0     0     0     0     0     0     0     0     0     0\n",
            "     0     0     0     0     0     0     0     0     0     0     0     0\n",
            "     0     0     0     0     0     0     0     0     0     0     0     0\n",
            "     0     0     0     0     0     0     0     0     0     0     0     0\n",
            "     0     0     0     0     0     0     0     0     0     0     0     0\n",
            "     0     0     0     0     0     0     0     0     0     0     0     0\n",
            "     0     0     0     0     0     0     0     0     0     0     0     0\n",
            "     0     0     0     0     0     0     0     0     0     0     0     0\n",
            "     0     0     0     0     0     0     0     0     0     0     0     0\n",
            "     0     0     0     0     0     0     0     0     0     0     0     0\n",
            "     0     0     0     0     0     0     0     0     0     0     0     0\n",
            "     0     0     0     0     0     0     0     0     0     0     0     0\n",
            "     0     0     0     0     0     0     0     0     0     0     0     0\n",
            "     0     0     0     0     0     0     0     0     0     0     0     0\n",
            "     0     0     0     0     0     0     0     0     0     0     0     0\n",
            "     0     0     0     0     0     0     0     0     0     0     0     0\n",
            "     0     0     0     0     0     0     0     0     0     0     0     0\n",
            "     0     0     0     0     0     0     0     0     0     0     0     0\n",
            "     0     0     0     0     0     0     0     0     0     0     0     0\n",
            "     0     0     0     0     0     0     0     0     0     0     0     0\n",
            "     0     0     0     0     0     0     0     0     0     0     0     0\n",
            "     0     0     0     0     0     0     0     0     0     0     0     0\n",
            "     0     0     0     0     0     0     0     0     0     0     0     0\n",
            "     0     0     0     0     0     0     0     0     0     0     0     0\n",
            "     0     0     0     0     0     0     0     0     0     0     0     0\n",
            "     0     0     0     0     0     0     0     0     0     0     0     0\n",
            "     0     0     0     0     0     0     0     0     0     0     0     0\n",
            "     0     0     0     0     0     0     0     0     0     0     0     0\n",
            "     0     0     0     0     0     0     0     0     0     0     0     0\n",
            "     0     0     0     0     0     0     0     0     0     0     0     0\n",
            "     0     0     0     0     0     0     0     0     0     0     0     0\n",
            "     0     0     0     0     0     0     0     0     0     0     0     0\n",
            "     0     0     0     0     0     0     0     0     0     0     0     0\n",
            "     0     0     0     0     0     0     0     0     0     0     0     0\n",
            "     0     0     0     0     0     0     0     0     0     0     0     0\n",
            "     0     0     0     0     0     0     0     0     0     0     0     0\n",
            "     0     0     0     0     0     0     0     0     0    11    13    32\n",
            "   424   391    17    89    27 10553     8    31  1365  3584    39   485\n",
            " 11037   196    23    84   153    18    11   212   328    27    65   246\n",
            "   214     8   476    57    65    84   113    97    21  5674    11  1321\n",
            "   642   766    11    17     6    32   399  8169   175  2454   415     1\n",
            "    88  1230   136    68   145    51     1  7576    68   228    65  2932\n",
            "    15 19499  2903 18510  1478  4939     2    38  3899   116  1583    16\n",
            "  3584    13   161    18     3  1230   916  7916     8     3    17    12\n",
            "    13  4138     4    98   144  1213    10   241   682    12    47    23\n",
            "    99    37    11  7180  5514    37  1365 13886    49   400    10    97\n",
            "  1196   866   140     9]\n",
            "test_data: <class 'numpy.ndarray'> (25000, 1000)\n",
            "test_data[0]: <class 'numpy.ndarray'> (1000,)\n",
            "test_data[0]:\n",
            " [    0     0     0     0     0     0     0     0     0     0     0     0\n",
            "     0     0     0     0     0     0     0     0     0     0     0     0\n",
            "     0     0     0     0     0     0     0     0     0     0     0     0\n",
            "     0     0     0     0     0     0     0     0     0     0     0     0\n",
            "     0     0     0     0     0     0     0     0     0     0     0     0\n",
            "     0     0     0     0     0     0     0     0     0     0     0     0\n",
            "     0     0     0     0     0     0     0     0     0     0     0     0\n",
            "     0     0     0     0     0     0     0     0     0     0     0     0\n",
            "     0     0     0     0     0     0     0     0     0     0     0     0\n",
            "     0     0     0     0     0     0     0     0     0     0     0     0\n",
            "     0     0     0     0     0     0     0     0     0     0     0     0\n",
            "     0     0     0     0     0     0     0     0     0     0     0     0\n",
            "     0     0     0     0     0     0     0     0     0     0     0     0\n",
            "     0     0     0     0     0     0     0     0     0     0     0     0\n",
            "     0     0     0     0     0     0     0     0     0     0     0     0\n",
            "     0     0     0     0     0     0     0     0     0     0     0     0\n",
            "     0     0     0     0     0     0     0     0     0     0     0     0\n",
            "     0     0     0     0     0     0     0     0     0     0     0     0\n",
            "     0     0     0     0     0     0     0     0     0     0     0     0\n",
            "     0     0     0     0     0     0     0     0     0     0     0     0\n",
            "     0     0     0     0     0     0     0     0     0     0     0     0\n",
            "     0     0     0     0     0     0     0     0     0     0     0     0\n",
            "     0     0     0     0     0     0     0     0     0     0     0     0\n",
            "     0     0     0     0     0     0     0     0     0     0     0     0\n",
            "     0     0     0     0     0     0     0     0     0     0     0     0\n",
            "     0     0     0     0     0     0     0     0     0     0     0     0\n",
            "     0     0     0     0     0     0     0     0     0     0     0     0\n",
            "     0     0     0     0     0     0     0     0     0     0     0     0\n",
            "     0     0     0     0     0     0     0     0     0     0     0     0\n",
            "     0     0     0     0     0     0     0     0     0     0     0     0\n",
            "     0     0     0     0     0     0     0     0     0     0     0     0\n",
            "     0     0     0     0     0     0     0     0     0     0     0     0\n",
            "     0     0     0     0     0     0     0     0     0     0     0     0\n",
            "     0     0     0     0     0     0     0     0     0     0     0     0\n",
            "     0     0     0     0     0     0     0     0     0     0     0     0\n",
            "     0     0     0     0     0     0     0     0     0     0     0     0\n",
            "     0     0     0     0     0     0     0     0     0     0     0     0\n",
            "     0     0     0     0     0     0     0     0     0     0     0     0\n",
            "     0     0     0     0     0     0     0     0     0     0     0     0\n",
            "     0     0     0     0     0     0     0     0     0     0     0     0\n",
            "     0     0     0     0     0     0     0     0     0     0     0     0\n",
            "     0     0     0     0     0     0     0     0     0     0     0     0\n",
            "     0     0     0     0     0     0     0     0     0     0     0     0\n",
            "     0     0     0     0     0     0     0     0     0     0     0     0\n",
            "     0     0     0     0     0     0     0     0     0     0     0     0\n",
            "     0     0     0     0     0     0     0     0     0     0     0     0\n",
            "     0     0     0     0     0     0     0     0     0     0     0     0\n",
            "     0     0     0     0     0     0     0     0     0     0     0     0\n",
            "     0     0     0     0     0     0     0     0     0     0     0     0\n",
            "     0     0     0     0     0     0     0     0     0     0     0     0\n",
            "     0     0     0     0     0     0     0     0     0     0     0     0\n",
            "     0     0     0     0     0     0     0     0     0     0     0     0\n",
            "     0     0     0     0     0     0     0     0     0     0     0     0\n",
            "     0     0     0     0     0     0     0     0     0     0     0     0\n",
            "     0     0     0     0     0     0     0     0     0     0     0     0\n",
            "     0     0     0     0     0     0     0     0     0     0     0     0\n",
            "     0     0     0     0     0     0     0     0     0     0     0     0\n",
            "     0     0     0     0     0     0     0     0     0     0     0     0\n",
            "     0     0     0     0     0     0     0     0     0     0     0     0\n",
            "     0     0     0     0     0     0     0     0     0     0     0     0\n",
            "     0     0     0     0     0     0     0     0     0     0     0     0\n",
            "     0     0     0     0     0     0     0     0     0     0     0     0\n",
            "     0     0     0     0     0     0     0     0     0     0     0     0\n",
            "     0     0     0     0     0     0     0     0     0     0     0     0\n",
            "     0     0     0     0     0     0     0     0     0     0     0     0\n",
            "     0     0     0     0     0     0     0     0     0     0     0     0\n",
            "     0     0     0     0     0     0     0     0     0     0     0     0\n",
            "     0     0     0     0     0     0     0     0     0     0     0     0\n",
            "     0     0     0     0     0     0     0     0     0     0     0     0\n",
            "     0     0     0     0     0     0     0    47    23   105    12    94\n",
            "  4065    15   739  5064     9    13   311     4     1   578   348    15\n",
            "  1846  1256 11077    15   667  7665  5530   760     5    12  1025   424\n",
            "   477 18562     3 14790   326  3559    19   228     2    14  5741     2\n",
            "    14  1619    14    98     4     1  3549    99    10   771  1497    11\n",
            "   251   234    10   216     1   365  6453     2    57    92    10    89\n",
            "   101    10  1497   176    11   251    35     5  1125   673     6  4386\n",
            " 18562     3 14790   326     6    35  8299   365     4  1402    12    28\n",
            "    59    25     5   866   177    16     3  1036     4    11   226     2\n",
            "    78     3   344    31   344  5158     4     9     5  1313  1142     1\n",
            "  5618     2     4     9   172   321     6  1292  3937     3   787  1908\n",
            "     4     3   249  2672   164     2     1   351    29   184    23  1153\n",
            "   222   598     4     1   117     1   347  1381  7674    28 12781   870\n",
            "    36     3    19    37    11 18562     3 14790   326     6     3    19\n",
            "   623    55    45   213]\n"
          ]
        }
      ],
      "source": [
        "#Converting this to sequences to be fed into neural network. Max seq. len is 1000 as set earlier\n",
        "#initial padding of 0s, until vector is of size MAX_SEQUENCE_LENGTH\n",
        "trainvalid_data = pad_sequences(train_sequences, maxlen=MAX_SEQUENCE_LENGTH)\n",
        "test_data = pad_sequences(test_sequences, maxlen=MAX_SEQUENCE_LENGTH)\n",
        "trainvalid_labels = to_categorical(np.asarray(train_labels))\n",
        "test_labels = to_categorical(np.asarray(test_labels))\n",
        "\n",
        "print(\"trainvalid_data:\", type(trainvalid_data), trainvalid_data.shape)                         #Will print a 2D tensor\n",
        "print(\"trainvalid_data[0]:\", type(trainvalid_data[0]), trainvalid_data[0].shape)                #Will print a 1D tensor\n",
        "print(\"trainvalid_data[0]:\", trainvalid_data[0])                                                #Will print a 1D tensor with values as indexes\n",
        "\n",
        "print(\"test_data:\", type(test_data), test_data.shape)                               #Will print a 2D tensor\n",
        "print(\"test_data[0]:\", type(test_data[0]), test_data[0].shape)                      #Will print a 1D tensor\n",
        "print(\"test_data[0]:\\n\", test_data[0])                                                #Will print a 1D tensor with values as indexes"
      ]
    },
    {
      "cell_type": "code",
      "execution_count": 11,
      "metadata": {},
      "outputs": [
        {
          "name": "stdout",
          "output_type": "stream",
          "text": [
            "indices: <class 'numpy.ndarray'> (25000,)\n",
            "indices[0]: <class 'numpy.int64'> ()\n",
            "indices[0]: 0\n"
          ]
        }
      ],
      "source": [
        "# split the training data into a training set and a validation set\n",
        "indices = np.arange(trainvalid_data.shape[0])\n",
        "print(\"indices:\", type(indices), indices.shape)\n",
        "print(\"indices[0]:\", type(indices[0]), indices[0].shape)\n",
        "print(\"indices[0]:\", indices[0])\n",
        "\n",
        "np.random.shuffle(indices)"
      ]
    },
    {
      "cell_type": "code",
      "execution_count": 12,
      "metadata": {},
      "outputs": [
        {
          "name": "stdout",
          "output_type": "stream",
          "text": [
            "num_validation_samples: 5000\n"
          ]
        }
      ],
      "source": [
        "trainvalid_data = trainvalid_data[indices]\n",
        "trainvalid_labels = trainvalid_labels[indices]\n",
        "\n",
        "num_validation_samples = int(VALIDATION_SPLIT * trainvalid_data.shape[0])\n",
        "print(\"num_validation_samples:\", num_validation_samples)"
      ]
    },
    {
      "cell_type": "code",
      "execution_count": 13,
      "metadata": {},
      "outputs": [
        {
          "name": "stdout",
          "output_type": "stream",
          "text": [
            "x_train: <class 'numpy.ndarray'> (20000, 1000)\n",
            "y_train: <class 'numpy.ndarray'> (20000, 2)\n",
            "x_val: <class 'numpy.ndarray'> (5000, 1000)\n",
            "y_val: <class 'numpy.ndarray'> (5000, 2)\n"
          ]
        }
      ],
      "source": [
        "x_train = trainvalid_data[:-num_validation_samples]\n",
        "y_train = trainvalid_labels[:-num_validation_samples]\n",
        "x_val = trainvalid_data[-num_validation_samples:]\n",
        "y_val = trainvalid_labels[-num_validation_samples:]\n",
        "\n",
        "#This is the data we will use for CNN and RNN training\n",
        "\n",
        "print(\"x_train:\", type(x_train), x_train.shape)\n",
        "print(\"y_train:\", type(y_train), y_train.shape)\n",
        "print(\"x_val:\", type(x_val), x_val.shape)\n",
        "print(\"y_val:\", type(y_val), y_val.shape)"
      ]
    },
    {
      "cell_type": "code",
      "execution_count": 14,
      "metadata": {
        "colab": {
          "base_uri": "https://localhost:8080/"
        },
        "id": "WUHqg2vvb5_l",
        "outputId": "8387eda1-18f0-4254-9819-e63191b8fc04"
      },
      "outputs": [
        {
          "name": "stdout",
          "output_type": "stream",
          "text": [
            "Preparing embedding matrix.\n",
            "GLOVE_MODEL:  glove.6B.100d.txt\n",
            "Found 400000 word vectors in Glove embeddings.\n",
            "Preparing of embedding matrix is done\n",
            "embedding_layer: <class 'keras.layers.core.embedding.Embedding'>\n",
            "embedding_layer config:\n",
            " {'name': 'embedding', 'trainable': False, 'dtype': 'float32', 'batch_input_shape': (None, 1000), 'input_dim': 20001, 'output_dim': 100, 'embeddings_initializer': {'class_name': 'Constant', 'config': {'value': array([[ 0.        ,  0.        ,  0.        , ...,  0.        ,\n",
            "         0.        ,  0.        ],\n",
            "       [-0.038194  , -0.24487001,  0.72812003, ..., -0.1459    ,\n",
            "         0.82779998,  0.27061999],\n",
            "       [-0.071953  ,  0.23127   ,  0.023731  , ..., -0.71894997,\n",
            "         0.86894   ,  0.19539   ],\n",
            "       ...,\n",
            "       [ 0.40121001, -0.6886    , -0.17046   , ..., -0.63893002,\n",
            "        -0.90948999, -0.69011003],\n",
            "       [ 0.        ,  0.        ,  0.        , ...,  0.        ,\n",
            "         0.        ,  0.        ],\n",
            "       [ 0.077072  , -0.1725    ,  0.20935   , ..., -0.24908   ,\n",
            "        -0.73106998,  0.13907   ]])}}, 'embeddings_regularizer': None, 'activity_regularizer': None, 'embeddings_constraint': None, 'mask_zero': False, 'input_length': 1000}\n"
          ]
        }
      ],
      "source": [
        "print('Preparing embedding matrix.')\n",
        "\n",
        "GLOVE_MODEL = 'glove.6B.100d.txt'\n",
        "print(\"GLOVE_MODEL: \", GLOVE_MODEL)\n",
        "\n",
        "# first, build index mapping words in the embeddings set\n",
        "# to their embedding vector\n",
        "embeddings_index = {}\n",
        "with open(os.path.join(GLOVE_DIR, GLOVE_MODEL),encoding='utf8') as f:\n",
        "    for line in f:\n",
        "        values = line.split()\n",
        "        word = values[0]\n",
        "        coefs = np.asarray(values[1:], dtype='float32')\n",
        "        embeddings_index[word] = coefs\n",
        "\n",
        "print('Found %s word vectors in Glove embeddings.' % len(embeddings_index))\n",
        "#print(embeddings_index[\"google\"])\n",
        "\n",
        "# prepare embedding matrix - rows are the words from word_index, columns are the embeddings of that word from glove.\n",
        "num_words = min(MAX_NUM_WORDS, len(word_index)) + 1\n",
        "embedding_matrix = np.zeros((num_words, EMBEDDING_DIM))\n",
        "for word, i in word_index.items():\n",
        "    if i > MAX_NUM_WORDS:\n",
        "        continue\n",
        "    embedding_vector = embeddings_index.get(word)\n",
        "    if embedding_vector is not None:\n",
        "        # words not found in embedding index will be all-zeros.\n",
        "        embedding_matrix[i] = embedding_vector\n",
        "\n",
        "# load these pre-trained word embeddings into an Embedding layer\n",
        "# note that we set trainable = False so as to keep the embeddings fixed\n",
        "embedding_layer = Embedding(num_words,\n",
        "                            EMBEDDING_DIM,\n",
        "                            embeddings_initializer=Constant(embedding_matrix),\n",
        "                            input_length=MAX_SEQUENCE_LENGTH,\n",
        "                            trainable=False)\n",
        "print(\"Preparing of embedding matrix is done\")\n",
        "\n",
        "print(\"embedding_layer:\", type(embedding_layer))\n",
        "print(\"embedding_layer config:\\n\", embedding_layer.get_config())"
      ]
    },
    {
      "cell_type": "markdown",
      "metadata": {
        "id": "vEastnX8gdxR"
      },
      "source": [
        "### 1D CNN Model with pre-trained embedding"
      ]
    },
    {
      "cell_type": "code",
      "execution_count": 15,
      "metadata": {},
      "outputs": [
        {
          "name": "stdout",
          "output_type": "stream",
          "text": [
            "Using GPU (CUDA)\n",
            "Running on device: /device:GPU:0\n"
          ]
        }
      ],
      "source": [
        "import tensorflow as tf\n",
        "from tensorflow.keras.callbacks import Callback, ReduceLROnPlateau, EarlyStopping\n",
        "\n",
        "# Function to detect and set the best available device\n",
        "def set_device():\n",
        "    if tf.config.list_physical_devices('GPU'):\n",
        "        print(\"Using GPU (CUDA)\")\n",
        "        return \"/device:GPU:0\"\n",
        "    elif tf.config.list_physical_devices('MPS'):\n",
        "        print(\"Using Apple MPS (Metal Performance Shaders)\")\n",
        "        return \"/device:GPU:0\"  # MPS is identified as a GPU device in TensorFlow\n",
        "    else:\n",
        "        print(\"Using CPU\")\n",
        "        return \"/device:CPU:0\"\n",
        "    \n",
        "# Set the device\n",
        "device_name = set_device()\n",
        "print(\"Running on device:\", device_name)\n",
        "\n",
        "\n",
        "# Custom F1 Score Callback\n",
        "class F1ScoreCallback(Callback):\n",
        "\n",
        "    def __init__(self, validation_data, threshold=0.5):\n",
        "        super().__init__()\n",
        "        self.validation_data = validation_data\n",
        "        self.threshold = threshold\n",
        "\n",
        "    def on_epoch_end(self, epoch, logs=None):\n",
        "        val_data, val_labels = self.validation_data\n",
        "        \n",
        "        \"\"\"\n",
        "        print(\"val_data:\", type(val_data), val_data.shape)\n",
        "        print(\"val_data[0]:\", val_data[0])\n",
        "        print(\"val_labels:\", type(val_labels), val_labels.shape)\n",
        "        print(\"val_labels[0]:\", val_labels[0])\n",
        "        \"\"\"\n",
        "\n",
        "        val_predictions = self.model.predict(val_data)\n",
        "        #print(\"val_predictions:\", type(val_predictions), val_predictions.shape)\n",
        "        #print(\"val_predictions[0]:\", val_predictions[0])\n",
        "\n",
        "        # Thresholding for multi-label classification\n",
        "        val_pred_classes = (val_predictions > self.threshold).astype(int)\n",
        "        #print(\"val_pred_classes:\", type(val_pred_classes), val_pred_classes.shape)\n",
        "        #print(\"val_pred_classes[0]:\", val_pred_classes[0])\n",
        "\n",
        "        # Calculate macro and micro F1 scores\n",
        "        macro_f1 = f1_score(val_labels, val_pred_classes, average='macro')\n",
        "        micro_f1 = f1_score(val_labels, val_pred_classes, average='micro')\n",
        "        \n",
        "        # Log F1 scores\n",
        "        print(f\"Epoch {epoch + 1}: Macro F1 Score = {macro_f1:.4f}, Micro F1 Score = {micro_f1:.4f}\")"
      ]
    },
    {
      "cell_type": "code",
      "execution_count": 16,
      "metadata": {},
      "outputs": [
        {
          "name": "stdout",
          "output_type": "stream",
          "text": [
            "class_weights_dict:\n",
            " {0: 1.0, 1: 1.0}\n"
          ]
        }
      ],
      "source": [
        "EPOCHS = 50\n",
        "BATCH_SIZE = 128\n",
        "\n",
        "from sklearn.utils.class_weight import compute_class_weight\n",
        "\n",
        "# Callbacks for learning rate refinement, early stopping, and F1 score tracking\n",
        "reduce_lr = ReduceLROnPlateau(monitor='val_loss', factor=0.2, patience=3, min_lr=1e-6)\n",
        "early_stop = EarlyStopping(monitor='val_loss', patience=5)\n",
        "\n",
        "f1_callback = F1ScoreCallback(validation_data=(test_data, test_labels))                     # Custom F1 score callback\n",
        "\n",
        "# Compute class weights\n",
        "class_weights = compute_class_weight('balanced', classes=np.unique(train_labels), y=train_labels)\n",
        "class_weights_dict = {i: weight for i, weight in enumerate(class_weights)}\n",
        "print(\"class_weights_dict:\\n\", class_weights_dict)"
      ]
    },
    {
      "cell_type": "code",
      "execution_count": 17,
      "metadata": {},
      "outputs": [
        {
          "name": "stdout",
          "output_type": "stream",
          "text": [
            "labels_index: {'pos': 1, 'neg': 0}\n",
            "class_names: ['neg', 'pos']\n",
            "num_classes: 2\n"
          ]
        }
      ],
      "source": [
        "print(\"labels_index:\", labels_index)\n",
        "print(\"class_names:\", class_names)\n",
        "print(\"num_classes:\", num_classes)"
      ]
    },
    {
      "cell_type": "code",
      "execution_count": 18,
      "metadata": {},
      "outputs": [
        {
          "name": "stdout",
          "output_type": "stream",
          "text": [
            "Define a 1D CNN model.\n",
            "Epoch 1/50\n",
            "782/782 [==============================] - 2s 2ms/step\n",
            "Epoch 1: Macro F1 Score = 0.6790, Micro F1 Score = 0.6946\n",
            "157/157 [==============================] - 6s 34ms/step - loss: 0.6950 - acc: 0.5956 - val_loss: 0.5659 - val_acc: 0.6976 - lr: 0.0010\n",
            "Epoch 2/50\n",
            "782/782 [==============================] - 2s 2ms/step\n",
            "Epoch 2: Macro F1 Score = 0.6928, Micro F1 Score = 0.7125\n",
            "157/157 [==============================] - 5s 30ms/step - loss: 0.5220 - acc: 0.7525 - val_loss: 0.6093 - val_acc: 0.7040 - lr: 0.0010\n",
            "Epoch 3/50\n",
            "782/782 [==============================] - 2s 2ms/step\n",
            "Epoch 3: Macro F1 Score = 0.8346, Micro F1 Score = 0.8346\n",
            "157/157 [==============================] - 5s 29ms/step - loss: 0.4407 - acc: 0.8008 - val_loss: 0.3754 - val_acc: 0.8374 - lr: 0.0010\n",
            "Epoch 4/50\n",
            "782/782 [==============================] - 2s 2ms/step\n",
            "Epoch 4: Macro F1 Score = 0.7309, Micro F1 Score = 0.7444\n",
            "157/157 [==============================] - 5s 30ms/step - loss: 0.4056 - acc: 0.8274 - val_loss: 0.5255 - val_acc: 0.7478 - lr: 0.0010\n",
            "Epoch 5/50\n",
            "782/782 [==============================] - 2s 2ms/step\n",
            "Epoch 5: Macro F1 Score = 0.8383, Micro F1 Score = 0.8387\n",
            "157/157 [==============================] - 5s 30ms/step - loss: 0.3665 - acc: 0.8450 - val_loss: 0.3716 - val_acc: 0.8350 - lr: 0.0010\n",
            "Epoch 6/50\n",
            "782/782 [==============================] - 2s 2ms/step\n",
            "Epoch 6: Macro F1 Score = 0.8245, Micro F1 Score = 0.8260\n",
            "157/157 [==============================] - 5s 30ms/step - loss: 0.3389 - acc: 0.8619 - val_loss: 0.3980 - val_acc: 0.8294 - lr: 0.0010\n",
            "Epoch 7/50\n",
            "782/782 [==============================] - 2s 2ms/step\n",
            "Epoch 7: Macro F1 Score = 0.7794, Micro F1 Score = 0.7862\n",
            "157/157 [==============================] - 5s 29ms/step - loss: 0.3118 - acc: 0.8733 - val_loss: 0.5016 - val_acc: 0.7866 - lr: 0.0010\n",
            "Epoch 8/50\n",
            "782/782 [==============================] - 2s 2ms/step\n",
            "Epoch 8: Macro F1 Score = 0.8098, Micro F1 Score = 0.8100\n",
            "157/157 [==============================] - 5s 29ms/step - loss: 0.3965 - acc: 0.8321 - val_loss: 0.4196 - val_acc: 0.8100 - lr: 0.0010\n",
            "Epoch 9/50\n",
            "782/782 [==============================] - 2s 2ms/step\n",
            "Epoch 9: Macro F1 Score = 0.8168, Micro F1 Score = 0.8186\n",
            "157/157 [==============================] - 5s 29ms/step - loss: 0.3050 - acc: 0.8727 - val_loss: 0.4239 - val_acc: 0.8224 - lr: 2.0000e-04\n",
            "Epoch 10/50\n",
            "782/782 [==============================] - 2s 2ms/step\n",
            "Epoch 10: Macro F1 Score = 0.8359, Micro F1 Score = 0.8362\n",
            "157/157 [==============================] - 5s 29ms/step - loss: 0.2892 - acc: 0.8812 - val_loss: 0.3992 - val_acc: 0.8372 - lr: 2.0000e-04\n"
          ]
        }
      ],
      "source": [
        "print('Define a 1D CNN model.')\n",
        "\n",
        "from sklearn.metrics import f1_score, classification_report\n",
        "\n",
        "with tf.device(device_name):\n",
        "\n",
        "    cnnmodel = Sequential()\n",
        "    cnnmodel.add(embedding_layer)\n",
        "    cnnmodel.add(Conv1D(128, 5, activation='relu'))\n",
        "    cnnmodel.add(MaxPooling1D(5))\n",
        "    cnnmodel.add(Conv1D(128, 5, activation='relu'))\n",
        "    cnnmodel.add(MaxPooling1D(5))\n",
        "    cnnmodel.add(Conv1D(128, 5, activation='relu'))\n",
        "    cnnmodel.add(GlobalMaxPooling1D())\n",
        "    cnnmodel.add(Dense(128, activation='relu'))\n",
        "    cnnmodel.add(Dense(num_classes, activation='softmax'))\n",
        "\n",
        "    cnnmodel.compile(loss='categorical_crossentropy',\n",
        "                optimizer='rmsprop',\n",
        "                metrics=['acc'])\n",
        "    \n",
        "    \"\"\"\n",
        "    #Train the model. Tune to validation set. \n",
        "    cnnmodel.fit(x_train, y_train,\n",
        "            batch_size=128,\n",
        "            epochs=10, validation_data=(x_val, y_val))\n",
        "    \"\"\"\n",
        "\n",
        "    # Then pass class_weights_dict to the fit function\n",
        "    history = cnnmodel.fit(\n",
        "        x_train,\n",
        "        y_train,\n",
        "        epochs=EPOCHS,\n",
        "        batch_size=BATCH_SIZE,\n",
        "        validation_data=(x_val, y_val),\n",
        "        callbacks=[reduce_lr, early_stop, f1_callback],\n",
        "        class_weight=class_weights_dict\n",
        "        )"
      ]
    },
    {
      "cell_type": "code",
      "execution_count": 19,
      "metadata": {},
      "outputs": [
        {
          "name": "stdout",
          "output_type": "stream",
          "text": [
            "history: <class 'keras.callbacks.History'> dict_keys(['loss', 'acc', 'val_loss', 'val_acc', 'lr'])\n"
          ]
        }
      ],
      "source": [
        "print(\"history:\", type(history), history.history.keys())"
      ]
    },
    {
      "cell_type": "code",
      "execution_count": 20,
      "metadata": {},
      "outputs": [],
      "source": [
        "import matplotlib.pyplot as plt\n",
        "\n",
        "def plot_history(history):\n",
        "\n",
        "    print(f'plotting history: {history}')\n",
        "\n",
        "    loss = history.history[\"loss\"]\n",
        "    val_loss = history.history[\"val_loss\"]\n",
        "    \n",
        "    epochs = range(1, len(loss) + 1)\n",
        "\n",
        "    plt.plot(epochs, loss, \"bo\", label=\"Training loss\")\n",
        "    plt.plot(epochs, val_loss, \"b\", label=\"Validation loss\")\n",
        "    plt.title(\"Training and validation loss\")\n",
        "    plt.xlabel(\"Epochs\")\n",
        "    plt.ylabel(\"Loss\")\n",
        "    plt.legend()\n",
        "    plt.show()\n",
        "\n",
        "    plt.clf()\n",
        "\n",
        "    acc = history.history[\"acc\"]\n",
        "    val_acc = history.history[\"val_acc\"]\n",
        "\n",
        "    plt.plot(epochs, acc, \"bo\", label=\"Training accuracy\")\n",
        "    plt.plot(epochs, val_acc, \"b\", label=\"Validation accuracy\")\n",
        "    plt.title(\"Training and validation accuracy\")\n",
        "    plt.xlabel(\"Epochs\")\n",
        "    plt.ylabel(\"Accuracy\")\n",
        "    plt.legend()\n",
        "\n",
        "    plt.show()"
      ]
    },
    {
      "cell_type": "code",
      "execution_count": 21,
      "metadata": {},
      "outputs": [
        {
          "name": "stdout",
          "output_type": "stream",
          "text": [
            "plotting history: <keras.callbacks.History object at 0x386bcca90>\n"
          ]
        },
        {
          "data": {
            "image/png": "[encoded data removed]",
            "text/plain": [
              "<Figure size 640x480 with 1 Axes>"
            ]
          },
          "metadata": {},
          "output_type": "display_data"
        },
        {
          "data": {
            "image/png": "[encoded data removed]",
            "text/plain": [
              "<Figure size 640x480 with 1 Axes>"
            ]
          },
          "metadata": {},
          "output_type": "display_data"
        }
      ],
      "source": [
        "plot_history(history)"
      ]
    },
    {
      "cell_type": "code",
      "execution_count": 22,
      "metadata": {},
      "outputs": [
        {
          "name": "stdout",
          "output_type": "stream",
          "text": [
            "782/782 [==============================] - 6s 8ms/step - loss: 0.3893 - acc: 0.8362\n",
            "score: 0.389316201210022\n",
            "Test accuracy with CNN: 0.8361999988555908\n"
          ]
        }
      ],
      "source": [
        "#Evaluate on test set:\n",
        "score, acc = cnnmodel.evaluate(test_data, test_labels)\n",
        "print(\"score:\", score)\n",
        "print('Test accuracy with CNN:', acc)"
      ]
    },
    {
      "cell_type": "code",
      "execution_count": 23,
      "metadata": {},
      "outputs": [
        {
          "name": "stdout",
          "output_type": "stream",
          "text": [
            "782/782 [==============================] - 2s 2ms/step\n",
            "\n",
            "Classification Report:\n",
            "               precision    recall  f1-score   support\n",
            "\n",
            "         neg     0.8678    0.7932    0.8288     12500\n",
            "         pos     0.8096    0.8792    0.8430     12500\n",
            "\n",
            "   micro avg     0.8362    0.8362    0.8362     25000\n",
            "   macro avg     0.8387    0.8362    0.8359     25000\n",
            "weighted avg     0.8387    0.8362    0.8359     25000\n",
            " samples avg     0.8362    0.8362    0.8362     25000\n",
            "\n",
            "\n",
            "\tMacro F1 Score = 0.8359, Micro F1 Score = 0.8362\n"
          ]
        }
      ],
      "source": [
        "test_preds = cnnmodel.predict(test_data)\n",
        "        \n",
        "# Thresholding for multi-label classification\n",
        "test_pred_classes = (test_preds > .5).astype(int)\n",
        "\n",
        "# Classification report with class labels and four decimal places\n",
        "report = classification_report(test_labels, test_pred_classes, target_names=class_names, digits=4)\n",
        "print(\"\\nClassification Report:\\n\", report)\n",
        "\n",
        "# Calculate macro and micro F1 scores\n",
        "macro_f1 = f1_score(y_test, test_pred_classes, average='macro')\n",
        "micro_f1 = f1_score(y_test, test_pred_classes, average='micro')\n",
        "\n",
        "# Log F1 scores\n",
        "print(f\"\\n\\tMacro F1 Score = {macro_f1:.4f}, Micro F1 Score = {micro_f1:.4f}\")\n"
      ]
    },
    {
      "cell_type": "markdown",
      "metadata": {
        "id": "VdDj2FJzgi_W"
      },
      "source": [
        "### 1D CNN model with training your own embedding"
      ]
    },
    {
      "cell_type": "code",
      "execution_count": 24,
      "metadata": {},
      "outputs": [
        {
          "name": "stdout",
          "output_type": "stream",
          "text": [
            "y_train: <class 'numpy.ndarray'> (20000, 2)\n",
            "y_train[0]: [0. 1.]\n",
            "x_train: <class 'numpy.ndarray'> (20000, 1000)\n",
            "x_train[0]:\n",
            " [    0     0     0     0     0     0     0     0     0     0     0     0\n",
            "     0     0     0     0     0     0     0     0     0     0     0     0\n",
            "     0     0     0     0     0     0     0     0     0     0     0     0\n",
            "     0     0     0     0     0     0     0     0     0     0     0     0\n",
            "     0     0     0     0     0     0     0     0     0     0     0     0\n",
            "     0     0     0     0     0     0     0     0     0     0     0     0\n",
            "     0     0     0     0     0     0     0     0     0     0     0     0\n",
            "     0     0     0     0     0     0     0     0     0     0     0     0\n",
            "     0     0     0     0     0     0     0     0     0     0     0     0\n",
            "     0     0     0     0     0     0     0     0     0     0     0     0\n",
            "     0     0     0     0     0     0     0     0     0     0     0     0\n",
            "     0     0     0     0     0     0     0     0     0     0     0     0\n",
            "     0     0     0     0     0     0     0     0     0     0     0     0\n",
            "     0     0     0     0     0     0     0     0     0     0     0     0\n",
            "     0     0     0     0     0     0     0     0     0     0     0     0\n",
            "     0     0     0     0     0     0     0     0     0     0     0     0\n",
            "     0     0     0     0     0     0     0     0     0     0     0     0\n",
            "     0     0     0     0     0     0     0     0     0     0     0     0\n",
            "     0     0     0     0     0     0     0     0     0     0     0     0\n",
            "     0     0     0     0     0     0     0     0     0     0     0     0\n",
            "     0     0     0     0     0     0     0     0     0     0     0     0\n",
            "     0     0     0     0     0     0     0     0     0     0     0     0\n",
            "     0     0     0     0     0     0     0     0     0     0     0     0\n",
            "     0     0     0     0     0     0     0     0     0     0     0     0\n",
            "     0     0     0     0     0     0     0     0     0     0     0     0\n",
            "     0     0     0     0     0     0     0     0     0     0     0     0\n",
            "     0     0     0     0     0     0     0     0     0     0     0     0\n",
            "     0     0     0     0     0     0     0     0     0     0     0     0\n",
            "     0     0     0     0     0     0     0     0     0     0     0     0\n",
            "     0     0     0     0     0     0     0     0     0     0     0     0\n",
            "     0     0     0     0     0     0     0     0     0     0     0     0\n",
            "     0     0     0     0     0     0     0     0     0     0     0     0\n",
            "     0     0     0     0     0     0     0     0     0     0     0     0\n",
            "     0     0     0     0     0     0     0     0     0     0     0     0\n",
            "     0     0     0     0     0     0     0     0     0     0     0     0\n",
            "     0     0     0     0     0     0     0     0     0     0     0     0\n",
            "     0     0     0     0     0     0     0     0     0     0     0     0\n",
            "     0     0     0     0     0     0     0     0     0     0     0     0\n",
            "     0     0     0     0     0     0     0     0     0     0     0     0\n",
            "     0     0     0     0     0     0     0     0     0     0     0     0\n",
            "     0     0     0     0     0     0     0     0     0     0     0     0\n",
            "     0     0     0     0     0     0     0     0     0     0     0     0\n",
            "     0     0     0     0     0     0     0     0     0     0     0     0\n",
            "     0     0     0     0     0     0     0     0     0     0     0     0\n",
            "     0     0     0     0     0     0     0     0     0     0     0     0\n",
            "     0     0     0     0     0     0     0     0     0     0     0     0\n",
            "     0     0     0     0     0     0     0     0     0     0     0     0\n",
            "     0     0     0     0     0     0     0     0     0     0     0     0\n",
            "     0     0     0     0     0     0     0     0     0     0     0     0\n",
            "     0     0     0     0     0     0     0     0     0     0     0     0\n",
            "     0     0     0     0     0     0     0     0     0     0     0     0\n",
            "     0     0     0     0     0     0     0     0     0     0     0     0\n",
            "     0     0     0     0     0     0     0     0     0     0     0     0\n",
            "     0     0     0     0     0     0     0     0     0     0     0     0\n",
            "     0     0     0     0     0     0     0     0     0     0     0     0\n",
            "     0     0     0     0     0     0     0     0     0     0     0     0\n",
            "     0     0     0     0     0     0     0     0     0     0     0     0\n",
            "     0     0     0     0     0     0     0     0     0     0     0     0\n",
            "     0     0     0     0     0     0     0     0     0     0     0     0\n",
            "     0     0     0     0     0     0     0     0     0     0     0     0\n",
            "     0     0     0     0     0     0     0     0     0     0     0     0\n",
            "     0     0     0     0     0     0     0     0     0     0     0     0\n",
            "     0     0     0     0     0     0     0     0     0     0     0     0\n",
            "     0     0     0     0     0     0     0     0     0     0     0     0\n",
            "     0     0     0     0     0     0     0     0     0     0     0     0\n",
            "     0     0     0     0     0     0     0     0     0     0     0     0\n",
            "     0     0     0     0     0     0     0     0     0     0     0     0\n",
            "     0     0     0     0     0     0     0     0     0     0     0     0\n",
            "     0     0     0     0     0     0     0     0     0     0     0     0\n",
            "     0     0     0     0     0     0     0     0     0     0     0     0\n",
            "     0     0     0     0     0     0     0     0     0     0     0     0\n",
            "     0     0     0     0     0     0     0     0     0     0     0     0\n",
            "     0     0     0     0     0     0     0     0     0     0     0     0\n",
            "     0     0     0     0     0     0     0     0     0     0     0     0\n",
            "     0     0     0     0     0     0     0     0     0     0     0     0\n",
            "     0     0     0     0     0     0     0     0     0     0     0     0\n",
            "     0     0     0     0     0     0     0     0     0     0     0     0\n",
            "     0     0     0     0     0     0     0     0     0     0     0     0\n",
            "     0     0     0     0     0     0     0     0     0     0     0     0\n",
            "     0     0     0     0     0     0     0     0     0     0     0     0\n",
            "     0    11     6    32   424  1046    19     9   284  1220  2042  3092\n",
            "    36     1  1965     4     1  1481     2 13748     3   544     4  1208\n",
            "  3092     8   313    34  1080     9     9     6     1   115  5510    19\n",
            "    10    25   123   107]\n"
          ]
        }
      ],
      "source": [
        "print(\"y_train:\", type(y_train), y_train.shape)\n",
        "print(\"y_train[0]:\", y_train[0])\n",
        "\n",
        "print(\"x_train:\", type(x_train), x_train.shape)\n",
        "print(\"x_train[0]:\\n\", x_train[0])"
      ]
    },
    {
      "cell_type": "code",
      "execution_count": 25,
      "metadata": {},
      "outputs": [
        {
          "name": "stdout",
          "output_type": "stream",
          "text": [
            "Using device: /device:GPU:0\n",
            "Defining and training a CNN model, training embedding layer on the fly instead of using pre-trained embeddings\n",
            "Epoch 1/50\n",
            "782/782 [==============================] - 3s 4ms/step\n",
            "Epoch 1: Macro F1 Score = 0.8053, Micro F1 Score = 0.8098\n",
            "157/157 [==============================] - 10s 60ms/step - loss: 0.5132 - acc: 0.7041 - val_loss: 0.3842 - val_acc: 0.8268 - lr: 0.0010\n",
            "Epoch 2/50\n",
            "782/782 [==============================] - 3s 4ms/step\n",
            "Epoch 2: Macro F1 Score = 0.8687, Micro F1 Score = 0.8693\n",
            "157/157 [==============================] - 9s 58ms/step - loss: 0.2572 - acc: 0.8963 - val_loss: 0.3013 - val_acc: 0.8748 - lr: 0.0010\n",
            "Epoch 3/50\n",
            "782/782 [==============================] - 3s 4ms/step\n",
            "Epoch 3: Macro F1 Score = 0.8757, Micro F1 Score = 0.8757\n",
            "157/157 [==============================] - 9s 59ms/step - loss: 0.1752 - acc: 0.9327 - val_loss: 0.2670 - val_acc: 0.8944 - lr: 0.0010\n",
            "Epoch 4/50\n",
            "782/782 [==============================] - 3s 4ms/step\n",
            "Epoch 4: Macro F1 Score = 0.8662, Micro F1 Score = 0.8665\n",
            "157/157 [==============================] - 9s 58ms/step - loss: 0.1170 - acc: 0.9582 - val_loss: 0.3597 - val_acc: 0.8812 - lr: 0.0010\n",
            "Epoch 5/50\n",
            "782/782 [==============================] - 3s 4ms/step\n",
            "Epoch 5: Macro F1 Score = 0.8645, Micro F1 Score = 0.8646\n",
            "157/157 [==============================] - 9s 58ms/step - loss: 0.0746 - acc: 0.9730 - val_loss: 0.3718 - val_acc: 0.8894 - lr: 0.0010\n",
            "Epoch 6/50\n",
            "782/782 [==============================] - 3s 4ms/step\n",
            "Epoch 6: Macro F1 Score = 0.8608, Micro F1 Score = 0.8608\n",
            "157/157 [==============================] - 9s 59ms/step - loss: 0.0437 - acc: 0.9866 - val_loss: 0.4992 - val_acc: 0.8866 - lr: 0.0010\n",
            "Epoch 7/50\n",
            "782/782 [==============================] - 3s 4ms/step\n",
            "Epoch 7: Macro F1 Score = 0.8608, Micro F1 Score = 0.8608\n",
            "157/157 [==============================] - 9s 59ms/step - loss: 0.0057 - acc: 0.9981 - val_loss: 0.6581 - val_acc: 0.8890 - lr: 2.0000e-04\n",
            "Epoch 8/50\n",
            "782/782 [==============================] - 3s 4ms/step\n",
            "Epoch 8: Macro F1 Score = 0.8605, Micro F1 Score = 0.8606\n",
            "157/157 [==============================] - 9s 58ms/step - loss: 0.0026 - acc: 0.9992 - val_loss: 0.8578 - val_acc: 0.8820 - lr: 2.0000e-04\n"
          ]
        }
      ],
      "source": [
        "print(f\"Using device: {device_name}\")\n",
        "\n",
        "print(\"Defining and training a CNN model, training embedding layer on the fly instead of using pre-trained embeddings\")\n",
        "\n",
        "# Define the CNN model\n",
        "cnnmodel = Sequential()\n",
        "\n",
        "# Force the Embedding layer to run on the CPU\n",
        "with tf.device('/CPU:0'):\n",
        "    cnnmodel.add(Embedding(MAX_NUM_WORDS, 128, input_length=MAX_SEQUENCE_LENGTH))\n",
        "\n",
        "# Rest of the model can run on the GPU\n",
        "with tf.device(device_name):\n",
        "    cnnmodel.add(Conv1D(128, 5, activation='relu'))\n",
        "    cnnmodel.add(MaxPooling1D(5))\n",
        "    cnnmodel.add(Conv1D(128, 5, activation='relu'))\n",
        "    cnnmodel.add(MaxPooling1D(5))\n",
        "    cnnmodel.add(Conv1D(128, 5, activation='relu'))\n",
        "    cnnmodel.add(GlobalMaxPooling1D())\n",
        "    cnnmodel.add(Dense(128, activation='relu'))\n",
        "    cnnmodel.add(Dense(num_classes, activation='softmax'))\n",
        "\n",
        "    cnnmodel.compile(loss='categorical_crossentropy',\n",
        "                     optimizer='rmsprop',\n",
        "                     metrics=['acc'])\n",
        "\n",
        "    #Train the model. Tune to validation set. \n",
        "    history2 = cnnmodel.fit(\n",
        "        x_train, \n",
        "        y_train,\n",
        "        batch_size=BATCH_SIZE,\n",
        "        epochs=EPOCHS, \n",
        "        validation_data=(x_val, y_val),\n",
        "        callbacks=[reduce_lr, early_stop, f1_callback],\n",
        "        class_weight=class_weights_dict\n",
        "        )"
      ]
    },
    {
      "cell_type": "code",
      "execution_count": 26,
      "metadata": {},
      "outputs": [
        {
          "name": "stdout",
          "output_type": "stream",
          "text": [
            "history2: <class 'keras.callbacks.History'> dict_keys(['loss', 'acc', 'val_loss', 'val_acc', 'lr'])\n",
            "plotting history: <keras.callbacks.History object at 0x366272c50>\n"
          ]
        },
        {
          "data": {
            "image/png": "[encoded data removed]",
            "text/plain": [
              "<Figure size 640x480 with 1 Axes>"
            ]
          },
          "metadata": {},
          "output_type": "display_data"
        },
        {
          "data": {
            "image/png": "[encoded data removed]",
            "text/plain": [
              "<Figure size 640x480 with 1 Axes>"
            ]
          },
          "metadata": {},
          "output_type": "display_data"
        }
      ],
      "source": [
        "print(\"history2:\", type(history2), history2.history.keys())\n",
        "plot_history(history2)"
      ]
    },
    {
      "cell_type": "code",
      "execution_count": 27,
      "metadata": {},
      "outputs": [
        {
          "name": "stdout",
          "output_type": "stream",
          "text": [
            "782/782 [==============================] - 8s 10ms/step - loss: 0.9905 - acc: 0.8606\n",
            "score: 0.9905350804328918\n",
            "Test accuracy with CNN: 0.8605599999427795\n"
          ]
        }
      ],
      "source": [
        "#Evaluate on test set:\n",
        "score, acc = cnnmodel.evaluate(test_data, test_labels)\n",
        "print(\"score:\", score)\n",
        "print('Test accuracy with CNN:', acc)"
      ]
    },
    {
      "cell_type": "code",
      "execution_count": 28,
      "metadata": {},
      "outputs": [
        {
          "name": "stdout",
          "output_type": "stream",
          "text": [
            "782/782 [==============================] - 3s 4ms/step\n",
            "\n",
            "Classification Report:\n",
            "               precision    recall  f1-score   support\n",
            "\n",
            "         neg     0.8803    0.8346    0.8568     12500\n",
            "         pos     0.8428    0.8865    0.8641     12500\n",
            "\n",
            "   micro avg     0.8606    0.8606    0.8606     25000\n",
            "   macro avg     0.8615    0.8606    0.8605     25000\n",
            "weighted avg     0.8615    0.8606    0.8605     25000\n",
            " samples avg     0.8606    0.8606    0.8606     25000\n",
            "\n",
            "\n",
            "\tMacro F1 Score = 0.8605, Micro F1 Score = 0.8606\n"
          ]
        }
      ],
      "source": [
        "test_preds = cnnmodel.predict(test_data)\n",
        "        \n",
        "# Thresholding for multi-label classification\n",
        "test_pred_classes = (test_preds > .5).astype(int)\n",
        "\n",
        "# Classification report with class labels and four decimal places\n",
        "report = classification_report(test_labels, test_pred_classes, target_names=class_names, digits=4)\n",
        "print(\"\\nClassification Report:\\n\", report)\n",
        "\n",
        "# Calculate macro and micro F1 scores\n",
        "macro_f1 = f1_score(y_test, test_pred_classes, average='macro')\n",
        "micro_f1 = f1_score(y_test, test_pred_classes, average='micro')\n",
        "\n",
        "# Log F1 scores\n",
        "print(f\"\\n\\tMacro F1 Score = {macro_f1:.4f}, Micro F1 Score = {micro_f1:.4f}\")\n"
      ]
    },
    {
      "cell_type": "markdown",
      "metadata": {
        "id": "6GwhXpmSgt4H"
      },
      "source": [
        "### LSTM Model with training your own embedding "
      ]
    },
    {
      "cell_type": "code",
      "execution_count": 29,
      "metadata": {
        "colab": {
          "base_uri": "https://localhost:8080/"
        },
        "id": "SvBt2Brib5_4",
        "outputId": "008fe9fa-13bf-4127-ba46-67916426ddbe"
      },
      "outputs": [
        {
          "name": "stdout",
          "output_type": "stream",
          "text": [
            "Defining and training an LSTM model, training embedding layer on the fly\n",
            "Training the RNN\n",
            "Epoch 1/50\n",
            "782/782 [==============================] - 14s 18ms/step\n",
            "Epoch 1: Macro F1 Score = 0.8098, Micro F1 Score = 0.8123\n",
            "625/625 [==============================] - 56s 87ms/step - loss: 0.4496 - accuracy: 0.7929 - val_loss: 0.4271 - val_accuracy: 0.8152 - lr: 0.0010\n",
            "Epoch 2/50\n",
            "782/782 [==============================] - 14s 18ms/step\n",
            "Epoch 2: Macro F1 Score = 0.8590, Micro F1 Score = 0.8590\n",
            "625/625 [==============================] - 54s 86ms/step - loss: 0.2832 - accuracy: 0.8895 - val_loss: 0.3586 - val_accuracy: 0.8686 - lr: 0.0010\n",
            "Epoch 3/50\n",
            "782/782 [==============================] - 14s 18ms/step\n",
            "Epoch 3: Macro F1 Score = 0.8578, Micro F1 Score = 0.8578\n",
            "625/625 [==============================] - 56s 89ms/step - loss: 0.1673 - accuracy: 0.9391 - val_loss: 0.3635 - val_accuracy: 0.8608 - lr: 0.0010\n",
            "Epoch 4/50\n",
            "782/782 [==============================] - 15s 19ms/step\n",
            "Epoch 4: Macro F1 Score = 0.8329, Micro F1 Score = 0.8332\n",
            "625/625 [==============================] - 55s 87ms/step - loss: 0.1050 - accuracy: 0.9638 - val_loss: 0.4549 - val_accuracy: 0.8330 - lr: 0.0010\n",
            "Epoch 5/50\n",
            "782/782 [==============================] - 15s 19ms/step\n",
            "Epoch 5: Macro F1 Score = 0.8432, Micro F1 Score = 0.8433\n",
            "625/625 [==============================] - 55s 88ms/step - loss: 0.0647 - accuracy: 0.9775 - val_loss: 0.4859 - val_accuracy: 0.8464 - lr: 0.0010\n",
            "Epoch 6/50\n",
            "782/782 [==============================] - 15s 19ms/step\n",
            "Epoch 6: Macro F1 Score = 0.8550, Micro F1 Score = 0.8550\n",
            "625/625 [==============================] - 55s 88ms/step - loss: 0.0250 - accuracy: 0.9927 - val_loss: 0.6130 - val_accuracy: 0.8642 - lr: 2.0000e-04\n",
            "Epoch 7/50\n",
            "782/782 [==============================] - 20s 26ms/step\n",
            "Epoch 7: Macro F1 Score = 0.8530, Micro F1 Score = 0.8531\n",
            "625/625 [==============================] - 61s 97ms/step - loss: 0.0149 - accuracy: 0.9963 - val_loss: 0.6530 - val_accuracy: 0.8628 - lr: 2.0000e-04\n"
          ]
        },
        {
          "data": {
            "text/plain": [
              "<keras.callbacks.History at 0x39ec4e560>"
            ]
          },
          "execution_count": 29,
          "metadata": {},
          "output_type": "execute_result"
        }
      ],
      "source": [
        "print(\"Defining and training an LSTM model, training embedding layer on the fly\")\n",
        "\n",
        "LSTM_BATCH_SIZE = 32\n",
        "\n",
        "# Define the RNN model\n",
        "rnnmodel = Sequential()\n",
        "\n",
        "# Force the Embedding layer to run on the CPU\n",
        "with tf.device('/CPU:0'):\n",
        "        rnnmodel.add(Embedding(MAX_NUM_WORDS, 128))\n",
        "\n",
        "with tf.device(device_name):\n",
        "        #rnnmodel.add(LSTM(128, dropout=0.2, recurrent_dropout=0.2))\n",
        "        rnnmodel.add(LSTM(128, dropout=0.2))\n",
        "        rnnmodel.add(Dense(num_classes, activation='sigmoid'))\n",
        "\n",
        "rnnmodel.compile(loss='binary_crossentropy',\n",
        "        optimizer='adam',\n",
        "        metrics=['accuracy'])\n",
        "\n",
        "print('Training the RNN')\n",
        "\n",
        "rnnmodel.fit(\n",
        "  x_train, \n",
        "  y_train,\n",
        "  batch_size=LSTM_BATCH_SIZE,\n",
        "  epochs=EPOCHS,\n",
        "  validation_data=(x_val, y_val),\n",
        "  callbacks=[reduce_lr, early_stop, f1_callback],\n",
        "  class_weight=class_weights_dict\n",
        ")"
      ]
    },
    {
      "cell_type": "code",
      "execution_count": null,
      "metadata": {},
      "outputs": [],
      "source": [
        "\"\"\"\n",
        "score, acc = rnnmodel.evaluate(\n",
        "  test_data, \n",
        "  test_labels,\n",
        "  batch_size=32\n",
        "  )\n",
        "\n",
        "print('Test accuracy with RNN:', acc)\n",
        "\"\"\"\n",
        "\n",
        "#Evaluate on test set:\n",
        "score, acc = rnnmodel.evaluate(test_data, test_labels)\n",
        "print(\"score:\", score)\n",
        "print('Test accuracy with CNN:', acc)"
      ]
    },
    {
      "cell_type": "markdown",
      "metadata": {
        "id": "tJYzsZFSg9z-"
      },
      "source": [
        "### LSTM Model using pre-trained Embedding Layer"
      ]
    },
    {
      "cell_type": "code",
      "execution_count": null,
      "metadata": {
        "colab": {
          "base_uri": "https://localhost:8080/"
        },
        "id": "Eymx0IyCb5_-",
        "outputId": "da0fa303-a4c4-4b92-ff42-54f1a1d51e45"
      },
      "outputs": [],
      "source": [
        "print(\"Defining and training an LSTM model, using pre-trained embedding layer\")\n",
        "\n",
        "rnnmodel2 = Sequential()\n",
        "rnnmodel2.add(embedding_layer)\n",
        "rnnmodel2.add(LSTM(128, dropout=0.2, recurrent_dropout=0.2))\n",
        "rnnmodel2.add(Dense(2, activation='sigmoid'))\n",
        "\n",
        "rnnmodel2.compile(loss='binary_crossentropy',\n",
        "              optimizer='adam',\n",
        "              metrics=['accuracy'])\n",
        "\n",
        "print('Training the RNN')\n",
        "\n",
        "rnnmodel2.fit(x_train, y_train,\n",
        "          batch_size=32,\n",
        "          epochs=1,\n",
        "          validation_data=(x_val, y_val))\n",
        "score, acc = rnnmodel2.evaluate(test_data, test_labels,\n",
        "                            batch_size=32)\n",
        "print('Test accuracy with RNN:', acc)"
      ]
    }
  ],
  "metadata": {
    "accelerator": "GPU",
    "colab": {
      "collapsed_sections": [],
      "name": "05_DeepNN_Example.ipynb",
      "provenance": []
    },
    "kernelspec": {
      "display_name": "python310",
      "language": "python",
      "name": "python3"
    },
    "language_info": {
      "codemirror_mode": {
        "name": "ipython",
        "version": 3
      },
      "file_extension": ".py",
      "mimetype": "text/x-python",
      "name": "python",
      "nbconvert_exporter": "python",
      "pygments_lexer": "ipython3",
      "version": "3.10.13"
    }
  },
  "nbformat": 4,
  "nbformat_minor": 0
}
