{
 "cells": [
  {
   "cell_type": "code",
   "execution_count": 206,
   "metadata": {
    "execution": {
     "iopub.execute_input": "2023-12-14T12:44:03.063414Z",
     "iopub.status.busy": "2023-12-14T12:44:03.062910Z",
     "iopub.status.idle": "2023-12-14T12:44:03.073301Z",
     "shell.execute_reply": "2023-12-14T12:44:03.071742Z",
     "shell.execute_reply.started": "2023-12-14T12:44:03.063377Z"
    },
    "id": "9k5JAVmgt7t6",
    "trusted": true
   },
   "outputs": [],
   "source": [
    "import numpy as np\n",
    "import pandas as pd\n",
    "import tensorflow as tf\n",
    "import matplotlib.pyplot as plt\n",
    "from sklearn.model_selection import train_test_split\n",
    "\n",
    "from tensorflow.keras.layers import LSTM, GRU, SimpleRNN, Embedding\n",
    "from tensorflow.keras.layers import Dense, Input, GlobalMaxPool1D\n",
    "from tensorflow.keras.preprocessing.text import Tokenizer\n",
    "from tensorflow.keras.preprocessing.sequence import pad_sequences\n",
    "from tensorflow.keras.layers import Dense,Input,GlobalMaxPooling1D\n",
    "from tensorflow.keras.layers import Conv1D, MaxPooling1D, Embedding\n",
    "from tensorflow.keras.models import Model\n",
    "from tensorflow.keras.losses import SparseCategoricalCrossentropy"
   ]
  },
  {
   "cell_type": "markdown",
   "metadata": {},
   "source": [
    "**Cancer Dataset**\n",
    "\n",
    "In this project, I am employing two different models: CNN and RNN (LSTM), to analyze descriptions provided by doctors related to three different types of cancer.\n",
    "\n",
    "Overall, the dataset contains 7000 entries. However, I have chosen to work with only 4000 entries to expedite the training process.\n",
    "\n",
    "The final conclusions are as follows:\n",
    "\n",
    "    Accuracy for CNN: 99%\n",
    "    Accuracy for LSTM: 95%\n",
    "\n",
    "It's evident that the CNN model outperforms LSTM in text predictions."
   ]
  },
  {
   "cell_type": "code",
   "execution_count": 207,
   "metadata": {
    "execution": {
     "iopub.execute_input": "2023-12-14T12:44:03.094458Z",
     "iopub.status.busy": "2023-12-14T12:44:03.094028Z",
     "iopub.status.idle": "2023-12-14T12:44:04.830368Z",
     "shell.execute_reply": "2023-12-14T12:44:04.829180Z",
     "shell.execute_reply.started": "2023-12-14T12:44:03.094426Z"
    },
    "id": "Su36IgFS60O9",
    "trusted": true
   },
   "outputs": [
    {
     "data": {
      "text/html": [
       "<div>\n",
       "<style scoped>\n",
       "    .dataframe tbody tr th:only-of-type {\n",
       "        vertical-align: middle;\n",
       "    }\n",
       "\n",
       "    .dataframe tbody tr th {\n",
       "        vertical-align: top;\n",
       "    }\n",
       "\n",
       "    .dataframe thead th {\n",
       "        text-align: right;\n",
       "    }\n",
       "</style>\n",
       "<table border=\"1\" class=\"dataframe\">\n",
       "  <thead>\n",
       "    <tr style=\"text-align: right;\">\n",
       "      <th></th>\n",
       "      <th>0</th>\n",
       "      <th>1</th>\n",
       "      <th>2</th>\n",
       "    </tr>\n",
       "  </thead>\n",
       "  <tbody>\n",
       "    <tr>\n",
       "      <th>0</th>\n",
       "      <td>NaN</td>\n",
       "      <td>0</td>\n",
       "      <td>a</td>\n",
       "    </tr>\n",
       "    <tr>\n",
       "      <th>1</th>\n",
       "      <td>0.0</td>\n",
       "      <td>Thyroid_Cancer</td>\n",
       "      <td>Thyroid surgery in  children in a single insti...</td>\n",
       "    </tr>\n",
       "    <tr>\n",
       "      <th>2</th>\n",
       "      <td>1.0</td>\n",
       "      <td>Thyroid_Cancer</td>\n",
       "      <td>\" The adopted strategy was the same as that us...</td>\n",
       "    </tr>\n",
       "    <tr>\n",
       "      <th>3</th>\n",
       "      <td>2.0</td>\n",
       "      <td>Thyroid_Cancer</td>\n",
       "      <td>coronary arterybypass grafting thrombosis ï¬b...</td>\n",
       "    </tr>\n",
       "    <tr>\n",
       "      <th>4</th>\n",
       "      <td>3.0</td>\n",
       "      <td>Thyroid_Cancer</td>\n",
       "      <td>Solitary plasmacytoma SP of the skull is an u...</td>\n",
       "    </tr>\n",
       "  </tbody>\n",
       "</table>\n",
       "</div>"
      ],
      "text/plain": [
       "     0               1                                                  2\n",
       "0  NaN               0                                                  a\n",
       "1  0.0  Thyroid_Cancer  Thyroid surgery in  children in a single insti...\n",
       "2  1.0  Thyroid_Cancer  \" The adopted strategy was the same as that us...\n",
       "3  2.0  Thyroid_Cancer  coronary arterybypass grafting thrombosis ï¬b...\n",
       "4  3.0  Thyroid_Cancer   Solitary plasmacytoma SP of the skull is an u..."
      ]
     },
     "execution_count": 207,
     "metadata": {},
     "output_type": "execute_result"
    }
   ],
   "source": [
    "df = pd.read_csv('/kaggle/input/biomedical-text-publication-classification/alldata_1_for_kaggle.csv', header = None, encoding='latin1')\n",
    "\n",
    "df.head()\n"
   ]
  },
  {
   "cell_type": "code",
   "execution_count": 208,
   "metadata": {
    "execution": {
     "iopub.execute_input": "2023-12-14T12:44:04.833258Z",
     "iopub.status.busy": "2023-12-14T12:44:04.832732Z",
     "iopub.status.idle": "2023-12-14T12:44:04.839702Z",
     "shell.execute_reply": "2023-12-14T12:44:04.838453Z",
     "shell.execute_reply.started": "2023-12-14T12:44:04.833218Z"
    },
    "trusted": true
   },
   "outputs": [],
   "source": [
    "df = df[[1,2]]"
   ]
  },
  {
   "cell_type": "code",
   "execution_count": 209,
   "metadata": {
    "execution": {
     "iopub.execute_input": "2023-12-14T12:44:04.842117Z",
     "iopub.status.busy": "2023-12-14T12:44:04.841620Z",
     "iopub.status.idle": "2023-12-14T12:44:04.863220Z",
     "shell.execute_reply": "2023-12-14T12:44:04.861859Z",
     "shell.execute_reply.started": "2023-12-14T12:44:04.842035Z"
    },
    "trusted": true
   },
   "outputs": [
    {
     "data": {
      "text/html": [
       "<div>\n",
       "<style scoped>\n",
       "    .dataframe tbody tr th:only-of-type {\n",
       "        vertical-align: middle;\n",
       "    }\n",
       "\n",
       "    .dataframe tbody tr th {\n",
       "        vertical-align: top;\n",
       "    }\n",
       "\n",
       "    .dataframe thead th {\n",
       "        text-align: right;\n",
       "    }\n",
       "</style>\n",
       "<table border=\"1\" class=\"dataframe\">\n",
       "  <thead>\n",
       "    <tr style=\"text-align: right;\">\n",
       "      <th></th>\n",
       "      <th>1</th>\n",
       "      <th>2</th>\n",
       "    </tr>\n",
       "  </thead>\n",
       "  <tbody>\n",
       "    <tr>\n",
       "      <th>0</th>\n",
       "      <td>0</td>\n",
       "      <td>a</td>\n",
       "    </tr>\n",
       "    <tr>\n",
       "      <th>1</th>\n",
       "      <td>Thyroid_Cancer</td>\n",
       "      <td>Thyroid surgery in  children in a single insti...</td>\n",
       "    </tr>\n",
       "    <tr>\n",
       "      <th>2</th>\n",
       "      <td>Thyroid_Cancer</td>\n",
       "      <td>\" The adopted strategy was the same as that us...</td>\n",
       "    </tr>\n",
       "    <tr>\n",
       "      <th>3</th>\n",
       "      <td>Thyroid_Cancer</td>\n",
       "      <td>coronary arterybypass grafting thrombosis ï¬b...</td>\n",
       "    </tr>\n",
       "    <tr>\n",
       "      <th>4</th>\n",
       "      <td>Thyroid_Cancer</td>\n",
       "      <td>Solitary plasmacytoma SP of the skull is an u...</td>\n",
       "    </tr>\n",
       "  </tbody>\n",
       "</table>\n",
       "</div>"
      ],
      "text/plain": [
       "                1                                                  2\n",
       "0               0                                                  a\n",
       "1  Thyroid_Cancer  Thyroid surgery in  children in a single insti...\n",
       "2  Thyroid_Cancer  \" The adopted strategy was the same as that us...\n",
       "3  Thyroid_Cancer  coronary arterybypass grafting thrombosis ï¬b...\n",
       "4  Thyroid_Cancer   Solitary plasmacytoma SP of the skull is an u..."
      ]
     },
     "execution_count": 209,
     "metadata": {},
     "output_type": "execute_result"
    }
   ],
   "source": [
    "df.head()"
   ]
  },
  {
   "cell_type": "code",
   "execution_count": 210,
   "metadata": {
    "execution": {
     "iopub.execute_input": "2023-12-14T12:44:04.867309Z",
     "iopub.status.busy": "2023-12-14T12:44:04.866821Z",
     "iopub.status.idle": "2023-12-14T12:44:04.874355Z",
     "shell.execute_reply": "2023-12-14T12:44:04.872829Z",
     "shell.execute_reply.started": "2023-12-14T12:44:04.867269Z"
    },
    "trusted": true
   },
   "outputs": [],
   "source": [
    "df.columns=['labels','text']"
   ]
  },
  {
   "cell_type": "code",
   "execution_count": 211,
   "metadata": {
    "execution": {
     "iopub.execute_input": "2023-12-14T12:44:04.876272Z",
     "iopub.status.busy": "2023-12-14T12:44:04.875930Z",
     "iopub.status.idle": "2023-12-14T12:44:04.894367Z",
     "shell.execute_reply": "2023-12-14T12:44:04.893364Z",
     "shell.execute_reply.started": "2023-12-14T12:44:04.876244Z"
    },
    "trusted": true
   },
   "outputs": [
    {
     "data": {
      "text/html": [
       "<div>\n",
       "<style scoped>\n",
       "    .dataframe tbody tr th:only-of-type {\n",
       "        vertical-align: middle;\n",
       "    }\n",
       "\n",
       "    .dataframe tbody tr th {\n",
       "        vertical-align: top;\n",
       "    }\n",
       "\n",
       "    .dataframe thead th {\n",
       "        text-align: right;\n",
       "    }\n",
       "</style>\n",
       "<table border=\"1\" class=\"dataframe\">\n",
       "  <thead>\n",
       "    <tr style=\"text-align: right;\">\n",
       "      <th></th>\n",
       "      <th>labels</th>\n",
       "      <th>text</th>\n",
       "    </tr>\n",
       "  </thead>\n",
       "  <tbody>\n",
       "    <tr>\n",
       "      <th>0</th>\n",
       "      <td>0</td>\n",
       "      <td>a</td>\n",
       "    </tr>\n",
       "    <tr>\n",
       "      <th>1</th>\n",
       "      <td>Thyroid_Cancer</td>\n",
       "      <td>Thyroid surgery in  children in a single insti...</td>\n",
       "    </tr>\n",
       "    <tr>\n",
       "      <th>2</th>\n",
       "      <td>Thyroid_Cancer</td>\n",
       "      <td>\" The adopted strategy was the same as that us...</td>\n",
       "    </tr>\n",
       "    <tr>\n",
       "      <th>3</th>\n",
       "      <td>Thyroid_Cancer</td>\n",
       "      <td>coronary arterybypass grafting thrombosis ï¬b...</td>\n",
       "    </tr>\n",
       "    <tr>\n",
       "      <th>4</th>\n",
       "      <td>Thyroid_Cancer</td>\n",
       "      <td>Solitary plasmacytoma SP of the skull is an u...</td>\n",
       "    </tr>\n",
       "  </tbody>\n",
       "</table>\n",
       "</div>"
      ],
      "text/plain": [
       "           labels                                               text\n",
       "0               0                                                  a\n",
       "1  Thyroid_Cancer  Thyroid surgery in  children in a single insti...\n",
       "2  Thyroid_Cancer  \" The adopted strategy was the same as that us...\n",
       "3  Thyroid_Cancer  coronary arterybypass grafting thrombosis ï¬b...\n",
       "4  Thyroid_Cancer   Solitary plasmacytoma SP of the skull is an u..."
      ]
     },
     "execution_count": 211,
     "metadata": {},
     "output_type": "execute_result"
    }
   ],
   "source": [
    "df.head()"
   ]
  },
  {
   "cell_type": "code",
   "execution_count": 212,
   "metadata": {
    "execution": {
     "iopub.execute_input": "2023-12-14T12:44:04.897205Z",
     "iopub.status.busy": "2023-12-14T12:44:04.895844Z",
     "iopub.status.idle": "2023-12-14T12:44:04.909805Z",
     "shell.execute_reply": "2023-12-14T12:44:04.908404Z",
     "shell.execute_reply.started": "2023-12-14T12:44:04.897167Z"
    },
    "trusted": true
   },
   "outputs": [
    {
     "data": {
      "text/plain": [
       "labels    0\n",
       "text      0\n",
       "dtype: int64"
      ]
     },
     "execution_count": 212,
     "metadata": {},
     "output_type": "execute_result"
    }
   ],
   "source": [
    "df.isnull().sum()"
   ]
  },
  {
   "cell_type": "code",
   "execution_count": 213,
   "metadata": {
    "execution": {
     "iopub.execute_input": "2023-12-14T12:44:04.911702Z",
     "iopub.status.busy": "2023-12-14T12:44:04.911339Z",
     "iopub.status.idle": "2023-12-14T12:44:04.921761Z",
     "shell.execute_reply": "2023-12-14T12:44:04.920556Z",
     "shell.execute_reply.started": "2023-12-14T12:44:04.911671Z"
    },
    "trusted": true
   },
   "outputs": [
    {
     "name": "stdout",
     "output_type": "stream",
     "text": [
      "7571\n"
     ]
    }
   ],
   "source": [
    "# Checking the length of the data set\n",
    "print(len(df))"
   ]
  },
  {
   "cell_type": "code",
   "execution_count": 214,
   "metadata": {
    "execution": {
     "iopub.execute_input": "2023-12-14T12:44:04.923668Z",
     "iopub.status.busy": "2023-12-14T12:44:04.923305Z",
     "iopub.status.idle": "2023-12-14T12:44:04.938884Z",
     "shell.execute_reply": "2023-12-14T12:44:04.937860Z",
     "shell.execute_reply.started": "2023-12-14T12:44:04.923638Z"
    },
    "trusted": true
   },
   "outputs": [],
   "source": [
    "# Reducing the size of the dataset, selecting only 10k\n",
    "df = df.sample(4000)"
   ]
  },
  {
   "cell_type": "code",
   "execution_count": 215,
   "metadata": {
    "execution": {
     "iopub.execute_input": "2023-12-14T12:44:04.940651Z",
     "iopub.status.busy": "2023-12-14T12:44:04.940286Z",
     "iopub.status.idle": "2023-12-14T12:44:04.961800Z",
     "shell.execute_reply": "2023-12-14T12:44:04.960378Z",
     "shell.execute_reply.started": "2023-12-14T12:44:04.940621Z"
    },
    "trusted": true
   },
   "outputs": [
    {
     "data": {
      "text/html": [
       "<div>\n",
       "<style scoped>\n",
       "    .dataframe tbody tr th:only-of-type {\n",
       "        vertical-align: middle;\n",
       "    }\n",
       "\n",
       "    .dataframe tbody tr th {\n",
       "        vertical-align: top;\n",
       "    }\n",
       "\n",
       "    .dataframe thead th {\n",
       "        text-align: right;\n",
       "    }\n",
       "</style>\n",
       "<table border=\"1\" class=\"dataframe\">\n",
       "  <thead>\n",
       "    <tr style=\"text-align: right;\">\n",
       "      <th></th>\n",
       "      <th>labels</th>\n",
       "      <th>text</th>\n",
       "    </tr>\n",
       "  </thead>\n",
       "  <tbody>\n",
       "    <tr>\n",
       "      <th>1266</th>\n",
       "      <td>Colon_Cancer</td>\n",
       "      <td>netosis is a type of regulated cell death depe...</td>\n",
       "    </tr>\n",
       "    <tr>\n",
       "      <th>2499</th>\n",
       "      <td>Thyroid_Cancer</td>\n",
       "      <td>Scars Burns  HealingVolume    10117720595131...</td>\n",
       "    </tr>\n",
       "    <tr>\n",
       "      <th>6098</th>\n",
       "      <td>Thyroid_Cancer</td>\n",
       "      <td>\"diagnostic performance of intravoxel incohere...</td>\n",
       "    </tr>\n",
       "    <tr>\n",
       "      <th>5434</th>\n",
       "      <td>Lung_Cancer</td>\n",
       "      <td>\"tumor motion was well correlated with diaphra...</td>\n",
       "    </tr>\n",
       "    <tr>\n",
       "      <th>7528</th>\n",
       "      <td>Colon_Cancer</td>\n",
       "      <td>\"   preproof  0c  highlights    f0b7  propolis...</td>\n",
       "    </tr>\n",
       "    <tr>\n",
       "      <th>1032</th>\n",
       "      <td>Thyroid_Cancer</td>\n",
       "      <td>\"Despite the biological link between thyroid h...</td>\n",
       "    </tr>\n",
       "    <tr>\n",
       "      <th>5826</th>\n",
       "      <td>Colon_Cancer</td>\n",
       "      <td>\"  patients who have undergone radical cystect...</td>\n",
       "    </tr>\n",
       "    <tr>\n",
       "      <th>6334</th>\n",
       "      <td>Thyroid_Cancer</td>\n",
       "      <td>\"preadipocytes diï¬erentiate into adipocytes D...</td>\n",
       "    </tr>\n",
       "    <tr>\n",
       "      <th>364</th>\n",
       "      <td>Colon_Cancer</td>\n",
       "      <td>\"  the cell proliferative markers are very imp...</td>\n",
       "    </tr>\n",
       "    <tr>\n",
       "      <th>176</th>\n",
       "      <td>Thyroid_Cancer</td>\n",
       "      <td>\"primary bone tumors in early adolescence with...</td>\n",
       "    </tr>\n",
       "  </tbody>\n",
       "</table>\n",
       "</div>"
      ],
      "text/plain": [
       "              labels                                               text\n",
       "1266    Colon_Cancer  netosis is a type of regulated cell death depe...\n",
       "2499  Thyroid_Cancer   Scars Burns  HealingVolume    10117720595131...\n",
       "6098  Thyroid_Cancer  \"diagnostic performance of intravoxel incohere...\n",
       "5434     Lung_Cancer  \"tumor motion was well correlated with diaphra...\n",
       "7528    Colon_Cancer  \"   preproof  0c  highlights    f0b7  propolis...\n",
       "1032  Thyroid_Cancer  \"Despite the biological link between thyroid h...\n",
       "5826    Colon_Cancer  \"  patients who have undergone radical cystect...\n",
       "6334  Thyroid_Cancer  \"preadipocytes diï¬erentiate into adipocytes D...\n",
       "364     Colon_Cancer  \"  the cell proliferative markers are very imp...\n",
       "176   Thyroid_Cancer  \"primary bone tumors in early adolescence with..."
      ]
     },
     "execution_count": 215,
     "metadata": {},
     "output_type": "execute_result"
    }
   ],
   "source": [
    "df.sample(10)"
   ]
  },
  {
   "cell_type": "code",
   "execution_count": 216,
   "metadata": {
    "execution": {
     "iopub.execute_input": "2023-12-14T12:44:04.966313Z",
     "iopub.status.busy": "2023-12-14T12:44:04.965709Z",
     "iopub.status.idle": "2023-12-14T12:44:04.974164Z",
     "shell.execute_reply": "2023-12-14T12:44:04.972989Z",
     "shell.execute_reply.started": "2023-12-14T12:44:04.966269Z"
    },
    "id": "DEbN5m6o679m",
    "trusted": true
   },
   "outputs": [],
   "source": [
    "df['targets'] = df['labels'].astype('category').cat.codes"
   ]
  },
  {
   "cell_type": "code",
   "execution_count": 217,
   "metadata": {
    "colab": {
     "base_uri": "https://localhost:8080/",
     "height": 206
    },
    "execution": {
     "iopub.execute_input": "2023-12-14T12:44:04.976209Z",
     "iopub.status.busy": "2023-12-14T12:44:04.975791Z",
     "iopub.status.idle": "2023-12-14T12:44:04.992216Z",
     "shell.execute_reply": "2023-12-14T12:44:04.991205Z",
     "shell.execute_reply.started": "2023-12-14T12:44:04.976170Z"
    },
    "id": "BHGZLGYf7GHr",
    "outputId": "ad453dc1-5fe1-4b3c-e523-6775dce47e54",
    "trusted": true
   },
   "outputs": [
    {
     "data": {
      "text/html": [
       "<div>\n",
       "<style scoped>\n",
       "    .dataframe tbody tr th:only-of-type {\n",
       "        vertical-align: middle;\n",
       "    }\n",
       "\n",
       "    .dataframe tbody tr th {\n",
       "        vertical-align: top;\n",
       "    }\n",
       "\n",
       "    .dataframe thead th {\n",
       "        text-align: right;\n",
       "    }\n",
       "</style>\n",
       "<table border=\"1\" class=\"dataframe\">\n",
       "  <thead>\n",
       "    <tr style=\"text-align: right;\">\n",
       "      <th></th>\n",
       "      <th>labels</th>\n",
       "      <th>text</th>\n",
       "      <th>targets</th>\n",
       "    </tr>\n",
       "  </thead>\n",
       "  <tbody>\n",
       "    <tr>\n",
       "      <th>5253</th>\n",
       "      <td>Lung_Cancer</td>\n",
       "      <td>\"Methods Tissue collection We obtained 113 pai...</td>\n",
       "      <td>1</td>\n",
       "    </tr>\n",
       "    <tr>\n",
       "      <th>6960</th>\n",
       "      <td>Lung_Cancer</td>\n",
       "      <td>\"or paclitaxel (200 mg/m2)/carboplatin (area u...</td>\n",
       "      <td>1</td>\n",
       "    </tr>\n",
       "    <tr>\n",
       "      <th>6832</th>\n",
       "      <td>Lung_Cancer</td>\n",
       "      <td>\"These results suggest that there may be lifel...</td>\n",
       "      <td>1</td>\n",
       "    </tr>\n",
       "    <tr>\n",
       "      <th>7248</th>\n",
       "      <td>Thyroid_Cancer</td>\n",
       "      <td>IFNBased Biotherapeutics toHarness the Host Ag...</td>\n",
       "      <td>2</td>\n",
       "    </tr>\n",
       "    <tr>\n",
       "      <th>1025</th>\n",
       "      <td>Thyroid_Cancer</td>\n",
       "      <td>\"attention has been paid to whether snoring fr...</td>\n",
       "      <td>2</td>\n",
       "    </tr>\n",
       "    <tr>\n",
       "      <th>6123</th>\n",
       "      <td>Thyroid_Cancer</td>\n",
       "      <td>Hepatocellular carcinoma HCC is a high mortali...</td>\n",
       "      <td>2</td>\n",
       "    </tr>\n",
       "    <tr>\n",
       "      <th>4998</th>\n",
       "      <td>Colon_Cancer</td>\n",
       "      <td>microbiota involves communities ofhepatitis is...</td>\n",
       "      <td>0</td>\n",
       "    </tr>\n",
       "    <tr>\n",
       "      <th>6223</th>\n",
       "      <td>Thyroid_Cancer</td>\n",
       "      <td>significant genebiomarkers of primary colorect...</td>\n",
       "      <td>2</td>\n",
       "    </tr>\n",
       "    <tr>\n",
       "      <th>4206</th>\n",
       "      <td>Thyroid_Cancer</td>\n",
       "      <td>Neurosteroids Biosynthesisand Physiological Fu...</td>\n",
       "      <td>2</td>\n",
       "    </tr>\n",
       "    <tr>\n",
       "      <th>5416</th>\n",
       "      <td>Lung_Cancer</td>\n",
       "      <td>\"versus gemcitabine/carboplatin in advanced no...</td>\n",
       "      <td>1</td>\n",
       "    </tr>\n",
       "  </tbody>\n",
       "</table>\n",
       "</div>"
      ],
      "text/plain": [
       "              labels                                               text  \\\n",
       "5253     Lung_Cancer  \"Methods Tissue collection We obtained 113 pai...   \n",
       "6960     Lung_Cancer  \"or paclitaxel (200 mg/m2)/carboplatin (area u...   \n",
       "6832     Lung_Cancer  \"These results suggest that there may be lifel...   \n",
       "7248  Thyroid_Cancer  IFNBased Biotherapeutics toHarness the Host Ag...   \n",
       "1025  Thyroid_Cancer  \"attention has been paid to whether snoring fr...   \n",
       "6123  Thyroid_Cancer  Hepatocellular carcinoma HCC is a high mortali...   \n",
       "4998    Colon_Cancer  microbiota involves communities ofhepatitis is...   \n",
       "6223  Thyroid_Cancer  significant genebiomarkers of primary colorect...   \n",
       "4206  Thyroid_Cancer  Neurosteroids Biosynthesisand Physiological Fu...   \n",
       "5416     Lung_Cancer  \"versus gemcitabine/carboplatin in advanced no...   \n",
       "\n",
       "      targets  \n",
       "5253        1  \n",
       "6960        1  \n",
       "6832        1  \n",
       "7248        2  \n",
       "1025        2  \n",
       "6123        2  \n",
       "4998        0  \n",
       "6223        2  \n",
       "4206        2  \n",
       "5416        1  "
      ]
     },
     "execution_count": 217,
     "metadata": {},
     "output_type": "execute_result"
    }
   ],
   "source": [
    "df.sample(10)"
   ]
  },
  {
   "cell_type": "code",
   "execution_count": 218,
   "metadata": {
    "colab": {
     "base_uri": "https://localhost:8080/"
    },
    "execution": {
     "iopub.execute_input": "2023-12-14T12:44:04.994278Z",
     "iopub.status.busy": "2023-12-14T12:44:04.993849Z",
     "iopub.status.idle": "2023-12-14T12:44:05.009005Z",
     "shell.execute_reply": "2023-12-14T12:44:05.007750Z",
     "shell.execute_reply.started": "2023-12-14T12:44:04.994241Z"
    },
    "id": "AA34uE0X7K2P",
    "outputId": "00d0a3cc-3132-4351-b89d-7569017d4650",
    "trusted": true
   },
   "outputs": [
    {
     "data": {
      "text/plain": [
       "labels\n",
       "Thyroid_Cancer    1466\n",
       "Colon_Cancer      1377\n",
       "Lung_Cancer       1157\n",
       "Name: count, dtype: int64"
      ]
     },
     "execution_count": 218,
     "metadata": {},
     "output_type": "execute_result"
    }
   ],
   "source": [
    "df['labels'].value_counts()"
   ]
  },
  {
   "cell_type": "code",
   "execution_count": 219,
   "metadata": {
    "colab": {
     "base_uri": "https://localhost:8080/"
    },
    "execution": {
     "iopub.execute_input": "2023-12-14T12:44:05.011673Z",
     "iopub.status.busy": "2023-12-14T12:44:05.010668Z",
     "iopub.status.idle": "2023-12-14T12:44:05.021595Z",
     "shell.execute_reply": "2023-12-14T12:44:05.020798Z",
     "shell.execute_reply.started": "2023-12-14T12:44:05.011630Z"
    },
    "id": "CQjVYVWP7SHC",
    "outputId": "c7263875-8188-4202-90e2-cdb04c143169",
    "trusted": true
   },
   "outputs": [
    {
     "data": {
      "text/plain": [
       "3"
      ]
     },
     "execution_count": 219,
     "metadata": {},
     "output_type": "execute_result"
    }
   ],
   "source": [
    "# Number of classes\n",
    "K = df['targets'].max() + 1\n",
    "K"
   ]
  },
  {
   "cell_type": "code",
   "execution_count": 220,
   "metadata": {
    "execution": {
     "iopub.execute_input": "2023-12-14T12:44:05.023588Z",
     "iopub.status.busy": "2023-12-14T12:44:05.023011Z",
     "iopub.status.idle": "2023-12-14T12:44:05.038085Z",
     "shell.execute_reply": "2023-12-14T12:44:05.036980Z",
     "shell.execute_reply.started": "2023-12-14T12:44:05.023528Z"
    },
    "id": "uEZStIy-7lXY",
    "trusted": true
   },
   "outputs": [],
   "source": [
    "from sklearn.model_selection import train_test_split\n",
    "\n",
    "random_seed = 42\n",
    "\n",
    "df_train, df_test = train_test_split(df, test_size=0.3, random_state=random_seed)"
   ]
  },
  {
   "cell_type": "code",
   "execution_count": 221,
   "metadata": {
    "execution": {
     "iopub.execute_input": "2023-12-14T12:44:05.040432Z",
     "iopub.status.busy": "2023-12-14T12:44:05.039369Z",
     "iopub.status.idle": "2023-12-14T12:44:40.559325Z",
     "shell.execute_reply": "2023-12-14T12:44:40.558239Z",
     "shell.execute_reply.started": "2023-12-14T12:44:05.040398Z"
    },
    "id": "TprsKM9q7tU3",
    "trusted": true
   },
   "outputs": [],
   "source": [
    "# Convert sentences to sequences - keeps 2000 most frequent and discard the rest.\n",
    "MAX_VOCAB_SIZE = 2000\n",
    "tokenizer = Tokenizer(num_words=MAX_VOCAB_SIZE)\n",
    "\n",
    "# Builds the vocabulary based on the most common words. It assigns a unique integer to each word based on its frequency\n",
    "tokenizer.fit_on_texts(df_train['text'])\n",
    "\n",
    "# Each word in the sentences is replaced by its corresponding integer based on the vocabulary created by the tokenizer.\n",
    "sequences_train = tokenizer.texts_to_sequences(df_train['text'])\n",
    "sequences_test = tokenizer.texts_to_sequences(df_test['text'])"
   ]
  },
  {
   "cell_type": "code",
   "execution_count": 222,
   "metadata": {
    "colab": {
     "base_uri": "https://localhost:8080/"
    },
    "execution": {
     "iopub.execute_input": "2023-12-14T12:44:40.561223Z",
     "iopub.status.busy": "2023-12-14T12:44:40.560910Z",
     "iopub.status.idle": "2023-12-14T12:44:40.581092Z",
     "shell.execute_reply": "2023-12-14T12:44:40.580022Z",
     "shell.execute_reply.started": "2023-12-14T12:44:40.561196Z"
    },
    "id": "FNQrjZk69Shx",
    "outputId": "0c826af9-4d2d-4186-8b6c-084b73fe3aba",
    "trusted": true
   },
   "outputs": [
    {
     "name": "stdout",
     "output_type": "stream",
     "text": [
      "Found unique words: 202293\n"
     ]
    }
   ],
   "source": [
    "# get total unique words mapped by tokenizer (True size of our unique words)\n",
    "word2idx = tokenizer.word_index\n",
    "V = len(word2idx)\n",
    "print(f'Found unique words: {V}')"
   ]
  },
  {
   "cell_type": "code",
   "execution_count": 223,
   "metadata": {
    "colab": {
     "base_uri": "https://localhost:8080/"
    },
    "execution": {
     "iopub.execute_input": "2023-12-14T12:44:40.582951Z",
     "iopub.status.busy": "2023-12-14T12:44:40.582468Z",
     "iopub.status.idle": "2023-12-14T12:44:40.940922Z",
     "shell.execute_reply": "2023-12-14T12:44:40.939740Z",
     "shell.execute_reply.started": "2023-12-14T12:44:40.582903Z"
    },
    "id": "xmWqJvUF-0xH",
    "outputId": "bf097add-a2f3-41f6-f772-e43309ff3e21",
    "trusted": true
   },
   "outputs": [
    {
     "name": "stdout",
     "output_type": "stream",
     "text": [
      "Shape of data train tensor: (2800, 4276)\n"
     ]
    }
   ],
   "source": [
    "# pad sequences so we get a N x T matrix - all the text must have same dimension size\n",
    "data_train = pad_sequences(sequences_train)\n",
    "print(f'Shape of data train tensor: {data_train.shape}')"
   ]
  },
  {
   "cell_type": "code",
   "execution_count": 224,
   "metadata": {
    "colab": {
     "base_uri": "https://localhost:8080/"
    },
    "execution": {
     "iopub.execute_input": "2023-12-14T12:44:40.942482Z",
     "iopub.status.busy": "2023-12-14T12:44:40.942159Z",
     "iopub.status.idle": "2023-12-14T12:44:40.951747Z",
     "shell.execute_reply": "2023-12-14T12:44:40.950621Z",
     "shell.execute_reply.started": "2023-12-14T12:44:40.942456Z"
    },
    "id": "IZIYMtLO__3e",
    "outputId": "099bd2ab-311c-444f-dbe4-202bd98a5b78",
    "trusted": true
   },
   "outputs": [
    {
     "data": {
      "text/plain": [
       "array([[   0,    0,    0, ...,   73,  175,    6],\n",
       "       [   0,    0,    0, ...,   63,    8,  214],\n",
       "       [   0,    0,    0, ...,  742,  150,    3],\n",
       "       ...,\n",
       "       [   0,    0,    0, ...,    9,  458,   12],\n",
       "       [   0,    0,    0, ...,   66,   11,   12],\n",
       "       [   0,    0,    0, ...,    4,  399, 1066]], dtype=int32)"
      ]
     },
     "execution_count": 224,
     "metadata": {},
     "output_type": "execute_result"
    }
   ],
   "source": [
    "data_train"
   ]
  },
  {
   "cell_type": "code",
   "execution_count": 225,
   "metadata": {
    "colab": {
     "base_uri": "https://localhost:8080/"
    },
    "execution": {
     "iopub.execute_input": "2023-12-14T12:44:40.953327Z",
     "iopub.status.busy": "2023-12-14T12:44:40.953012Z",
     "iopub.status.idle": "2023-12-14T12:44:40.962815Z",
     "shell.execute_reply": "2023-12-14T12:44:40.961961Z",
     "shell.execute_reply.started": "2023-12-14T12:44:40.953301Z"
    },
    "id": "KWBpwUiOAX_N",
    "outputId": "3af12601-41e4-4c12-90ca-eb342c1f8296",
    "trusted": true
   },
   "outputs": [
    {
     "data": {
      "text/plain": [
       "4276"
      ]
     },
     "execution_count": 225,
     "metadata": {},
     "output_type": "execute_result"
    }
   ],
   "source": [
    "# Get sequences length\n",
    "T = data_train.shape[1]\n",
    "T"
   ]
  },
  {
   "cell_type": "code",
   "execution_count": 226,
   "metadata": {
    "colab": {
     "base_uri": "https://localhost:8080/"
    },
    "execution": {
     "iopub.execute_input": "2023-12-14T12:44:40.964445Z",
     "iopub.status.busy": "2023-12-14T12:44:40.964163Z",
     "iopub.status.idle": "2023-12-14T12:44:41.120483Z",
     "shell.execute_reply": "2023-12-14T12:44:41.119227Z",
     "shell.execute_reply.started": "2023-12-14T12:44:40.964421Z"
    },
    "id": "rCW0qZO8AO9v",
    "outputId": "590dc78f-7ede-4d00-d0d9-85a00dfc544d",
    "trusted": true
   },
   "outputs": [
    {
     "name": "stdout",
     "output_type": "stream",
     "text": [
      "Shape of data test tensor: (1200, 4276)\n"
     ]
    }
   ],
   "source": [
    "data_test = pad_sequences(sequences_test, maxlen=T)\n",
    "print(f'Shape of data test tensor: {data_test.shape}')"
   ]
  },
  {
   "cell_type": "code",
   "execution_count": 227,
   "metadata": {
    "execution": {
     "iopub.execute_input": "2023-12-14T12:44:41.122165Z",
     "iopub.status.busy": "2023-12-14T12:44:41.121811Z",
     "iopub.status.idle": "2023-12-14T12:44:41.281913Z",
     "shell.execute_reply": "2023-12-14T12:44:41.280958Z",
     "shell.execute_reply.started": "2023-12-14T12:44:41.122136Z"
    },
    "id": "Iy3p7vTyAr6d",
    "trusted": true
   },
   "outputs": [],
   "source": [
    "# Creating the CNN model\n",
    "\n",
    "# Choosing embedding dimensionality\n",
    "D = 30\n",
    "\n",
    "i = Input(shape=(T,))\n",
    "x = Embedding(V+ 1 ,D)(i)\n",
    "x = Conv1D(32,2, strides=1 ,activation='relu')(x)\n",
    "x = MaxPooling1D(3)(x)\n",
    "x = Conv1D(64,3, activation='relu')(x)\n",
    "x = GlobalMaxPooling1D()(x)\n",
    "x = Dense(K)(x) # where K is the total of news's labels\n",
    "\n",
    "model = Model(i,x)"
   ]
  },
  {
   "cell_type": "code",
   "execution_count": 228,
   "metadata": {
    "colab": {
     "base_uri": "https://localhost:8080/"
    },
    "execution": {
     "iopub.execute_input": "2023-12-14T12:44:41.284449Z",
     "iopub.status.busy": "2023-12-14T12:44:41.283690Z",
     "iopub.status.idle": "2023-12-14T12:49:04.197107Z",
     "shell.execute_reply": "2023-12-14T12:49:04.195675Z",
     "shell.execute_reply.started": "2023-12-14T12:44:41.284409Z"
    },
    "id": "GQuX8AU5C1Cq",
    "outputId": "f16eeacc-d229-479a-8fa3-162af5462372",
    "trusted": true
   },
   "outputs": [
    {
     "name": "stdout",
     "output_type": "stream",
     "text": [
      "Training the model...\n",
      "Epoch 1/20\n",
      "88/88 [==============================] - 14s 147ms/step - loss: 1.0237 - accuracy: 0.4711 - val_loss: 0.8249 - val_accuracy: 0.7308\n",
      "Epoch 2/20\n",
      "88/88 [==============================] - 12s 139ms/step - loss: 0.4622 - accuracy: 0.8236 - val_loss: 0.3436 - val_accuracy: 0.8333\n",
      "Epoch 3/20\n",
      "88/88 [==============================] - 12s 141ms/step - loss: 0.2164 - accuracy: 0.9125 - val_loss: 0.1501 - val_accuracy: 0.9533\n",
      "Epoch 4/20\n",
      "88/88 [==============================] - 12s 139ms/step - loss: 0.1048 - accuracy: 0.9707 - val_loss: 0.0874 - val_accuracy: 0.9733\n",
      "Epoch 5/20\n",
      "88/88 [==============================] - 12s 137ms/step - loss: 0.0549 - accuracy: 0.9864 - val_loss: 0.0555 - val_accuracy: 0.9900\n",
      "Epoch 6/20\n",
      "88/88 [==============================] - 13s 144ms/step - loss: 0.0343 - accuracy: 0.9946 - val_loss: 0.0374 - val_accuracy: 0.9942\n",
      "Epoch 7/20\n",
      "88/88 [==============================] - 12s 139ms/step - loss: 0.0269 - accuracy: 0.9936 - val_loss: 0.0229 - val_accuracy: 0.9958\n",
      "Epoch 8/20\n",
      "88/88 [==============================] - 12s 140ms/step - loss: 0.0188 - accuracy: 0.9954 - val_loss: 0.0194 - val_accuracy: 0.9950\n",
      "Epoch 9/20\n",
      "88/88 [==============================] - 12s 139ms/step - loss: 0.0170 - accuracy: 0.9929 - val_loss: 0.0164 - val_accuracy: 0.9950\n",
      "Epoch 10/20\n",
      "88/88 [==============================] - 12s 136ms/step - loss: 0.0142 - accuracy: 0.9939 - val_loss: 0.0128 - val_accuracy: 0.9958\n",
      "Epoch 11/20\n",
      "88/88 [==============================] - 12s 138ms/step - loss: 0.0139 - accuracy: 0.9943 - val_loss: 0.0129 - val_accuracy: 0.9950\n",
      "Epoch 12/20\n",
      "88/88 [==============================] - 12s 137ms/step - loss: 0.0126 - accuracy: 0.9954 - val_loss: 0.0145 - val_accuracy: 0.9958\n",
      "Epoch 13/20\n",
      "88/88 [==============================] - 12s 135ms/step - loss: 0.0177 - accuracy: 0.9936 - val_loss: 0.0109 - val_accuracy: 0.9950\n",
      "Epoch 14/20\n",
      "88/88 [==============================] - 12s 138ms/step - loss: 0.0136 - accuracy: 0.9936 - val_loss: 0.0389 - val_accuracy: 0.9950\n",
      "Epoch 15/20\n",
      "88/88 [==============================] - 12s 136ms/step - loss: 0.0164 - accuracy: 0.9943 - val_loss: 0.0173 - val_accuracy: 0.9958\n",
      "Epoch 16/20\n",
      "88/88 [==============================] - 12s 140ms/step - loss: 0.0135 - accuracy: 0.9954 - val_loss: 0.0104 - val_accuracy: 0.9950\n",
      "Epoch 17/20\n",
      "88/88 [==============================] - 12s 137ms/step - loss: 0.0168 - accuracy: 0.9939 - val_loss: 0.0152 - val_accuracy: 0.9950\n",
      "Epoch 18/20\n",
      "88/88 [==============================] - 12s 137ms/step - loss: 0.0120 - accuracy: 0.9946 - val_loss: 0.0140 - val_accuracy: 0.9958\n",
      "Epoch 19/20\n",
      "88/88 [==============================] - 12s 141ms/step - loss: 0.0102 - accuracy: 0.9964 - val_loss: 0.0127 - val_accuracy: 0.9958\n",
      "Epoch 20/20\n",
      "88/88 [==============================] - 12s 136ms/step - loss: 0.0151 - accuracy: 0.9939 - val_loss: 0.0132 - val_accuracy: 0.9950\n"
     ]
    }
   ],
   "source": [
    "# Compile and Fit the model\n",
    "model.compile(\n",
    "    loss=SparseCategoricalCrossentropy(from_logits=True),\n",
    "    optimizer='adam',\n",
    "    metrics=['accuracy']\n",
    ")\n",
    "\n",
    "print('Training the model...')\n",
    "r = model.fit(\n",
    "    data_train,\n",
    "    df_train['targets'],\n",
    "    epochs = 20,\n",
    "    validation_data=(data_test, df_test['targets'])\n",
    ")"
   ]
  },
  {
   "cell_type": "code",
   "execution_count": 229,
   "metadata": {
    "colab": {
     "base_uri": "https://localhost:8080/",
     "height": 430
    },
    "execution": {
     "iopub.execute_input": "2023-12-14T12:49:04.200488Z",
     "iopub.status.busy": "2023-12-14T12:49:04.200006Z",
     "iopub.status.idle": "2023-12-14T12:49:04.524344Z",
     "shell.execute_reply": "2023-12-14T12:49:04.522956Z",
     "shell.execute_reply.started": "2023-12-14T12:49:04.200452Z"
    },
    "id": "PsLll5hpGGol",
    "outputId": "017d2f10-7b03-4bf8-d5c1-48d73555e835",
    "trusted": true
   },
   "outputs": [
    {
     "data": {
      "image/png": "[encoded data removed]",
      "text/plain": [
       "<Figure size 640x480 with 1 Axes>"
      ]
     },
     "metadata": {},
     "output_type": "display_data"
    }
   ],
   "source": [
    "# Checking loss per itartion\n",
    "plt.plot(r.history['loss'], label='train loss')\n",
    "plt.plot(r.history['val_loss'], label='val loss')\n",
    "plt.legend();"
   ]
  },
  {
   "cell_type": "code",
   "execution_count": 230,
   "metadata": {
    "colab": {
     "base_uri": "https://localhost:8080/",
     "height": 430
    },
    "execution": {
     "iopub.execute_input": "2023-12-14T12:49:04.526521Z",
     "iopub.status.busy": "2023-12-14T12:49:04.526050Z",
     "iopub.status.idle": "2023-12-14T12:49:04.832587Z",
     "shell.execute_reply": "2023-12-14T12:49:04.831356Z",
     "shell.execute_reply.started": "2023-12-14T12:49:04.526482Z"
    },
    "id": "Otc0ELA3GcLx",
    "outputId": "06e88ea6-8540-4c6b-a8fc-657c88b2b8d9",
    "trusted": true
   },
   "outputs": [
    {
     "data": {
      "image/png": "[encoded data removed]",
      "text/plain": [
       "<Figure size 640x480 with 1 Axes>"
      ]
     },
     "metadata": {},
     "output_type": "display_data"
    }
   ],
   "source": [
    "# Plot accuracy per iteration\n",
    "plt.plot(r.history['accuracy'], label='train acc')\n",
    "plt.plot(r.history['val_accuracy'], label='val acc')\n",
    "plt.legend();"
   ]
  },
  {
   "cell_type": "code",
   "execution_count": 231,
   "metadata": {
    "colab": {
     "base_uri": "https://localhost:8080/"
    },
    "execution": {
     "iopub.execute_input": "2023-12-14T12:49:04.834767Z",
     "iopub.status.busy": "2023-12-14T12:49:04.834288Z",
     "iopub.status.idle": "2023-12-14T12:49:05.791412Z",
     "shell.execute_reply": "2023-12-14T12:49:05.789973Z",
     "shell.execute_reply.started": "2023-12-14T12:49:04.834728Z"
    },
    "id": "CX5qs5d8mcmw",
    "outputId": "3f3672a4-7a17-4683-b325-78db8139fd47",
    "trusted": true
   },
   "outputs": [
    {
     "name": "stdout",
     "output_type": "stream",
     "text": [
      "38/38 [==============================] - 1s 20ms/step\n",
      "              precision    recall  f1-score   support\n",
      "\n",
      "           0       0.99      1.00      0.99       416\n",
      "           1       1.00      0.99      1.00       361\n",
      "           2       1.00      1.00      1.00       423\n",
      "\n",
      "    accuracy                           0.99      1200\n",
      "   macro avg       1.00      0.99      1.00      1200\n",
      "weighted avg       1.00      0.99      1.00      1200\n",
      "\n"
     ]
    }
   ],
   "source": [
    "\n",
    "from sklearn.metrics import classification_report\n",
    "\n",
    "\n",
    "predictions = model.predict(data_test)\n",
    "y_pred = np.argmax(predictions, axis=1)  # Convert logits to class labels\n",
    "\n",
    "# Get true labels\n",
    "y_true = df_test['targets']\n",
    "\n",
    "# Generate classification report\n",
    "report = classification_report(y_true, y_pred)\n",
    "print(report)\n",
    "\n",
    "\n"
   ]
  },
  {
   "cell_type": "code",
   "execution_count": 232,
   "metadata": {
    "execution": {
     "iopub.execute_input": "2023-12-14T12:49:05.793415Z",
     "iopub.status.busy": "2023-12-14T12:49:05.793036Z",
     "iopub.status.idle": "2023-12-14T12:49:05.799564Z",
     "shell.execute_reply": "2023-12-14T12:49:05.798283Z",
     "shell.execute_reply.started": "2023-12-14T12:49:05.793385Z"
    },
    "id": "2IbA60UAOm7K",
    "trusted": true
   },
   "outputs": [],
   "source": [
    "classes = df['targets'].unique()"
   ]
  },
  {
   "cell_type": "code",
   "execution_count": 233,
   "metadata": {
    "colab": {
     "base_uri": "https://localhost:8080/",
     "height": 539
    },
    "execution": {
     "iopub.execute_input": "2023-12-14T12:49:05.801348Z",
     "iopub.status.busy": "2023-12-14T12:49:05.800943Z",
     "iopub.status.idle": "2023-12-14T12:49:06.113861Z",
     "shell.execute_reply": "2023-12-14T12:49:06.112572Z",
     "shell.execute_reply.started": "2023-12-14T12:49:05.801316Z"
    },
    "id": "1WI41mDSmtFe",
    "outputId": "a6977aab-bccc-48d2-b0f6-673942e26c9d",
    "trusted": true
   },
   "outputs": [
    {
     "data": {
      "image/png": "[encoded data removed]",
      "text/plain": [
       "<Figure size 800x600 with 2 Axes>"
      ]
     },
     "metadata": {},
     "output_type": "display_data"
    }
   ],
   "source": [
    "from sklearn.metrics import confusion_matrix\n",
    "import seaborn as sns\n",
    "\n",
    "label_mapping = {\n",
    "    0: 'Colon_Cancer',\n",
    "    1: 'Lung_Cancer',\n",
    "    2: 'Thyroid_Cancer'\n",
    "    \n",
    "}\n",
    "marks = np.arange(len(label_mapping))\n",
    "\n",
    "cm = confusion_matrix(y_true, y_pred)\n",
    "df_cm = pd.DataFrame(cm, index=[label_mapping[i] for i in label_mapping] , columns = [label_mapping[i] for i in label_mapping])\n",
    "\n",
    "plt.figure(figsize=(8, 6))\n",
    "plt.xlabel('Predicted')\n",
    "plt.ylabel('True')\n",
    "sns.heatmap(df_cm, annot=True, annot_kws={\"size\": 16}, fmt='d', cmap='Blues')\n",
    "\n",
    "plt.show()"
   ]
  },
  {
   "cell_type": "code",
   "execution_count": 234,
   "metadata": {
    "execution": {
     "iopub.execute_input": "2023-12-14T12:49:06.120415Z",
     "iopub.status.busy": "2023-12-14T12:49:06.119791Z",
     "iopub.status.idle": "2023-12-14T12:49:06.451158Z",
     "shell.execute_reply": "2023-12-14T12:49:06.449857Z",
     "shell.execute_reply.started": "2023-12-14T12:49:06.120321Z"
    },
    "id": "JgMEQYivPZ_W",
    "trusted": true
   },
   "outputs": [],
   "source": [
    "# Creating the model for RNN (LSTM)\n",
    "\n",
    "i = Input(shape=(T,)) # T = Sequence Length\n",
    "x = Embedding(V+1,D)(i) # symbolic representation of the input data that will be passed through the layers of the neural network\n",
    "x = LSTM(32, return_sequences=True)(x)\n",
    "x = GlobalMaxPool1D()(x)\n",
    "x = Dense(K)(x)\n",
    "\n",
    "model = Model(i,x)\n",
    "\n"
   ]
  },
  {
   "cell_type": "code",
   "execution_count": 235,
   "metadata": {
    "colab": {
     "base_uri": "https://localhost:8080/"
    },
    "execution": {
     "iopub.execute_input": "2023-12-14T12:49:06.452883Z",
     "iopub.status.busy": "2023-12-14T12:49:06.452528Z",
     "iopub.status.idle": "2023-12-14T14:30:31.918948Z",
     "shell.execute_reply": "2023-12-14T14:30:31.917825Z",
     "shell.execute_reply.started": "2023-12-14T12:49:06.452856Z"
    },
    "id": "GUNESyTNQAqO",
    "outputId": "9beb63a6-3759-4aa8-b1a4-2edc15d6d830",
    "trusted": true
   },
   "outputs": [
    {
     "name": "stdout",
     "output_type": "stream",
     "text": [
      "Training model...\n",
      "Epoch 1/20\n",
      "88/88 [==============================] - 306s 3s/step - loss: 0.9890 - accuracy: 0.4354 - val_loss: 0.7975 - val_accuracy: 0.6042\n",
      "Epoch 2/20\n",
      "88/88 [==============================] - 302s 3s/step - loss: 0.7026 - accuracy: 0.6529 - val_loss: 0.5789 - val_accuracy: 0.6775\n",
      "Epoch 3/20\n",
      "88/88 [==============================] - 301s 3s/step - loss: 0.5275 - accuracy: 0.7650 - val_loss: 0.4890 - val_accuracy: 0.8250\n",
      "Epoch 4/20\n",
      "88/88 [==============================] - 302s 3s/step - loss: 0.4250 - accuracy: 0.8761 - val_loss: 0.3807 - val_accuracy: 0.8758\n",
      "Epoch 5/20\n",
      "88/88 [==============================] - 302s 3s/step - loss: 0.3432 - accuracy: 0.8939 - val_loss: 0.3274 - val_accuracy: 0.8742\n",
      "Epoch 6/20\n",
      "88/88 [==============================] - 302s 3s/step - loss: 0.2788 - accuracy: 0.9082 - val_loss: 0.2739 - val_accuracy: 0.9008\n",
      "Epoch 7/20\n",
      "88/88 [==============================] - 307s 3s/step - loss: 0.2201 - accuracy: 0.9339 - val_loss: 0.2248 - val_accuracy: 0.9225\n",
      "Epoch 8/20\n",
      "88/88 [==============================] - 301s 3s/step - loss: 0.2784 - accuracy: 0.8950 - val_loss: 0.2805 - val_accuracy: 0.8983\n",
      "Epoch 9/20\n",
      "88/88 [==============================] - 301s 3s/step - loss: 0.2119 - accuracy: 0.9343 - val_loss: 0.2087 - val_accuracy: 0.9300\n",
      "Epoch 10/20\n",
      "88/88 [==============================] - 302s 3s/step - loss: 0.1667 - accuracy: 0.9504 - val_loss: 0.1827 - val_accuracy: 0.9400\n",
      "Epoch 11/20\n",
      "88/88 [==============================] - 304s 3s/step - loss: 0.1352 - accuracy: 0.9571 - val_loss: 0.1567 - val_accuracy: 0.9417\n",
      "Epoch 12/20\n",
      "88/88 [==============================] - 302s 3s/step - loss: 0.1142 - accuracy: 0.9596 - val_loss: 0.1303 - val_accuracy: 0.9542\n",
      "Epoch 13/20\n",
      "88/88 [==============================] - 302s 3s/step - loss: 0.0985 - accuracy: 0.9675 - val_loss: 0.1184 - val_accuracy: 0.9625\n",
      "Epoch 14/20\n",
      "88/88 [==============================] - 302s 3s/step - loss: 0.1519 - accuracy: 0.9446 - val_loss: 0.1990 - val_accuracy: 0.9375\n",
      "Epoch 15/20\n",
      "88/88 [==============================] - 305s 3s/step - loss: 0.1364 - accuracy: 0.9543 - val_loss: 0.1381 - val_accuracy: 0.9625\n",
      "Epoch 16/20\n",
      "88/88 [==============================] - 306s 3s/step - loss: 0.0857 - accuracy: 0.9725 - val_loss: 0.0880 - val_accuracy: 0.9717\n",
      "Epoch 17/20\n",
      "88/88 [==============================] - 302s 3s/step - loss: 0.0673 - accuracy: 0.9786 - val_loss: 0.0706 - val_accuracy: 0.9792\n",
      "Epoch 18/20\n",
      "88/88 [==============================] - 304s 3s/step - loss: 0.0571 - accuracy: 0.9832 - val_loss: 0.0704 - val_accuracy: 0.9708\n",
      "Epoch 19/20\n",
      "88/88 [==============================] - 304s 3s/step - loss: 0.0627 - accuracy: 0.9804 - val_loss: 0.0772 - val_accuracy: 0.9842\n",
      "Epoch 20/20\n",
      "88/88 [==============================] - 305s 3s/step - loss: 0.0661 - accuracy: 0.9821 - val_loss: 0.1243 - val_accuracy: 0.9525\n"
     ]
    }
   ],
   "source": [
    "# Compile and fit\n",
    "model.compile(\n",
    "  loss=SparseCategoricalCrossentropy(from_logits=True),\n",
    "  optimizer='adam',\n",
    "  metrics=['accuracy']\n",
    ")\n",
    "\n",
    "\n",
    "print('Training model...')\n",
    "\n",
    "r_rnn = model.fit(\n",
    "  data_train,\n",
    "  df_train['targets'],\n",
    "  epochs=20,\n",
    "  validation_data=(data_test, df_test['targets'])\n",
    ")"
   ]
  },
  {
   "cell_type": "code",
   "execution_count": 236,
   "metadata": {
    "colab": {
     "base_uri": "https://localhost:8080/"
    },
    "execution": {
     "iopub.execute_input": "2023-12-14T14:30:31.922846Z",
     "iopub.status.busy": "2023-12-14T14:30:31.921109Z",
     "iopub.status.idle": "2023-12-14T14:30:45.872146Z",
     "shell.execute_reply": "2023-12-14T14:30:45.871029Z",
     "shell.execute_reply.started": "2023-12-14T14:30:31.922790Z"
    },
    "id": "qsgj09iZKpMz",
    "outputId": "09e1f50e-07ed-4241-c869-729a49f282d3",
    "trusted": true
   },
   "outputs": [
    {
     "name": "stdout",
     "output_type": "stream",
     "text": [
      "38/38 [==============================] - 14s 352ms/step\n",
      "              precision    recall  f1-score   support\n",
      "\n",
      "           0       0.94      0.95      0.94       416\n",
      "           1       1.00      0.95      0.97       361\n",
      "           2       0.93      0.96      0.95       423\n",
      "\n",
      "    accuracy                           0.95      1200\n",
      "   macro avg       0.96      0.95      0.95      1200\n",
      "weighted avg       0.95      0.95      0.95      1200\n",
      "\n"
     ]
    }
   ],
   "source": [
    "predictions = model.predict(data_test)\n",
    "y_pred = np.argmax(predictions, axis=1)  # Convert logits to class labels\n",
    "\n",
    "# Get true labels\n",
    "y_true = df_test['targets']\n",
    "\n",
    "# Generate classification report\n",
    "report = classification_report(y_true, y_pred)\n",
    "print(report)"
   ]
  },
  {
   "cell_type": "code",
   "execution_count": 237,
   "metadata": {
    "colab": {
     "base_uri": "https://localhost:8080/",
     "height": 430
    },
    "execution": {
     "iopub.execute_input": "2023-12-14T14:30:45.873773Z",
     "iopub.status.busy": "2023-12-14T14:30:45.873432Z",
     "iopub.status.idle": "2023-12-14T14:30:46.156586Z",
     "shell.execute_reply": "2023-12-14T14:30:46.155585Z",
     "shell.execute_reply.started": "2023-12-14T14:30:45.873742Z"
    },
    "id": "-YUUHrKHK71C",
    "outputId": "d8f9fd7d-6822-4396-c478-323bbc86f0c3",
    "trusted": true
   },
   "outputs": [
    {
     "data": {
      "image/png": "[encoded data removed]",
      "text/plain": [
       "<Figure size 640x480 with 1 Axes>"
      ]
     },
     "metadata": {},
     "output_type": "display_data"
    }
   ],
   "source": [
    "# Checking loss per itartion\n",
    "plt.plot(r_rnn.history['loss'], label='train loss')\n",
    "plt.plot(r_rnn.history['val_loss'], label='val loss')\n",
    "plt.legend();"
   ]
  },
  {
   "cell_type": "code",
   "execution_count": 238,
   "metadata": {
    "colab": {
     "base_uri": "https://localhost:8080/",
     "height": 430
    },
    "execution": {
     "iopub.execute_input": "2023-12-14T14:30:46.158058Z",
     "iopub.status.busy": "2023-12-14T14:30:46.157765Z",
     "iopub.status.idle": "2023-12-14T14:30:46.444126Z",
     "shell.execute_reply": "2023-12-14T14:30:46.442898Z",
     "shell.execute_reply.started": "2023-12-14T14:30:46.158033Z"
    },
    "id": "_nFwHGjELEkS",
    "outputId": "239844b7-6d6b-4356-eaca-6db9ddc07752",
    "trusted": true
   },
   "outputs": [
    {
     "data": {
      "image/png": "[encoded data removed]",
      "text/plain": [
       "<Figure size 640x480 with 1 Axes>"
      ]
     },
     "metadata": {},
     "output_type": "display_data"
    }
   ],
   "source": [
    "# Plot accuracy per iteration\n",
    "plt.plot(r_rnn.history['accuracy'], label='train acc')\n",
    "plt.plot(r_rnn.history['val_accuracy'], label='val acc')\n",
    "plt.legend();"
   ]
  },
  {
   "cell_type": "code",
   "execution_count": 239,
   "metadata": {
    "colab": {
     "base_uri": "https://localhost:8080/",
     "height": 539
    },
    "execution": {
     "iopub.execute_input": "2023-12-14T14:30:46.445952Z",
     "iopub.status.busy": "2023-12-14T14:30:46.445641Z",
     "iopub.status.idle": "2023-12-14T14:30:46.755393Z",
     "shell.execute_reply": "2023-12-14T14:30:46.754306Z",
     "shell.execute_reply.started": "2023-12-14T14:30:46.445926Z"
    },
    "id": "__p-W9jxLJ0Z",
    "outputId": "4efc60eb-4d84-4ac3-c6c1-29ac649d13cb",
    "trusted": true
   },
   "outputs": [
    {
     "data": {
      "image/png": "[encoded data removed]",
      "text/plain": [
       "<Figure size 800x600 with 2 Axes>"
      ]
     },
     "metadata": {},
     "output_type": "display_data"
    }
   ],
   "source": [
    "label_mapping = {\n",
    "    0: 'Colon_Cancer',\n",
    "    1: 'Lung_Cancer',\n",
    "    2: 'Thyroid_Cancer'\n",
    "    \n",
    "}\n",
    "marks = np.arange(len(label_mapping))\n",
    "\n",
    "cm = confusion_matrix(y_true, y_pred)\n",
    "df_cm = pd.DataFrame(cm, index=[label_mapping[i] for i in label_mapping] , columns = [label_mapping[i] for i in label_mapping])\n",
    "\n",
    "plt.figure(figsize=(8, 6))\n",
    "plt.xlabel('Predicted')\n",
    "plt.ylabel('True')\n",
    "sns.heatmap(df_cm, annot=True, annot_kws={\"size\": 16}, fmt='d', cmap='Blues')\n",
    "\n",
    "plt.show()"
   ]
  }
 ],
 "metadata": {
  "colab": {
   "provenance": []
  },
  "kernelspec": {
   "display_name": "Python 3",
   "language": "python",
   "name": "python3"
  },
  "language_info": {
   "codemirror_mode": {
    "name": "ipython",
    "version": 3
   },
   "file_extension": ".py",
   "mimetype": "text/x-python",
   "name": "python",
   "nbconvert_exporter": "python",
   "pygments_lexer": "ipython3",
   "version": "3.10.12"
  }
 },
 "nbformat": 4,
 "nbformat_minor": 4
}
